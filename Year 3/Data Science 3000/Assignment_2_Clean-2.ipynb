{
 "cells": [
  {
   "cell_type": "markdown",
   "metadata": {
    "id": "m9Rk_yqSWWPM"
   },
   "source": [
    "# Grade: /100 Mark(s)\n",
    "\n",
    "# Assignment 02: Maximum Likelihood\n",
    "\n",
    "\n",
    "### Maximum Likelihood\n",
    "\n",
    "The exponential distribution https://en.wikipedia.org/wiki/Exponential_distribution is a continuous probability distribution often used to predict time when an event might ocurr, for instance Earthquake. \n",
    "\n",
    "If we know $y$ is influenced by feature $x$, then we can use the maximum likelihood principle to develop a regression model that estimates the mean of $Y$ given $X=x$."
   ]
  },
  {
   "cell_type": "code",
   "execution_count": 1,
   "metadata": {
    "id": "Xhy3qPFeWWPS"
   },
   "outputs": [],
   "source": [
    "# Packages for this assignment\n",
    "import numpy as np\n",
    "import matplotlib.pyplot as plt\n",
    "import pandas as pd\n",
    "from scipy.optimize import minimize\n",
    "from sklearn.linear_model import LinearRegression\n",
    "%matplotlib inline"
   ]
  },
  {
   "cell_type": "markdown",
   "metadata": {
    "id": "l-V85glRWWPX"
   },
   "source": [
    "### Question 1: /10 Marks\n",
    "\n",
    "The negative log likelihood for a exponential random variable is\n",
    "\n",
    "$$\\ell(\\lambda; \\mathbf{y}) = -\\sum_{i=1}^N\\Bigg(\\ln(\\lambda) - \\lambda y_i \\Bigg)$$\n",
    "\n",
    "Here, $\\mathbf{y}=(y_i) \\in \\mathbb{R^N}$ is a vector  and $\\lambda$ is a scalar value.\n",
    "\n",
    "Define a function called `exponentialNegLogLikelihood` that takes a vector  $\\mathbf{y}$ and a parameter $\\lambda$ and returns the negative log likelihood.\n",
    "\n",
    "Test your function by calling it with `lamb = 2` and `y = np.array([1, 4, 6, 0])`.\n",
    "\n",
    "Test your function by calling it with `lamb = np.array([1, 0.5, 2, 5])` and  `y = np.array([1.5, 2.1, 3.4, 0])`.\n",
    "\n",
    "Answer in markdown:\n",
    "\n",
    "\n",
    "* Explain what the function is doing if $\\mathbf{\\lambda}=(\\lambda_i)$ and  $\\mathbf{y}=(y_i)$. This is when the arguments are vectors.\n",
    "\n",
    "* What happens when you set an element of lamb to 0 or a negative number. Why?"
   ]
  },
  {
   "cell_type": "code",
   "execution_count": 2,
   "metadata": {
    "id": "9HuWZQUIWWPa"
   },
   "outputs": [],
   "source": [
    "def exponentialNegLogLikelihood(lamb, y):\n",
    "    neg_log_lik = -np.sum(np.log(lamb)-lamb*y)\n",
    "    return neg_log_lik"
   ]
  },
  {
   "cell_type": "code",
   "execution_count": 3,
   "metadata": {
    "id": "CoLEd2jbWWPb"
   },
   "outputs": [
    {
     "name": "stdout",
     "output_type": "stream",
     "text": [
      "Test 1:  19.227411277760222\n"
     ]
    }
   ],
   "source": [
    "# Test the function\n",
    "lamb = 2\n",
    "y = np.array([1, 4, 6, 0])\n",
    "print(\"Test 1: \", exponentialNegLogLikelihood(lamb,y))"
   ]
  },
  {
   "cell_type": "code",
   "execution_count": 4,
   "metadata": {
    "id": "AWsPy3sSWWPc"
   },
   "outputs": [
    {
     "name": "stdout",
     "output_type": "stream",
     "text": [
      "Test 2:  7.740562087565899\n"
     ]
    }
   ],
   "source": [
    "# What happens when you call the function with lamb=np.array([1,0.5,2,5]) and y=np.array([1.5,2.1,3.4,0])?\n",
    "lamb = np.array([1, 0.5, 2, 5])\n",
    "y = np.array([1.5, 2.1, 3.4, 0])\n",
    "print(\"Test 2: \", exponentialNegLogLikelihood(lamb,y))"
   ]
  },
  {
   "cell_type": "code",
   "execution_count": 5,
   "metadata": {
    "id": "3SegQlLvWWPd"
   },
   "outputs": [
    {
     "name": "stdout",
     "output_type": "stream",
     "text": [
      "Test 3:  inf\n"
     ]
    },
    {
     "name": "stderr",
     "output_type": "stream",
     "text": [
      "/var/folders/7l/hzhbdmks3snf1lxq26d5wcbh0000gn/T/ipykernel_2711/3979912705.py:2: RuntimeWarning: divide by zero encountered in log\n",
      "  neg_log_lik = -np.sum(np.log(lamb)-lamb*y)\n"
     ]
    }
   ],
   "source": [
    "# look what happens if $\\lambda=0$.\n",
    "lamb = 0\n",
    "print(\"Test 3: \", exponentialNegLogLikelihood(lamb,y))"
   ]
  },
  {
   "cell_type": "code",
   "execution_count": 6,
   "metadata": {
    "id": "468hf9zQWWPd"
   },
   "outputs": [
    {
     "name": "stdout",
     "output_type": "stream",
     "text": [
      "Test 3:  nan\n"
     ]
    },
    {
     "name": "stderr",
     "output_type": "stream",
     "text": [
      "/var/folders/7l/hzhbdmks3snf1lxq26d5wcbh0000gn/T/ipykernel_2711/3979912705.py:2: RuntimeWarning: invalid value encountered in log\n",
      "  neg_log_lik = -np.sum(np.log(lamb)-lamb*y)\n"
     ]
    }
   ],
   "source": [
    "# Look what happens if $\\lambda$ is negative.\n",
    "lamb = -1\n",
    "print(\"Test 3: \", exponentialNegLogLikelihood(lamb,y))"
   ]
  },
  {
   "cell_type": "markdown",
   "metadata": {
    "id": "3acZdf7fWWPf"
   },
   "source": [
    "**Written Answer:** \n",
    "1. The function computes an exponential negative log likelihood value as they take lambda and y which are vectors. It performs computation over arrays that have the same size with elements at every corresponding position getting computed.\n",
    "\n",
    "2. When lambda is 0, the function returns inf. The closer you get to zero the larger the negative number is, which means that ln(0) is negative infinity. Since we are using negative log likelihood function, negative infinity becomes infinity. When lambda is negative, the function returns NaN. The natural logarithm function ln(x) is defined only for x>0. So the natural logarithm of a negative number is undefined."
   ]
  },
  {
   "cell_type": "markdown",
   "metadata": {
    "id": "JMGFLbQxWWPg"
   },
   "source": [
    "---\n",
    "\n",
    "### Question 2: /15 Marks\n",
    "\n",
    "Write a function called `exponentialRegressionNegLogLikelihood` that takes as arguments a vector $\\mathbf{y}$ , a design matrix $\\mathbf{X}$ of features, and a vector $\\mathbf{\\beta}$ of parameters. The function should return the negative log likelihood of this dataset, assuming that each element of  $\\mathbf{y}$ is independent, and exponentially distributed with $\\lambda=\\exp(-\\mathbf{X}\\beta)$.\n",
    "\n",
    "Test your function by calling it with \n",
    "* `b = np.array([1, 3])`\n",
    "* `X = np.array([[1.4, 2.1, 3], [2.2, 3, 1.5]]).T`\n",
    "* `y = np.array([0, 2.5, 10])`"
   ]
  },
  {
   "cell_type": "code",
   "execution_count": 7,
   "metadata": {
    "id": "aN4BWwFhWWPh"
   },
   "outputs": [],
   "source": [
    "def exponentialRegressionNegLogLikelihood(b, X, y):\n",
    "    lamb = np.exp(-X@b)\n",
    "    neg_log_lik = exponentialNegLogLikelihood(lamb, y)\n",
    "    return neg_log_lik"
   ]
  },
  {
   "cell_type": "code",
   "execution_count": 8,
   "metadata": {
    "id": "X87ItPELWWPj"
   },
   "outputs": [
    {
     "name": "stdout",
     "output_type": "stream",
     "text": [
      "Test:  26.60556862451103\n"
     ]
    }
   ],
   "source": [
    "# Test your function \n",
    "b = np.array([1, 3])\n",
    "X = np.array([[1.4, 2.1, 3], [2.2, 3, 1.5]]).T\n",
    "#print(-X@b)\n",
    "y = np.array([0, 2.5, 10])\n",
    "print(\"Test: \", exponentialRegressionNegLogLikelihood(b, X, y))"
   ]
  },
  {
   "cell_type": "markdown",
   "metadata": {
    "id": "Ek6QwVpHWWPk"
   },
   "source": [
    "---\n",
    "### Question 3: /10 Marks\n",
    "\n",
    "a) In `exponentialRegressionNegLogLikelihood`, what problem can happen if we assume that $\\lambda = \\mathbf{X}\\beta$?.\n",
    "\n",
    "\n",
    "b) What property of the exponential distribution is guaranteed when we assume that $\\lambda$ has the form of $\\exp(-\\mathbf{X}\\beta)$?: \n",
    "\n",
    "No more than 2 lines for each answer."
   ]
  },
  {
   "cell_type": "markdown",
   "metadata": {
    "id": "RsG7bTIBWWPn"
   },
   "source": [
    "**Written Answer:**\n",
    "\n",
    "a) When we minimize the appropriate likelihood function, it may occur RunTimeWarning since lambda could be zero or negative.\n",
    "\n",
    "b) Exponential distribution's support is the set of positive real numbers, so lambda cannot be zero or negative."
   ]
  },
  {
   "cell_type": "markdown",
   "metadata": {
    "id": "UNOqDSX2WWPp"
   },
   "source": [
    "---\n",
    "### Question 4: /5 Marks\n",
    "\n",
    "Define a function called `Prediction` whose arguments are a vector of coefficents $\\beta$ and a design matrix $\\mathbf{X}$, and its outputs are predictions of the form $\\widehat{\\mathbf{y}} = \\exp(\\mathbf{X}\\beta)$. \n",
    "\n",
    "Test your function by calling it with \n",
    "* `b = np.array([1, 3])`\n",
    "* `X = np.array([[1.4, 2.1, 3], [2.2, 3, 1.5]]).T`"
   ]
  },
  {
   "cell_type": "code",
   "execution_count": 9,
   "metadata": {
    "id": "PyI9g7T5WWPr"
   },
   "outputs": [],
   "source": [
    "# Definition of the Prediction\n",
    "def Prediction(b, X):\n",
    "    yhat = np.exp(X@b)\n",
    "    return yhat"
   ]
  },
  {
   "cell_type": "code",
   "execution_count": 10,
   "metadata": {
    "id": "EjtIJn4rWWPr"
   },
   "outputs": [
    {
     "name": "stdout",
     "output_type": "stream",
     "text": [
      "Test: [ 2980.95798704 66171.16016838  1808.04241446]\n"
     ]
    }
   ],
   "source": [
    "# Test the function\n",
    "b = np.array([1, 3])\n",
    "X = np.array([[1.4, 2.1, 3], [2.2, 3, 1.5]]).T\n",
    "print(\"Test:\", Prediction(b,X))"
   ]
  },
  {
   "cell_type": "markdown",
   "metadata": {
    "id": "Xc8QDlT6WWPt"
   },
   "source": [
    "---\n",
    "### Question 5: /15 Marks\n",
    "\n",
    "Define a function called `Model_fit` which accepts as its first argument a design matrix $\\mathbf{X}$ and as its second argument a vector of $\\mathbf{y}$. Its output should be the maximum likelihood estimates for the coefficients of exponential regression of $\\mathbf{y}$ onto $\\mathbf{X}$.\n",
    "\n",
    "Test your function by calling it with \n",
    "* `X = np.array([[1.4, 2.1, 3], [2.2, 3, 1.5]]).T`\n",
    "* `y = np.array([0, 2.5, 10])`\n",
    "\n",
    "Write the estimated coefficients $b$."
   ]
  },
  {
   "cell_type": "code",
   "execution_count": 11,
   "metadata": {
    "id": "WprRkxojWWPu"
   },
   "outputs": [],
   "source": [
    "# Define Model_fit\n",
    "def Model_fit(X, y):\n",
    "    # Instantiate a guess for the betas, beta_start, so that the optimizer has somewhere to start\n",
    "    # Keep in mind what shape the beta_start should be. It shoud have the same number of elements as X as columns\n",
    "    nrows, ncols = X.shape\n",
    "    beta_start = np.zeros((ncols,1))\n",
    "    \n",
    "    #print(beta_start)\n",
    "    \n",
    "    # Minimize the appropriate likelihood function\n",
    "    mle = minimize(exponentialRegressionNegLogLikelihood, beta_start, args=(X,y), method=\"powell\")\n",
    "    \n",
    "    # Extract the maximum likelihood estimates from the optimizer.\n",
    "    betas = mle.x\n",
    "    #print(mle)\n",
    "    return betas"
   ]
  },
  {
   "cell_type": "code",
   "execution_count": 12,
   "metadata": {
    "id": "BwVRCImFWWPv"
   },
   "outputs": [
    {
     "name": "stdout",
     "output_type": "stream",
     "text": [
      "[ 1.17119176 -0.72067184]\n"
     ]
    }
   ],
   "source": [
    "# Show the code to find estimated b\n",
    "X = np.array([[1.4, 2.1, 3], [2.2, 3, 1.5]]).T\n",
    "y = np.array([0, 2.5, 10])\n",
    "print(Model_fit(X,y))"
   ]
  },
  {
   "cell_type": "markdown",
   "metadata": {
    "id": "MZoXJIQ1WWPw"
   },
   "source": [
    "### Question 6: /20 Mark(s)\n",
    "\n",
    "Use the data `exponential_regression.csv` to fit a exponential regression using the functions that you already have created. In this data, $y$ is measured in time units. \n",
    "\n",
    "* What are the estimated coefficients?\n",
    "* Plot a scatterplot of the data that includes the model prediction over $x \\in [-2.14, 2.14]$. Do not forget to include a graph title."
   ]
  },
  {
   "cell_type": "code",
   "execution_count": 13,
   "metadata": {
    "id": "5yg4vHgIWWPx"
   },
   "outputs": [
    {
     "name": "stdout",
     "output_type": "stream",
     "text": [
      "Estimated coefficients: [ 0.07120564 -1.75117875]\n"
     ]
    }
   ],
   "source": [
    "# Loading in the data.\n",
    "df = pd.read_csv(\"exponential_regression.csv\", sep=';')\n",
    "\n",
    "# Create the design matrix\n",
    "x = df.x.values\n",
    "X = np.c_[np.ones(x.shape[0]), x]\n",
    "y = df.y.values\n",
    "\n",
    "# Find the maximum likelihood estimates for the coefficients for this data\n",
    "betas = Model_fit(X, y)\n",
    "print(\"Estimated coefficients:\", betas)"
   ]
  },
  {
   "cell_type": "code",
   "execution_count": 14,
   "metadata": {
    "id": "Gc1uIOGIWWPy"
   },
   "outputs": [
    {
     "data": {
      "text/plain": [
       "[<matplotlib.lines.Line2D at 0x7fec4a10c3d0>]"
      ]
     },
     "execution_count": 14,
     "metadata": {},
     "output_type": "execute_result"
    },
    {
     "data": {
      "image/png": "[encoded data removed]",
      "text/plain": [
       "<Figure size 720x480 with 1 Axes>"
      ]
     },
     "metadata": {
      "needs_background": "light"
     },
     "output_type": "display_data"
    }
   ],
   "source": [
    "# Scatterplot the data. \n",
    "fig, ax = plt.subplots(dpi = 120)\n",
    "df.plot.scatter(x='x', y='y', alpha=0.75, ax=ax)\n",
    "\n",
    "# Create the new data to graphic the prediction\n",
    "newx = np.linspace(-2.14, 2.14, 1001)\n",
    "newX = np.c_[np.ones(newx.size), newx]\n",
    "#print(newX.size)\n",
    "\n",
    "# Predictions on the new data\n",
    "y_predicted = Prediction(betas, newX)\n",
    "#print(y_predicted)\n",
    "\n",
    "#Finally, plot the predictions on the same graph\n",
    "plt.title('Exponential Regression Model')\n",
    "ax.plot(newx, y_predicted, color = 'red')"
   ]
  },
  {
   "cell_type": "markdown",
   "metadata": {},
   "source": [
    "Figure 1. Exponential Regression Model"
   ]
  },
  {
   "cell_type": "markdown",
   "metadata": {
    "id": "4eQ27DO4WWPz"
   },
   "source": [
    "### Question 7:  /20 Marks\n",
    "\n",
    "Fit a linear regression (ordinary least squares) to the data, and obtain parameter estimates and and plot the predictions over the same range.\n"
   ]
  },
  {
   "cell_type": "code",
   "execution_count": 15,
   "metadata": {
    "id": "c7j81_i5WWP0"
   },
   "outputs": [
    {
     "data": {
      "text/plain": [
       "[<matplotlib.lines.Line2D at 0x7fec1a6801f0>]"
      ]
     },
     "execution_count": 15,
     "metadata": {},
     "output_type": "execute_result"
    },
    {
     "data": {
      "image/png": "[encoded data removed]",
      "text/plain": [
       "<Figure size 720x480 with 1 Axes>"
      ]
     },
     "metadata": {
      "needs_background": "light"
     },
     "output_type": "display_data"
    }
   ],
   "source": [
    "# fit the linear regression model\n",
    "ols_fit = LinearRegression().fit(X, y)\n",
    "\n",
    "# obtain parameter estimates\n",
    "param_est = np.array([ols_fit.intercept_, ols_fit.coef_[1]])\n",
    "\n",
    "# Make predictions on the new data\n",
    "y_predicted = ols_fit.predict(newX)\n",
    "\n",
    "# Plot a scatter plot of the data and your model's predictions\n",
    "fig, ax = plt.subplots(dpi = 120)\n",
    "df.plot.scatter(x='x', y='y', alpha=0.75,ax=ax)\n",
    "plt.title('Linear Regression Model')\n",
    "ax.plot(newx, y_predicted, color = 'red')"
   ]
  },
  {
   "cell_type": "markdown",
   "metadata": {},
   "source": [
    "Figure 2. Linear Regression Model"
   ]
  },
  {
   "cell_type": "markdown",
   "metadata": {
    "id": "6cDon7VbWWP0"
   },
   "source": [
    "### Question 8: /5 Mark(s)\n",
    "\n",
    "Between this two models which one would you select? What is the major problem with predictions from linear regression? Remember that in this case $y$ is measured in time units."
   ]
  },
  {
   "cell_type": "markdown",
   "metadata": {
    "id": "_1O7hyAaWWP1"
   },
   "source": [
    "**Written answer:**\n",
    "\n",
    "I would select the exponential regression model as we can see that the linear regression model does not fit well. There are many data fay away from the linear regression line. There are some points that y becomes negative, and it does not make sense in time units."
   ]
  },
  {
   "cell_type": "markdown",
   "metadata": {
    "id": "H5M3E49EWWP2"
   },
   "source": [
    "### Follow These Instructions\n",
    "\n",
    "Once you are finished, ensure to complete the following steps.\n",
    "\n",
    "1.  Restart your kernel by clicking 'Kernel' > 'Restart & Run All'.\n",
    "\n",
    "2.  Fix any errors which result from this.\n",
    "\n",
    "3.  Repeat steps 1. and 2. until your notebook runs without errors.\n",
    "\n",
    "4.  Submit your completed notebook to OWL by the deadline."
   ]
  }
 ],
 "metadata": {
  "colab": {
   "name": "Assignment_2_Clean.ipynb",
   "provenance": []
  },
  "kernelspec": {
   "display_name": "Python 3 (ipykernel)",
   "language": "python",
   "name": "python3"
  },
  "language_info": {
   "codemirror_mode": {
    "name": "ipython",
    "version": 3
   },
   "file_extension": ".py",
   "mimetype": "text/x-python",
   "name": "python",
   "nbconvert_exporter": "python",
   "pygments_lexer": "ipython3",
   "version": "3.9.7"
  }
 },
 "nbformat": 4,
 "nbformat_minor": 1
}
