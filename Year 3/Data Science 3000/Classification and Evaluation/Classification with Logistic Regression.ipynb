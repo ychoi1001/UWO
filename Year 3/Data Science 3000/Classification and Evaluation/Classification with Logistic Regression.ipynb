{
 "cells": [
  {
   "cell_type": "markdown",
   "metadata": {
    "id": "YtIuUwG9VAH4"
   },
   "source": [
    "# Classification with Logistic Regression\n",
    "We are going to explain how machine learning can help in a bank marketing campaign.\n",
    "\n",
    "## The Dataset\n",
    "The goal of our classifier is to predict, using a logistic regression, if a client may subscribe to a fixed term deposit. Often, more than one contact to the same client was required, in order to access if the product (bank term deposit) would be (‘yes’) or not (‘no’) subscribed.\n",
    "\n",
    "The dataset contains both numerical and categorical input variables, while the response variable ('target') takes value 1 in case of 'yes' and 0 in case of 'no'.\n",
    "\n",
    "You can read more about the data and the variables [here](https://archive.ics.uci.edu/ml/datasets/bank+marketing)."
   ]
  },
  {
   "cell_type": "code",
   "execution_count": 1,
   "metadata": {
    "id": "NkVuBc6jVAH9"
   },
   "outputs": [],
   "source": [
    "# Import all the necessary packages: \n",
    "import pandas as pd\n",
    "import numpy as np\n",
    "from sklearn.model_selection import train_test_split\n",
    "from sklearn.linear_model import LogisticRegression\n",
    "from sklearn.metrics import confusion_matrix, roc_curve, precision_recall_curve, auc\n",
    "import seaborn as sns\n",
    "import matplotlib.pyplot as plt\n",
    "%matplotlib inline"
   ]
  },
  {
   "cell_type": "markdown",
   "metadata": {
    "id": "-VEMPe8HVAIA"
   },
   "source": [
    "## Part 1"
   ]
  },
  {
   "cell_type": "code",
   "execution_count": 2,
   "metadata": {
    "id": "QqmKCVBxVAIF"
   },
   "outputs": [
    {
     "data": {
      "text/html": [
       "<div>\n",
       "<style scoped>\n",
       "    .dataframe tbody tr th:only-of-type {\n",
       "        vertical-align: middle;\n",
       "    }\n",
       "\n",
       "    .dataframe tbody tr th {\n",
       "        vertical-align: top;\n",
       "    }\n",
       "\n",
       "    .dataframe thead th {\n",
       "        text-align: right;\n",
       "    }\n",
       "</style>\n",
       "<table border=\"1\" class=\"dataframe\">\n",
       "  <thead>\n",
       "    <tr style=\"text-align: right;\">\n",
       "      <th></th>\n",
       "      <th>age</th>\n",
       "      <th>job</th>\n",
       "      <th>marital</th>\n",
       "      <th>education</th>\n",
       "      <th>default</th>\n",
       "      <th>balance</th>\n",
       "      <th>housing</th>\n",
       "      <th>loan</th>\n",
       "      <th>day</th>\n",
       "      <th>month</th>\n",
       "      <th>duration</th>\n",
       "      <th>campaign</th>\n",
       "      <th>pdays</th>\n",
       "      <th>previous</th>\n",
       "      <th>poutcome</th>\n",
       "      <th>target</th>\n",
       "    </tr>\n",
       "  </thead>\n",
       "  <tbody>\n",
       "    <tr>\n",
       "      <th>0</th>\n",
       "      <td>58</td>\n",
       "      <td>management</td>\n",
       "      <td>married</td>\n",
       "      <td>tertiary</td>\n",
       "      <td>0</td>\n",
       "      <td>2143</td>\n",
       "      <td>1</td>\n",
       "      <td>0</td>\n",
       "      <td>5</td>\n",
       "      <td>may</td>\n",
       "      <td>4.35</td>\n",
       "      <td>1</td>\n",
       "      <td>-1</td>\n",
       "      <td>0</td>\n",
       "      <td>unknown</td>\n",
       "      <td>no</td>\n",
       "    </tr>\n",
       "    <tr>\n",
       "      <th>1</th>\n",
       "      <td>44</td>\n",
       "      <td>technician</td>\n",
       "      <td>single</td>\n",
       "      <td>secondary</td>\n",
       "      <td>0</td>\n",
       "      <td>29</td>\n",
       "      <td>1</td>\n",
       "      <td>0</td>\n",
       "      <td>5</td>\n",
       "      <td>may</td>\n",
       "      <td>2.52</td>\n",
       "      <td>1</td>\n",
       "      <td>-1</td>\n",
       "      <td>0</td>\n",
       "      <td>unknown</td>\n",
       "      <td>no</td>\n",
       "    </tr>\n",
       "    <tr>\n",
       "      <th>2</th>\n",
       "      <td>33</td>\n",
       "      <td>entrepreneur</td>\n",
       "      <td>married</td>\n",
       "      <td>secondary</td>\n",
       "      <td>0</td>\n",
       "      <td>2</td>\n",
       "      <td>1</td>\n",
       "      <td>1</td>\n",
       "      <td>5</td>\n",
       "      <td>may</td>\n",
       "      <td>1.27</td>\n",
       "      <td>1</td>\n",
       "      <td>-1</td>\n",
       "      <td>0</td>\n",
       "      <td>unknown</td>\n",
       "      <td>no</td>\n",
       "    </tr>\n",
       "    <tr>\n",
       "      <th>3</th>\n",
       "      <td>35</td>\n",
       "      <td>management</td>\n",
       "      <td>married</td>\n",
       "      <td>tertiary</td>\n",
       "      <td>0</td>\n",
       "      <td>231</td>\n",
       "      <td>1</td>\n",
       "      <td>0</td>\n",
       "      <td>5</td>\n",
       "      <td>may</td>\n",
       "      <td>2.32</td>\n",
       "      <td>1</td>\n",
       "      <td>-1</td>\n",
       "      <td>0</td>\n",
       "      <td>unknown</td>\n",
       "      <td>no</td>\n",
       "    </tr>\n",
       "    <tr>\n",
       "      <th>4</th>\n",
       "      <td>28</td>\n",
       "      <td>management</td>\n",
       "      <td>single</td>\n",
       "      <td>tertiary</td>\n",
       "      <td>0</td>\n",
       "      <td>447</td>\n",
       "      <td>1</td>\n",
       "      <td>1</td>\n",
       "      <td>5</td>\n",
       "      <td>may</td>\n",
       "      <td>3.62</td>\n",
       "      <td>1</td>\n",
       "      <td>-1</td>\n",
       "      <td>0</td>\n",
       "      <td>unknown</td>\n",
       "      <td>no</td>\n",
       "    </tr>\n",
       "  </tbody>\n",
       "</table>\n",
       "</div>"
      ],
      "text/plain": [
       "   age           job  marital  education  default  balance  housing  loan  \\\n",
       "0   58    management  married   tertiary        0     2143        1     0   \n",
       "1   44    technician   single  secondary        0       29        1     0   \n",
       "2   33  entrepreneur  married  secondary        0        2        1     1   \n",
       "3   35    management  married   tertiary        0      231        1     0   \n",
       "4   28    management   single   tertiary        0      447        1     1   \n",
       "\n",
       "   day month  duration  campaign  pdays  previous poutcome target  \n",
       "0    5   may      4.35         1     -1         0  unknown     no  \n",
       "1    5   may      2.52         1     -1         0  unknown     no  \n",
       "2    5   may      1.27         1     -1         0  unknown     no  \n",
       "3    5   may      2.32         1     -1         0  unknown     no  \n",
       "4    5   may      3.62         1     -1         0  unknown     no  "
      ]
     },
     "metadata": {},
     "output_type": "display_data"
    }
   ],
   "source": [
    "# Read the dataset\n",
    "df = pd.read_csv(\"bank_A3.csv\")\n",
    "\n",
    "# Display the first 5 rows\n",
    "display(df.head())"
   ]
  },
  {
   "cell_type": "code",
   "execution_count": 3,
   "metadata": {},
   "outputs": [
    {
     "data": {
      "text/plain": [
       "Index(['age', 'job', 'marital', 'education', 'default', 'balance', 'housing',\n",
       "       'loan', 'day', 'month', 'duration', 'campaign', 'pdays', 'previous',\n",
       "       'poutcome', 'target'],\n",
       "      dtype='object')"
      ]
     },
     "execution_count": 3,
     "metadata": {},
     "output_type": "execute_result"
    }
   ],
   "source": [
    "# Print out all columns in the dataset\n",
    "df.columns"
   ]
  },
  {
   "cell_type": "code",
   "execution_count": 4,
   "metadata": {},
   "outputs": [
    {
     "data": {
      "text/plain": [
       "age            int64\n",
       "job           object\n",
       "marital       object\n",
       "education     object\n",
       "default        int64\n",
       "balance        int64\n",
       "housing        int64\n",
       "loan           int64\n",
       "day            int64\n",
       "month         object\n",
       "duration     float64\n",
       "campaign       int64\n",
       "pdays          int64\n",
       "previous       int64\n",
       "poutcome      object\n",
       "target        object\n",
       "dtype: object"
      ]
     },
     "execution_count": 4,
     "metadata": {},
     "output_type": "execute_result"
    }
   ],
   "source": [
    "# list all categorical variables\n",
    "df.dtypes"
   ]
  },
  {
   "cell_type": "code",
   "execution_count": 5,
   "metadata": {},
   "outputs": [
    {
     "data": {
      "text/plain": [
       "job          object\n",
       "marital      object\n",
       "education    object\n",
       "day          object\n",
       "month        object\n",
       "poutcome     object\n",
       "target       object\n",
       "dtype: object"
      ]
     },
     "execution_count": 5,
     "metadata": {},
     "output_type": "execute_result"
    }
   ],
   "source": [
    "# Since days should be seen as categorical variable we have to change the data type of this column\n",
    "df.day = df.day.astype('object')\n",
    "df.dtypes[df.dtypes=='object']"
   ]
  },
  {
   "cell_type": "code",
   "execution_count": 6,
   "metadata": {},
   "outputs": [
    {
     "data": {
      "text/html": [
       "<div>\n",
       "<style scoped>\n",
       "    .dataframe tbody tr th:only-of-type {\n",
       "        vertical-align: middle;\n",
       "    }\n",
       "\n",
       "    .dataframe tbody tr th {\n",
       "        vertical-align: top;\n",
       "    }\n",
       "\n",
       "    .dataframe thead th {\n",
       "        text-align: right;\n",
       "    }\n",
       "</style>\n",
       "<table border=\"1\" class=\"dataframe\">\n",
       "  <thead>\n",
       "    <tr style=\"text-align: right;\">\n",
       "      <th></th>\n",
       "      <th>age</th>\n",
       "      <th>default</th>\n",
       "      <th>balance</th>\n",
       "      <th>housing</th>\n",
       "      <th>loan</th>\n",
       "      <th>duration</th>\n",
       "      <th>campaign</th>\n",
       "      <th>pdays</th>\n",
       "      <th>previous</th>\n",
       "      <th>target</th>\n",
       "      <th>...</th>\n",
       "      <th>day_25</th>\n",
       "      <th>day_26</th>\n",
       "      <th>day_27</th>\n",
       "      <th>day_28</th>\n",
       "      <th>day_29</th>\n",
       "      <th>day_30</th>\n",
       "      <th>day_31</th>\n",
       "      <th>poutcome_failure</th>\n",
       "      <th>poutcome_success</th>\n",
       "      <th>poutcome_unknown</th>\n",
       "    </tr>\n",
       "  </thead>\n",
       "  <tbody>\n",
       "    <tr>\n",
       "      <th>0</th>\n",
       "      <td>58</td>\n",
       "      <td>0</td>\n",
       "      <td>2143</td>\n",
       "      <td>1</td>\n",
       "      <td>0</td>\n",
       "      <td>4.35</td>\n",
       "      <td>1</td>\n",
       "      <td>-1</td>\n",
       "      <td>0</td>\n",
       "      <td>no</td>\n",
       "      <td>...</td>\n",
       "      <td>0</td>\n",
       "      <td>0</td>\n",
       "      <td>0</td>\n",
       "      <td>0</td>\n",
       "      <td>0</td>\n",
       "      <td>0</td>\n",
       "      <td>0</td>\n",
       "      <td>0</td>\n",
       "      <td>0</td>\n",
       "      <td>1</td>\n",
       "    </tr>\n",
       "    <tr>\n",
       "      <th>1</th>\n",
       "      <td>44</td>\n",
       "      <td>0</td>\n",
       "      <td>29</td>\n",
       "      <td>1</td>\n",
       "      <td>0</td>\n",
       "      <td>2.52</td>\n",
       "      <td>1</td>\n",
       "      <td>-1</td>\n",
       "      <td>0</td>\n",
       "      <td>no</td>\n",
       "      <td>...</td>\n",
       "      <td>0</td>\n",
       "      <td>0</td>\n",
       "      <td>0</td>\n",
       "      <td>0</td>\n",
       "      <td>0</td>\n",
       "      <td>0</td>\n",
       "      <td>0</td>\n",
       "      <td>0</td>\n",
       "      <td>0</td>\n",
       "      <td>1</td>\n",
       "    </tr>\n",
       "    <tr>\n",
       "      <th>2</th>\n",
       "      <td>33</td>\n",
       "      <td>0</td>\n",
       "      <td>2</td>\n",
       "      <td>1</td>\n",
       "      <td>1</td>\n",
       "      <td>1.27</td>\n",
       "      <td>1</td>\n",
       "      <td>-1</td>\n",
       "      <td>0</td>\n",
       "      <td>no</td>\n",
       "      <td>...</td>\n",
       "      <td>0</td>\n",
       "      <td>0</td>\n",
       "      <td>0</td>\n",
       "      <td>0</td>\n",
       "      <td>0</td>\n",
       "      <td>0</td>\n",
       "      <td>0</td>\n",
       "      <td>0</td>\n",
       "      <td>0</td>\n",
       "      <td>1</td>\n",
       "    </tr>\n",
       "    <tr>\n",
       "      <th>3</th>\n",
       "      <td>35</td>\n",
       "      <td>0</td>\n",
       "      <td>231</td>\n",
       "      <td>1</td>\n",
       "      <td>0</td>\n",
       "      <td>2.32</td>\n",
       "      <td>1</td>\n",
       "      <td>-1</td>\n",
       "      <td>0</td>\n",
       "      <td>no</td>\n",
       "      <td>...</td>\n",
       "      <td>0</td>\n",
       "      <td>0</td>\n",
       "      <td>0</td>\n",
       "      <td>0</td>\n",
       "      <td>0</td>\n",
       "      <td>0</td>\n",
       "      <td>0</td>\n",
       "      <td>0</td>\n",
       "      <td>0</td>\n",
       "      <td>1</td>\n",
       "    </tr>\n",
       "    <tr>\n",
       "      <th>4</th>\n",
       "      <td>28</td>\n",
       "      <td>0</td>\n",
       "      <td>447</td>\n",
       "      <td>1</td>\n",
       "      <td>1</td>\n",
       "      <td>3.62</td>\n",
       "      <td>1</td>\n",
       "      <td>-1</td>\n",
       "      <td>0</td>\n",
       "      <td>no</td>\n",
       "      <td>...</td>\n",
       "      <td>0</td>\n",
       "      <td>0</td>\n",
       "      <td>0</td>\n",
       "      <td>0</td>\n",
       "      <td>0</td>\n",
       "      <td>0</td>\n",
       "      <td>0</td>\n",
       "      <td>0</td>\n",
       "      <td>0</td>\n",
       "      <td>1</td>\n",
       "    </tr>\n",
       "  </tbody>\n",
       "</table>\n",
       "<p>5 rows × 74 columns</p>\n",
       "</div>"
      ],
      "text/plain": [
       "   age  default  balance  housing  loan  duration  campaign  pdays  previous  \\\n",
       "0   58        0     2143        1     0      4.35         1     -1         0   \n",
       "1   44        0       29        1     0      2.52         1     -1         0   \n",
       "2   33        0        2        1     1      1.27         1     -1         0   \n",
       "3   35        0      231        1     0      2.32         1     -1         0   \n",
       "4   28        0      447        1     1      3.62         1     -1         0   \n",
       "\n",
       "  target  ...  day_25  day_26  day_27  day_28  day_29  day_30  day_31  \\\n",
       "0     no  ...       0       0       0       0       0       0       0   \n",
       "1     no  ...       0       0       0       0       0       0       0   \n",
       "2     no  ...       0       0       0       0       0       0       0   \n",
       "3     no  ...       0       0       0       0       0       0       0   \n",
       "4     no  ...       0       0       0       0       0       0       0   \n",
       "\n",
       "   poutcome_failure  poutcome_success  poutcome_unknown  \n",
       "0                 0                 0                 1  \n",
       "1                 0                 0                 1  \n",
       "2                 0                 0                 1  \n",
       "3                 0                 0                 1  \n",
       "4                 0                 0                 1  \n",
       "\n",
       "[5 rows x 74 columns]"
      ]
     },
     "metadata": {},
     "output_type": "display_data"
    }
   ],
   "source": [
    "# Convert all categorical variables (exclude target variable) to dummy variables\n",
    "df = pd.get_dummies(df, columns = [\"job\", \"marital\", \"education\", \"month\", \"day\", \"poutcome\"])\n",
    "display(df.head())"
   ]
  },
  {
   "cell_type": "code",
   "execution_count": 6,
   "metadata": {},
   "outputs": [
    {
     "data": {
      "text/plain": [
       "(40841, 74)"
      ]
     },
     "execution_count": 6,
     "metadata": {},
     "output_type": "execute_result"
    }
   ],
   "source": [
    "# Size of the dataframe after transforming\n",
    "df.shape"
   ]
  },
  {
   "cell_type": "markdown",
   "metadata": {
    "id": "O4IcqUO7VAIK"
   },
   "source": [
    "> Categorical columns: \"job\", \"marital\", \"education\", \"month\", \"day\", \"default\", \"housing\", \"poutcome\", and \"target\" (Notice that default and housing are already binary variables)"
   ]
  },
  {
   "cell_type": "code",
   "execution_count": 7,
   "metadata": {
    "id": "VUDUlM3DVAIN"
   },
   "outputs": [
    {
     "name": "stdout",
     "output_type": "stream",
     "text": [
      "0    36202\n",
      "1     4639\n",
      "Name: target, dtype: int64\n",
      "Baseline accuracy: 0.886\n"
     ]
    }
   ],
   "source": [
    "# Map the target values from yes/no to 1/0\n",
    "df.target = df.target.map(dict(yes=1, no=0))\n",
    "\n",
    "# Calculate Baseline accuracy\n",
    "print(df.target.value_counts())\n",
    "baselineacc = 36202 / (36202 + 4639)\n",
    "print(f\"Baseline accuracy: {round(baselineacc,3)}\")"
   ]
  },
  {
   "cell_type": "markdown",
   "metadata": {
    "id": "ppQ0gpF0VAIQ"
   },
   "source": [
    "> Baseline accuracy for this classification problem is 0.886."
   ]
  },
  {
   "cell_type": "markdown",
   "metadata": {
    "id": "nKs5-XYmVAIT"
   },
   "source": [
    "## Part 2\n",
    "\n",
    "Split the data into train and test for the outcome/response and the predictor variables. Hold out 30% of observations as the test set.  Pass `random_state=0` to `train_test_split` to ensure you get the same train and tests sets as the solution. Your dependent variable in the the dataset is named as `target`."
   ]
  },
  {
   "cell_type": "code",
   "execution_count": 8,
   "metadata": {
    "id": "F0IeZszTVAIU"
   },
   "outputs": [],
   "source": [
    "# Split data into train and test for the outcome/response and the predictor variables\n",
    "# Don't use the \"target\" as a feature\n",
    "X = df.drop('target', axis='columns').values\n",
    "y = df.target.values\n",
    "Xtrain, Xtest, ytrain, ytest = train_test_split(X, y, test_size = 0.3, random_state = 0)"
   ]
  },
  {
   "cell_type": "markdown",
   "metadata": {
    "heading_collapsed": true,
    "id": "HXrJWM2pVAIW"
   },
   "source": [
    "## Part 3\n",
    "\n",
    "* Does `LogisticRegression` use a penalty by default?  If yes, what penalty?\n",
    "\n",
    "**LogisticRegression uses a penalty by default and default penalty is l2 penalty which is adding a L2 penalty term which is the square of the magnitude of coefficients.**\n",
    "    \n",
    "* If we apply a penalty during learning, what difference do you expect to see in the resulting coefficients, relative to not applying a penalty during learning? \n",
    "\n",
    "**If we add a penalty during learning, coefficients will be decreased, relative to not applying a penalty during learning.**\n",
    "    \n",
    "* If using the default settings of `LogisticRegression` in `sklearn`, should you include a column of 1s in your feature/design matrix? Briefly explain why or why not.\n",
    "\n",
    "**No, because the defualt settings sets fit_intercept = True and this adds self.coef_ to the decision function.**"
   ]
  },
  {
   "cell_type": "markdown",
   "metadata": {
    "id": "s4r5oRIlVAIX"
   },
   "source": [
    "## Part 4\n"
   ]
  },
  {
   "cell_type": "markdown",
   "metadata": {
    "id": "St-YYuMOVAIY"
   },
   "source": [
    "Create a instance of sklearn's `LogisticRegression` object for **unpenalized** logistic regression.\n",
    "Using this object, **run a logisitic regression analysis** of `target` (y-variable) against `age`,`default` and `balance` (x-variables) using your training data. Report the parameters of your model as indicated with the `print` function."
   ]
  },
  {
   "cell_type": "code",
   "execution_count": 10,
   "metadata": {
    "id": "wLBVkm5hVAIa"
   },
   "outputs": [],
   "source": [
    "# Create a instance of sklearn's LogisticRegression object for unpenalized logistic regression\n",
    "bankLR = LogisticRegression(penalty = 'none')\n",
    "\n",
    "# Get new x train for age, default and balance\n",
    "xvar = Xtrain[:,[0,1,2]]\n",
    "\n",
    "# Run a logistic regression analysis of target against age, default and balance (x-variables) using your training data\n",
    "banklr = bankLR.fit(xvar, ytrain)"
   ]
  },
  {
   "cell_type": "code",
   "execution_count": 11,
   "metadata": {
    "id": "42JIIgNvVAIb"
   },
   "outputs": [
    {
     "name": "stdout",
     "output_type": "stream",
     "text": [
      "The parameters of the model asociated to age, default and balance are respectively: [[ 4.79992558e-03 -1.61159655e-01  1.06077252e-04]]\n"
     ]
    }
   ],
   "source": [
    "print(f'The parameters of the model asociated to age, default and balance are respectively: {banklr.coef_}')"
   ]
  },
  {
   "cell_type": "code",
   "execution_count": 12,
   "metadata": {
    "id": "1UDyakjDVAIc"
   },
   "outputs": [
    {
     "name": "stdout",
     "output_type": "stream",
     "text": [
      "The intercept of the model is: [-2.37537647]\n"
     ]
    }
   ],
   "source": [
    "print(f'The intercept of the model is: {banklr.intercept_}')"
   ]
  },
  {
   "cell_type": "markdown",
   "metadata": {
    "id": "VJKwvz-NVAId"
   },
   "source": [
    "Compute the label-based criteria for your three variables only classifier **using the test data**. Use a threshold of 0.5."
   ]
  },
  {
   "cell_type": "code",
   "execution_count": 15,
   "metadata": {
    "id": "PXgFWRHnVAId"
   },
   "outputs": [],
   "source": [
    "## Put code here to compute criteria:\n",
    "# TP: true postives \n",
    "# TN: true negatives \n",
    "# FP: False positives \n",
    "# FN: False negatives\n",
    "def compute_performance(yhat, y, classes):\n",
    "    # First, get tp, tn, fp, fn\n",
    "    tp = sum(np.logical_and(yhat == classes[1], y == classes[1]))\n",
    "    tn = sum(np.logical_and(yhat == classes[0], y == classes[0]))\n",
    "    fp = sum(np.logical_and(yhat == classes[1], y == classes[0]))\n",
    "    fn = sum(np.logical_and(yhat == classes[0], y == classes[1]))\n",
    "\n",
    "    print(f\"tp: {tp} tn: {tn} fp: {fp} fn: {fn}\")\n",
    "    \n",
    "    # Accuracy\n",
    "    # \"Of the ones I labeled +, how many are actually +?\"\n",
    "    acc = (tp + tn) / (tp + tn + fp + fn)   \n",
    "    \n",
    "    # Precision\n",
    "    # \"Of all the + in the data, how many do I correctly label?\"\n",
    "    precision = tp / (tp + fp)\n",
    "    \n",
    "    # Recall\n",
    "    # \"Of all the + in the data, how many do I correctly label?\"\n",
    "    recall = tp / (tp + fn)    \n",
    "    \n",
    "    # Sensitivity\n",
    "    sensitivity = recall\n",
    "    \n",
    "    # Specificity\n",
    "    # \"Of all the - in the data, how many do I correctly label?\"\n",
    "    specificity = tn / (fp + tn)\n",
    "    \n",
    "    # Print results\n",
    "    print(\"Accuracy:\",round(acc,3),\"Recall:\",round(recall,3),\"Precision:\",round(precision,3),\n",
    "          \"Sensitivity:\",round(sensitivity,3),\"Specificity:\",round(specificity,3))"
   ]
  },
  {
   "cell_type": "code",
   "execution_count": 21,
   "metadata": {
    "id": "VcwYP53QVAIf"
   },
   "outputs": [
    {
     "name": "stdout",
     "output_type": "stream",
     "text": [
      "[[0.89884829 0.10115171]\n",
      " [0.89609598 0.10390402]\n",
      " [0.89419682 0.10580318]\n",
      " ...\n",
      " [0.89262856 0.10737144]\n",
      " [0.88595431 0.11404569]\n",
      " [0.89803042 0.10196958]]\n",
      "[0 0 0 ... 0 0 0]\n",
      "tp: 0 tn: 10870 fp: 0 fn: 1383\n",
      "Accuracy: 0.887 Recall: 0.0 Precision: nan Sensitivity: 0.0 Specificity: 1.0\n"
     ]
    },
    {
     "name": "stderr",
     "output_type": "stream",
     "text": [
      "/var/folders/7l/hzhbdmks3snf1lxq26d5wcbh0000gn/T/ipykernel_73042/3343235676.py:21: RuntimeWarning: invalid value encountered in long_scalars\n",
      "  precision = tp / (tp + fp)\n"
     ]
    }
   ],
   "source": [
    "# Compute the label-based criteria for three variables only classifier using the test data.\n",
    "ytest_prob = banklr.predict_proba(Xtest[:,0:3])\n",
    "print(ytest_prob)\n",
    "\n",
    "# Use a threshold of 0.5\n",
    "yhat = banklr.classes_[(ytest_prob[:,1] > 0.5).astype(int)]\n",
    "print(yhat)\n",
    "\n",
    "# Compute it\n",
    "compute_performance(yhat, ytest, banklr.classes_)"
   ]
  },
  {
   "cell_type": "markdown",
   "metadata": {
    "id": "CTVpnt_6VAIg"
   },
   "source": [
    "- Since true positive and false positive are zero, it occurs zero division error. The accuracy for the model is 88.7% vs. the baseline is 88.6%, it is roughly the same. Recall and sensitive are both 0. Precision cannot be calculated as all cases are assigned as negative and the denominator of precision (tp+fp) is zero which causes a math error.\n",
    "- It labeled everything negative and it is wrong. Since the classifier predicts everyone as a negative (tp+tf = 0 means no case is labelled as postive), even if the accuracy is as high as almost 90%, the model does not learn anything from it."
   ]
  },
  {
   "cell_type": "markdown",
   "metadata": {
    "id": "IgnW6UBuVAIh"
   },
   "source": [
    "## Part 5\n",
    "Now fit a logistic regression model with default penalty method to the training data and include all the variables in the data frame (except for `target`)."
   ]
  },
  {
   "cell_type": "code",
   "execution_count": 22,
   "metadata": {
    "id": "95P5VpaVVAIi"
   },
   "outputs": [
    {
     "name": "stdout",
     "output_type": "stream",
     "text": [
      "The parameters of the model are respectively:\n",
      " [[-5.47017768e-03  3.03986096e-03  3.59170279e-05 -6.89732995e-01\n",
      "  -2.97404412e-01  2.48533438e-01 -9.40104501e-02  5.16654694e-04\n",
      "   4.84028039e-02  1.41144759e-01 -2.37599607e-01 -2.93087710e-01\n",
      "  -3.64134376e-01 -8.64925349e-02 -1.23337596e-01  3.99356420e-01\n",
      "  -2.56494331e-01 -1.58383774e-01  4.38113565e-01 -7.38963873e-02\n",
      "  -1.14544870e-01 -1.89241383e-01 -4.21130553e-01 -1.18984505e-01\n",
      "  -3.90385952e-01 -2.50006805e-01 -8.89636846e-02  1.73033522e-01\n",
      "  -6.03765345e-01  2.92152991e-01 -1.85065275e-01 -7.80451124e-01\n",
      "  -8.33811339e-01 -4.87368424e-01  1.54070817e+00 -1.04659822e+00\n",
      "  -5.14550243e-01  9.43171641e-01  7.73187205e-01  1.59763236e-01\n",
      "  -1.35069900e-01  1.97611681e-01  6.02511059e-02 -1.41962590e-01\n",
      "  -4.60475588e-01 -2.32147674e-01  6.77837378e-02 -1.08546043e-01\n",
      "   3.37657921e-01  5.16144380e-03  2.35768072e-01  2.94626212e-01\n",
      "   1.59568330e-01  2.96809283e-01 -1.76657703e-01 -4.16286487e-01\n",
      "  -4.52571430e-02 -6.74132625e-01 -4.83882589e-01 -2.44044253e-01\n",
      "   1.27855070e-01  3.27424396e-01  3.03172377e-02  4.22954149e-01\n",
      "  -3.03631132e-02  2.45567636e-01 -3.18294230e-01 -5.61089986e-01\n",
      "   2.95065445e-01  3.46685252e-02 -9.81933754e-01  1.29183789e+00\n",
      "  -1.03926058e+00]]\n",
      "The intercept of the model is: [-0.7464361]\n"
     ]
    }
   ],
   "source": [
    "# Fit a logistic regression model with default penalty method to the training data and include all the variables in the data frame (except for target)\n",
    "bankLR2 = LogisticRegression(penalty='l2', solver='lbfgs', max_iter=10000)\n",
    "banklr2 = bankLR2.fit(Xtrain, ytrain)\n",
    "\n",
    "# Print parameters and intercept\n",
    "print(f'The parameters of the model are respectively:\\n {banklr2.coef_}')\n",
    "print(f'The intercept of the model is: {banklr2.intercept_}')"
   ]
  },
  {
   "cell_type": "markdown",
   "metadata": {
    "id": "ypHeyF9nVAIk"
   },
   "source": [
    "## Part 6\n",
    "\n",
    "Compute the label-based criteria we discussed in the Lesson for new classifier using the test data. Use a threshold of 0.5. "
   ]
  },
  {
   "cell_type": "code",
   "execution_count": 23,
   "metadata": {
    "id": "LlzJjA2zVAIk"
   },
   "outputs": [
    {
     "name": "stdout",
     "output_type": "stream",
     "text": [
      "tp: 483 tn: 10617 fp: 253 fn: 900\n",
      "Accuracy: 0.906 Recall: 0.349 Precision: 0.656 Sensitivity: 0.349 Specificity: 0.977\n"
     ]
    }
   ],
   "source": [
    "# Compute the label-based criteria for new classifier using the test data.\n",
    "ytest_prob2 = banklr2.predict_proba(Xtest)\n",
    "\n",
    "# Use a threshold of 0.5.\n",
    "yhat2 = banklr2.classes_[(ytest_prob2[:,1] > 0.5).astype(int)]\n",
    "\n",
    "# Compute it\n",
    "compute_performance(yhat2, ytest, banklr2.classes_)"
   ]
  },
  {
   "cell_type": "markdown",
   "metadata": {
    "id": "ijjDiEr0VAIl"
   },
   "source": [
    "- This classifier is better for classifying our target as its' accuracy is very high. Also, recall, precision, sensitivity, and specificity are all larger than the previous classifier. Since the classifier has non-zero true positives, it is more useful than the previous classifier for classifing the target, the more complex model is learning something comparing with the simplier one which learns nothing."
   ]
  },
  {
   "cell_type": "markdown",
   "metadata": {
    "id": "6mKds6FoVAIl"
   },
   "source": [
    "## Part 7\n",
    "Predict the probability coding your own sigmoid function."
   ]
  },
  {
   "cell_type": "code",
   "execution_count": 24,
   "metadata": {
    "id": "VBQPDo2hVAIm"
   },
   "outputs": [],
   "source": [
    "# Create sigmoid function\n",
    "sigmoid = lambda x: 1 / (1 + np.exp(-x))"
   ]
  },
  {
   "cell_type": "code",
   "execution_count": 25,
   "metadata": {},
   "outputs": [
    {
     "data": {
      "text/plain": [
       "array([[ 34.,   0., 261.],\n",
       "       [ 46.,   0.,   0.],\n",
       "       [ 41.,   0., 417.],\n",
       "       [ 54.,   0., 653.],\n",
       "       [ 34.,   0.,   0.]])"
      ]
     },
     "execution_count": 25,
     "metadata": {},
     "output_type": "execute_result"
    }
   ],
   "source": [
    "Xtest[0:5:,0:3]"
   ]
  },
  {
   "cell_type": "code",
   "execution_count": 26,
   "metadata": {
    "id": "ZOqYE4myVAIn"
   },
   "outputs": [
    {
     "name": "stdout",
     "output_type": "stream",
     "text": [
      "[[0.10115171]\n",
      " [0.10390402]\n",
      " [0.10580318]\n",
      " [0.11436477]\n",
      " [0.09866213]]\n"
     ]
    }
   ],
   "source": [
    "# First 5 probabilities using Part 4 model\n",
    "z = np.dot(Xtest[:,[0,1,2]], banklr.coef_.T) + banklr.intercept_\n",
    "\n",
    "print(sigmoid(z)[0:5])"
   ]
  },
  {
   "cell_type": "code",
   "execution_count": 27,
   "metadata": {
    "id": "eYuRiNnWVAIn"
   },
   "outputs": [
    {
     "data": {
      "text/plain": [
       "array([[0.06427515],\n",
       "       [0.0333046 ],\n",
       "       [0.04467433],\n",
       "       [0.04323054],\n",
       "       [0.06714354]])"
      ]
     },
     "execution_count": 27,
     "metadata": {},
     "output_type": "execute_result"
    }
   ],
   "source": [
    "# First 5 probabilities using Part 5 model\n",
    "z2 = np.dot(Xtest, banklr2.coef_.T) + banklr2.intercept_\n",
    "\n",
    "sigmoid(z2[0:5])"
   ]
  },
  {
   "cell_type": "markdown",
   "metadata": {
    "id": "YTRQDdiYVAIo"
   },
   "source": [
    "- The probability given by the sigmoid function is the probability of being labelled as positive\n",
    "\n",
    "- It looks like the probabilities of being positive for the first 5 cases drop using all variables as dependent variables, it does not really change the final results for the first 5 cases though."
   ]
  },
  {
   "cell_type": "markdown",
   "metadata": {
    "id": "uADlUmjvVAIo"
   },
   "source": [
    "# Part 8\n",
    "\n",
    "Plot ROC curves for both of your classifiers."
   ]
  },
  {
   "cell_type": "code",
   "execution_count": 28,
   "metadata": {
    "id": "hqbRzZkgVAIp"
   },
   "outputs": [
    {
     "name": "stderr",
     "output_type": "stream",
     "text": [
      "/Users/oliviachoi/opt/anaconda3/lib/python3.9/site-packages/seaborn/_decorators.py:36: FutureWarning: Pass the following variables as keyword args: x, y. From version 0.12, the only valid positional argument will be `data`, and passing other arguments without an explicit keyword will result in an error or misinterpretation.\n",
      "  warnings.warn(\n"
     ]
    },
    {
     "data": {
      "text/plain": [
       "0.5642663476396591"
      ]
     },
     "execution_count": 28,
     "metadata": {},
     "output_type": "execute_result"
    },
    {
     "data": {
      "image/png": "[encoded data removed]",
      "text/plain": [
       "<Figure size 432x288 with 1 Axes>"
      ]
     },
     "metadata": {
      "needs_background": "light"
     },
     "output_type": "display_data"
    }
   ],
   "source": [
    "# ROC for the simplier classifier\n",
    "fpr, tpr, _ = roc_curve(ytest, ytest_prob[:,1], pos_label = 1)\n",
    "ax = sns.lineplot(fpr,tpr)\n",
    "ax.set_xlabel(\"False positive rate\")\n",
    "ax.set_ylabel(\"True positive rate\")\n",
    "plt.title(\"ROC Curve for the simplier classifier\")\n",
    "\n",
    "auc(fpr,tpr)"
   ]
  },
  {
   "cell_type": "code",
   "execution_count": 29,
   "metadata": {
    "id": "Q5cwM7i4VAIp"
   },
   "outputs": [
    {
     "name": "stderr",
     "output_type": "stream",
     "text": [
      "/Users/oliviachoi/opt/anaconda3/lib/python3.9/site-packages/seaborn/_decorators.py:36: FutureWarning: Pass the following variables as keyword args: x, y. From version 0.12, the only valid positional argument will be `data`, and passing other arguments without an explicit keyword will result in an error or misinterpretation.\n",
      "  warnings.warn(\n"
     ]
    },
    {
     "data": {
      "text/plain": [
       "0.9143994529445142"
      ]
     },
     "execution_count": 29,
     "metadata": {},
     "output_type": "execute_result"
    },
    {
     "data": {
      "image/png": "[encoded data removed]",
      "text/plain": [
       "<Figure size 432x288 with 1 Axes>"
      ]
     },
     "metadata": {
      "needs_background": "light"
     },
     "output_type": "display_data"
    }
   ],
   "source": [
    "# ROC for all-variable classifier\n",
    "fpr2, tpr2, _ = roc_curve(ytest, ytest_prob2[:,1], pos_label = 1)\n",
    "ax = sns.lineplot(fpr2,tpr2)\n",
    "ax.set_xlabel(\"False positive rate\")\n",
    "ax.set_ylabel(\"True positive rate\")\n",
    "plt.title(\"ROC Curve for all-variable classifier\")\n",
    "\n",
    "auc(fpr2,tpr2)"
   ]
  },
  {
   "cell_type": "markdown",
   "metadata": {
    "id": "g9B7d6KPVAIp"
   },
   "source": [
    "- The ROC curve shows the trade-off between sensitivity (or TPR) and specificity (1 – FPR). Classifiers that give curves closer to the top-left corner indicate a better performance. As a baseline, a random classifier is expected to give points lying along the diagonal (FPR = TPR). The closer the curve comes to the 45-degree diagonal of the ROC space, the less accurate the test. The area under the ROC curve correspons to the ability of the classifier to correctly distinguishing between a positive and a negative instance. Therefore, all-variable classifier is better. The AUROC gives the probability that a + is correctly distinguished from a -. Therefore the second model has better performance since its AUROC is 0.915 greater than 0.564 which is the AUROC of the simplier model.\n",
    "\n",
    "- If the target were to be reversed (predicting 0 and the AUC is a target of 1), the AUC would be below 0.5 even though the classifier is doing its job correctly. To get the 'proper' result you would simply invert the target.\n"
   ]
  }
 ],
 "metadata": {
  "colab": {
   "name": "Assignment_3_Clean.ipynb",
   "provenance": []
  },
  "kernelspec": {
   "display_name": "Python 3 (ipykernel)",
   "language": "python",
   "name": "python3"
  },
  "language_info": {
   "codemirror_mode": {
    "name": "ipython",
    "version": 3
   },
   "file_extension": ".py",
   "mimetype": "text/x-python",
   "name": "python",
   "nbconvert_exporter": "python",
   "pygments_lexer": "ipython3",
   "version": "3.9.7"
  },
  "latex_envs": {
   "LaTeX_envs_menu_present": true,
   "autoclose": false,
   "autocomplete": true,
   "bibliofile": "biblio.bib",
   "cite_by": "apalike",
   "current_citInitial": 1,
   "eqLabelWithNumbers": true,
   "eqNumInitial": 1,
   "hotkeys": {
    "equation": "Ctrl-E",
    "itemize": "Ctrl-I"
   },
   "labels_anchors": false,
   "latex_user_defs": false,
   "report_style_numbering": false,
   "user_envs_cfg": false
  },
  "toc": {
   "base_numbering": 1,
   "nav_menu": {},
   "number_sections": true,
   "sideBar": true,
   "skip_h1_title": false,
   "title_cell": "Table of Contents",
   "title_sidebar": "Contents",
   "toc_cell": false,
   "toc_position": {},
   "toc_section_display": true,
   "toc_window_display": false
  },
  "varInspector": {
   "cols": {
    "lenName": 16,
    "lenType": 16,
    "lenVar": 40
   },
   "kernels_config": {
    "python": {
     "delete_cmd_postfix": "",
     "delete_cmd_prefix": "del ",
     "library": "var_list.py",
     "varRefreshCmd": "print(var_dic_list())"
    },
    "r": {
     "delete_cmd_postfix": ") ",
     "delete_cmd_prefix": "rm(",
     "library": "var_list.r",
     "varRefreshCmd": "cat(var_dic_list()) "
    }
   },
   "types_to_exclude": [
    "module",
    "function",
    "builtin_function_or_method",
    "instance",
    "_Feature"
   ],
   "window_display": false
  }
 },
 "nbformat": 4,
 "nbformat_minor": 1
}
