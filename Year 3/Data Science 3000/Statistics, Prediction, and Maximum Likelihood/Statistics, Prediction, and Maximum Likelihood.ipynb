{
 "cells": [
  {
   "cell_type": "markdown",
   "metadata": {
    "id": "m9Rk_yqSWWPM"
   },
   "source": [
    "# Statistics, Prediction, and Maximum Likelihood\n",
    "\n",
    "The exponential distribution https://en.wikipedia.org/wiki/Exponential_distribution is a continuous probability distribution often used to predict time when an event might ocurr, for instance Earthquake. \n",
    "\n",
    "If we know $y$ is influenced by feature $x$, then we can use the maximum likelihood principle to develop a regression model that estimates the mean of $Y$ given $X=x$."
   ]
  },
  {
   "cell_type": "code",
   "execution_count": 1,
   "metadata": {
    "id": "Xhy3qPFeWWPS"
   },
   "outputs": [],
   "source": [
    "# Import all the necessary packages: \n",
    "import numpy as np\n",
    "import matplotlib.pyplot as plt\n",
    "import pandas as pd\n",
    "from scipy.optimize import minimize\n",
    "from sklearn.linear_model import LinearRegression\n",
    "%matplotlib inline"
   ]
  },
  {
   "cell_type": "markdown",
   "metadata": {
    "id": "l-V85glRWWPX"
   },
   "source": [
    "### Part 1\n",
    "\n",
    "The negative log likelihood for a exponential random variable is\n",
    "\n",
    "$$\\ell(\\lambda; \\mathbf{y}) = -\\sum_{i=1}^N\\Bigg(\\ln(\\lambda) - \\lambda y_i \\Bigg)$$\n",
    "\n",
    "Here, $\\mathbf{y}=(y_i) \\in \\mathbb{R^N}$ is a vector  and $\\lambda$ is a scalar value.\n",
    "\n",
    "Define a function called `exponentialNegLogLikelihood` that takes a vector  $\\mathbf{y}$ and a parameter $\\lambda$ and returns the negative log likelihood."
   ]
  },
  {
   "cell_type": "code",
   "execution_count": 2,
   "metadata": {
    "id": "9HuWZQUIWWPa"
   },
   "outputs": [],
   "source": [
    "def exponentialNegLogLikelihood(lamb, y):\n",
    "    neg_log_lik = -np.sum(np.log(lamb) - lamb * y)\n",
    "    return neg_log_lik"
   ]
  },
  {
   "cell_type": "code",
   "execution_count": 3,
   "metadata": {
    "id": "CoLEd2jbWWPb"
   },
   "outputs": [
    {
     "name": "stdout",
     "output_type": "stream",
     "text": [
      "Test 1:  19.227411277760222\n"
     ]
    }
   ],
   "source": [
    "# Test the function\n",
    "lamb = 2\n",
    "y = np.array([1, 4, 6, 0])\n",
    "print(\"Test 1: \", exponentialNegLogLikelihood(lamb, y))"
   ]
  },
  {
   "cell_type": "code",
   "execution_count": 4,
   "metadata": {
    "id": "AWsPy3sSWWPc"
   },
   "outputs": [
    {
     "name": "stdout",
     "output_type": "stream",
     "text": [
      "Test 2:  7.740562087565899\n"
     ]
    }
   ],
   "source": [
    "# What happens when you call the function with lamb=np.array([1,0.5,2,5]) and y=np.array([1.5,2.1,3.4,0])?\n",
    "lamb = np.array([1, 0.5, 2, 5])\n",
    "y = np.array([1.5, 2.1, 3.4, 0])\n",
    "print(\"Test 2: \", exponentialNegLogLikelihood(lamb, y))"
   ]
  },
  {
   "cell_type": "code",
   "execution_count": 5,
   "metadata": {
    "id": "3SegQlLvWWPd"
   },
   "outputs": [
    {
     "name": "stdout",
     "output_type": "stream",
     "text": [
      "Test 3:  inf\n"
     ]
    },
    {
     "name": "stderr",
     "output_type": "stream",
     "text": [
      "/var/folders/7l/hzhbdmks3snf1lxq26d5wcbh0000gn/T/ipykernel_3607/4263834597.py:2: RuntimeWarning: divide by zero encountered in log\n",
      "  neg_log_lik = -np.sum(np.log(lamb) - lamb * y)\n"
     ]
    }
   ],
   "source": [
    "# What happens when you set an element of lamb to 0?\n",
    "lamb = 0\n",
    "print(\"Test 3: \", exponentialNegLogLikelihood(lamb, y))"
   ]
  },
  {
   "cell_type": "code",
   "execution_count": 6,
   "metadata": {
    "id": "468hf9zQWWPd"
   },
   "outputs": [
    {
     "name": "stdout",
     "output_type": "stream",
     "text": [
      "Test 3:  nan\n"
     ]
    },
    {
     "name": "stderr",
     "output_type": "stream",
     "text": [
      "/var/folders/7l/hzhbdmks3snf1lxq26d5wcbh0000gn/T/ipykernel_3607/4263834597.py:2: RuntimeWarning: invalid value encountered in log\n",
      "  neg_log_lik = -np.sum(np.log(lamb) - lamb * y)\n"
     ]
    }
   ],
   "source": [
    "# What happens when you set an element of lamb to a negative number?\n",
    "lamb = -1\n",
    "print(\"Test 3: \", exponentialNegLogLikelihood(lamb, y))"
   ]
  },
  {
   "cell_type": "markdown",
   "metadata": {
    "id": "3acZdf7fWWPf"
   },
   "source": [
    "- The function computes an exponential negative log likelihood value as they take lambda and y which are vectors. It performs computation over arrays that have the same size with elements at every corresponding position getting computed.\n",
    "\n",
    "- When lambda is 0, the function returns inf. The closer you get to zero, the larger the negative number is, which means that ln(0) is negative infinity. Since we are using negative log likelihood function, negative infinity becomes infinity. When lambda is negative, the function returns NaN. The natural logarithm function ln(x) is defined only for x>0. Therefore, the natural logarithm of a negative number is undefined.\n",
    "\n",
    "- When the element of lamb is set to 0, then the result is `inf` since $$\\lim_{x \\rightarrow 0^+}\\ln(x)=-\\infty.$$ If lamb is a negative number, the result is nan which means not a number and this is because the logarithm is not defined for a negative number. "
   ]
  },
  {
   "cell_type": "markdown",
   "metadata": {
    "id": "JMGFLbQxWWPg"
   },
   "source": [
    "### Part 2\n",
    "\n",
    "Write a function called `exponentialRegressionNegLogLikelihood` that takes as arguments a vector $\\mathbf{y}$ , a design matrix $\\mathbf{X}$ of features, and a vector $\\mathbf{\\beta}$ of parameters. The function should return the negative log likelihood of this dataset, assuming that each element of  $\\mathbf{y}$ is independent, and exponentially distributed with $\\lambda=\\exp(-\\mathbf{X}\\beta)$."
   ]
  },
  {
   "cell_type": "code",
   "execution_count": 7,
   "metadata": {
    "id": "aN4BWwFhWWPh"
   },
   "outputs": [],
   "source": [
    "def exponentialRegressionNegLogLikelihood(b, X, y):\n",
    "    lamb = np.exp(-X@b)\n",
    "    neg_log_lik = exponentialNegLogLikelihood(lamb, y)\n",
    "    return neg_log_lik"
   ]
  },
  {
   "cell_type": "code",
   "execution_count": 8,
   "metadata": {
    "id": "X87ItPELWWPj"
   },
   "outputs": [
    {
     "name": "stdout",
     "output_type": "stream",
     "text": [
      "Test:  26.60556862451103\n"
     ]
    }
   ],
   "source": [
    "# Test your function \n",
    "b = np.array([1, 3])\n",
    "X = np.array([[1.4, 2.1, 3], [2.2, 3, 1.5]]).T\n",
    "y = np.array([0, 2.5, 10])\n",
    "print(\"Test: \", exponentialRegressionNegLogLikelihood(b, X, y))"
   ]
  },
  {
   "cell_type": "markdown",
   "metadata": {
    "id": "Ek6QwVpHWWPk"
   },
   "source": [
    "a) In `exponentialRegressionNegLogLikelihood`, what problem can happen if we assume that $\\lambda = \\mathbf{X}\\beta$?.\n",
    "- When we minimize the appropriate likelihood function, it may occur RunTimeWarning since lambda could be zero or negative.\n",
    "- If $\\lambda$ has the form of $\\mathbf{X}\\beta$, we cannot guarantee that $\\lambda$ always has positive values. If $\\lambda$ is zero or negative, then log of $\\lambda$ will be undefined as required for the `exponentialNegLogLikelihood`function.\n",
    "\n",
    "\n",
    "b) What property of the exponential distribution is guaranteed when we assume that $\\lambda$ has the form of $\\exp(-\\mathbf{X}\\beta)$?: \n",
    "- Exponential distribution's support is the set of positive real numbers, so lambda cannot be zero or negative.\n",
    "- When $\\exp(-\\mathbf{X}\\beta)$ is used, we guarantee that the parameter $\\lambda$ of the exponential distribution is positive."
   ]
  },
  {
   "cell_type": "markdown",
   "metadata": {
    "id": "UNOqDSX2WWPp"
   },
   "source": [
    "### Part 3\n",
    "\n",
    "Define a function called `Prediction` whose arguments are a vector of coefficents $\\beta$ and a design matrix $\\mathbf{X}$, and its outputs are predictions of the form $\\widehat{\\mathbf{y}} = \\exp(\\mathbf{X}\\beta)$. "
   ]
  },
  {
   "cell_type": "code",
   "execution_count": 9,
   "metadata": {
    "id": "PyI9g7T5WWPr"
   },
   "outputs": [],
   "source": [
    "# Definition of the Prediction\n",
    "def Prediction(b, X):\n",
    "    yhat = np.exp(X@b)\n",
    "    return yhat"
   ]
  },
  {
   "cell_type": "code",
   "execution_count": 10,
   "metadata": {
    "id": "EjtIJn4rWWPr"
   },
   "outputs": [
    {
     "name": "stdout",
     "output_type": "stream",
     "text": [
      "Test: [ 2980.95798704 66171.16016838  1808.04241446]\n"
     ]
    }
   ],
   "source": [
    "# Test the function\n",
    "b = np.array([1, 3])\n",
    "X = np.array([[1.4, 2.1, 3], [2.2, 3, 1.5]]).T\n",
    "print(\"Test:\", Prediction(b,X))"
   ]
  },
  {
   "cell_type": "markdown",
   "metadata": {
    "id": "Xc8QDlT6WWPt"
   },
   "source": [
    "### Part 4\n",
    "\n",
    "Define a function called `Model_fit` which accepts as its first argument a design matrix $\\mathbf{X}$ and as its second argument a vector of $\\mathbf{y}$. Its output should be the maximum likelihood estimates for the coefficients of exponential regression of $\\mathbf{y}$ onto $\\mathbf{X}$."
   ]
  },
  {
   "cell_type": "code",
   "execution_count": 11,
   "metadata": {
    "id": "WprRkxojWWPu"
   },
   "outputs": [],
   "source": [
    "# Define Model_fit\n",
    "def Model_fit(X, y):\n",
    "    # Instantiate a guess for the betas, beta_start, so that the optimizer has somewhere to start\n",
    "    # Keep in mind what shape the beta_start should be. It shoud have the same number of elements as X as columns\n",
    "    nrows, ncols = X.shape\n",
    "    beta_start = np.zeros((ncols,1))\n",
    "    \n",
    "    # Minimize the appropriate likelihood function\n",
    "    mle = minimize(exponentialRegressionNegLogLikelihood, beta_start, args=(X,y), method=\"powell\")\n",
    "    \n",
    "    # Extract the maximum likelihood estimates from the optimizer.\n",
    "    betas = mle.x\n",
    "    return betas"
   ]
  },
  {
   "cell_type": "code",
   "execution_count": 12,
   "metadata": {
    "id": "BwVRCImFWWPv"
   },
   "outputs": [
    {
     "name": "stdout",
     "output_type": "stream",
     "text": [
      "The estimated b is [ 1.17119176 -0.72067184]\n"
     ]
    }
   ],
   "source": [
    "# Show the code to find estimated b\n",
    "X = np.array([[1.4, 2.1, 3], [2.2, 3, 1.5]]).T\n",
    "y = np.array([0, 2.5, 10])\n",
    "print(f\"The estimated b is {Model_fit(X, y)}\")"
   ]
  },
  {
   "cell_type": "markdown",
   "metadata": {
    "id": "MZoXJIQ1WWPw"
   },
   "source": [
    "### Part 5\n",
    "\n",
    "Use the data `exponential_regression.csv` to fit a exponential regression using the functions that you already have created. In this data, $y$ is measured in time units. "
   ]
  },
  {
   "cell_type": "code",
   "execution_count": 16,
   "metadata": {
    "id": "5yg4vHgIWWPx"
   },
   "outputs": [],
   "source": [
    "# Loading in the data.\n",
    "df = pd.read_csv(\"exponential_regression.csv\", sep=';')"
   ]
  },
  {
   "cell_type": "code",
   "execution_count": 17,
   "metadata": {},
   "outputs": [
    {
     "data": {
      "text/html": [
       "<div>\n",
       "<style scoped>\n",
       "    .dataframe tbody tr th:only-of-type {\n",
       "        vertical-align: middle;\n",
       "    }\n",
       "\n",
       "    .dataframe tbody tr th {\n",
       "        vertical-align: top;\n",
       "    }\n",
       "\n",
       "    .dataframe thead th {\n",
       "        text-align: right;\n",
       "    }\n",
       "</style>\n",
       "<table border=\"1\" class=\"dataframe\">\n",
       "  <thead>\n",
       "    <tr style=\"text-align: right;\">\n",
       "      <th></th>\n",
       "      <th>x</th>\n",
       "      <th>y</th>\n",
       "    </tr>\n",
       "  </thead>\n",
       "  <tbody>\n",
       "    <tr>\n",
       "      <th>0</th>\n",
       "      <td>0.260360</td>\n",
       "      <td>0.755994</td>\n",
       "    </tr>\n",
       "    <tr>\n",
       "      <th>1</th>\n",
       "      <td>-0.346457</td>\n",
       "      <td>0.391628</td>\n",
       "    </tr>\n",
       "    <tr>\n",
       "      <th>2</th>\n",
       "      <td>0.900106</td>\n",
       "      <td>0.306394</td>\n",
       "    </tr>\n",
       "    <tr>\n",
       "      <th>3</th>\n",
       "      <td>0.299767</td>\n",
       "      <td>0.775901</td>\n",
       "    </tr>\n",
       "    <tr>\n",
       "      <th>4</th>\n",
       "      <td>0.435408</td>\n",
       "      <td>0.303732</td>\n",
       "    </tr>\n",
       "  </tbody>\n",
       "</table>\n",
       "</div>"
      ],
      "text/plain": [
       "          x         y\n",
       "0  0.260360  0.755994\n",
       "1 -0.346457  0.391628\n",
       "2  0.900106  0.306394\n",
       "3  0.299767  0.775901\n",
       "4  0.435408  0.303732"
      ]
     },
     "execution_count": 17,
     "metadata": {},
     "output_type": "execute_result"
    }
   ],
   "source": [
    "df.head()"
   ]
  },
  {
   "cell_type": "code",
   "execution_count": 18,
   "metadata": {},
   "outputs": [
    {
     "name": "stdout",
     "output_type": "stream",
     "text": [
      "Estimated coefficients: [ 0.07120564 -1.75117875]\n"
     ]
    }
   ],
   "source": [
    "# Create the design matrix\n",
    "x = df.x.values\n",
    "X = np.c_[np.ones(x.shape[0]), x]\n",
    "y = df.y.values\n",
    "\n",
    "# Find the maximum likelihood estimates for the coefficients for this data\n",
    "betas = Model_fit(X, y)\n",
    "print(\"Estimated coefficients:\", betas)"
   ]
  },
  {
   "cell_type": "code",
   "execution_count": 19,
   "metadata": {
    "id": "Gc1uIOGIWWPy"
   },
   "outputs": [
    {
     "data": {
      "text/plain": [
       "[<matplotlib.lines.Line2D at 0x7f96684348b0>]"
      ]
     },
     "execution_count": 19,
     "metadata": {},
     "output_type": "execute_result"
    },
    {
     "data": {
      "image/png": "[encoded data removed]",
      "text/plain": [
       "<Figure size 720x480 with 1 Axes>"
      ]
     },
     "metadata": {
      "needs_background": "light"
     },
     "output_type": "display_data"
    }
   ],
   "source": [
    "# Scatterplot the data. \n",
    "fig, ax = plt.subplots(dpi = 120)\n",
    "df.plot.scatter(x='x', y='y', alpha=0.75, ax=ax)\n",
    "\n",
    "# Create the new data to graphic the prediction\n",
    "newx = np.linspace(-2.14, 2.14, 1001)\n",
    "newX = np.c_[np.ones(newx.size), newx]\n",
    "\n",
    "# Predictions on the new data\n",
    "y_predicted = Prediction(betas, newX)\n",
    "\n",
    "# Finally, plot the predictions on the same graph\n",
    "plt.title('Exponential Regression Model')\n",
    "ax.plot(newx, y_predicted, color = 'red')"
   ]
  },
  {
   "cell_type": "markdown",
   "metadata": {},
   "source": [
    "Figure 1. Exponential Regression Model"
   ]
  },
  {
   "cell_type": "markdown",
   "metadata": {
    "id": "4eQ27DO4WWPz"
   },
   "source": [
    "### Part 6\n",
    "\n",
    "Fit a linear regression (ordinary least squares) to the data, and obtain parameter estimates and and plot the predictions over the same range.\n"
   ]
  },
  {
   "cell_type": "code",
   "execution_count": 20,
   "metadata": {
    "id": "c7j81_i5WWP0"
   },
   "outputs": [
    {
     "name": "stdout",
     "output_type": "stream",
     "text": [
      "The estimated coefficients using linear regression are [ 0.         -5.11409159]\n"
     ]
    },
    {
     "data": {
      "text/plain": [
       "[<matplotlib.lines.Line2D at 0x7f96480975e0>]"
      ]
     },
     "execution_count": 20,
     "metadata": {},
     "output_type": "execute_result"
    },
    {
     "data": {
      "image/png": "[encoded data removed]",
      "text/plain": [
       "<Figure size 720x480 with 1 Axes>"
      ]
     },
     "metadata": {
      "needs_background": "light"
     },
     "output_type": "display_data"
    }
   ],
   "source": [
    "# Fit the linear regression model\n",
    "ols_fit = LinearRegression().fit(X, y)\n",
    "\n",
    "# Obtain parameter estimates\n",
    "betas_r = ols_fit.coef_ \n",
    "print(f'The estimated coefficients using linear regression are {betas_r}')\n",
    "\n",
    "# Make predictions on the new data\n",
    "y_predicted = ols_fit.predict(newX)\n",
    "\n",
    "# Plot a scatter plot of the data and your model's predictions\n",
    "fig, ax = plt.subplots(dpi = 120)\n",
    "df.plot.scatter(x='x', y='y', alpha=0.75, ax = ax)\n",
    "plt.title('Scatter Plot with the Regression Line')\n",
    "ax.plot(newx, y_predicted, color = 'red')"
   ]
  },
  {
   "cell_type": "markdown",
   "metadata": {},
   "source": [
    "Figure 2. Linear Regression Model"
   ]
  },
  {
   "cell_type": "markdown",
   "metadata": {
    "id": "_1O7hyAaWWP1"
   },
   "source": [
    "Between this two models, I would select the exponential regression model as we can see that the linear regression model does not fit well. The linear regression model underestimates the values of $y$ for $x \\in [-2.14, -1.5] \\cup [1, 2.14]$. There are many data fay away from the linear regression line. There are some points that y becomes negative, and it does not make sense in time units. This problem does not occur with the exponential regression model."
   ]
  }
 ],
 "metadata": {
  "colab": {
   "name": "Assignment_2_Clean.ipynb",
   "provenance": []
  },
  "kernelspec": {
   "display_name": "Python 3 (ipykernel)",
   "language": "python",
   "name": "python3"
  },
  "language_info": {
   "codemirror_mode": {
    "name": "ipython",
    "version": 3
   },
   "file_extension": ".py",
   "mimetype": "text/x-python",
   "name": "python",
   "nbconvert_exporter": "python",
   "pygments_lexer": "ipython3",
   "version": "3.9.7"
  }
 },
 "nbformat": 4,
 "nbformat_minor": 1
}
