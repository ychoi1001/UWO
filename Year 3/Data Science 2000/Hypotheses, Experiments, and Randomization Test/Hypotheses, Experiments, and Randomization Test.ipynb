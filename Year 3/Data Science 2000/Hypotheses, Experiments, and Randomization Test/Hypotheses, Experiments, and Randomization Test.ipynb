{
 "cells": [
  {
   "cell_type": "markdown",
   "id": "d18cdd84",
   "metadata": {},
   "source": [
    "## Learning Outcomes\n",
    "By completing this project, you will be able to implement and use randomization tests to determine whether a specific effect is statistically significant. Randomization tests are a highly universal and powerful way to do this, and form an essential part of the toolkit of any Data Scientist. \n",
    "\n",
    "## Problem Description\n",
    "An increasingly common statistical tool for determining whether a difference is significant is the randomization or permutation test. A randomization test builds - rather than assumes – a sampling distribution of the test statistics. This is achieved by exchanging or permuting variables which are “exchangeable” under the Null-hypothesis. A randomization test gives a simple way to compute the sampling distribution for any test statistic under the null hypothesis that the dependent variable is statistically not dependent on the shuffled variable. \n",
    "In this project, we continue with the movie dataset from \"Categorical Data and Probability\". The main task is to determine whether the difference in proportion for female vs. male directors to direct action movies is significant. "
   ]
  },
  {
   "cell_type": "code",
   "execution_count": 20,
   "id": "e906f1cd",
   "metadata": {},
   "outputs": [
    {
     "data": {
      "text/html": [
       "<div>\n",
       "<style scoped>\n",
       "    .dataframe tbody tr th:only-of-type {\n",
       "        vertical-align: middle;\n",
       "    }\n",
       "\n",
       "    .dataframe tbody tr th {\n",
       "        vertical-align: top;\n",
       "    }\n",
       "\n",
       "    .dataframe thead th {\n",
       "        text-align: right;\n",
       "    }\n",
       "</style>\n",
       "<table border=\"1\" class=\"dataframe\">\n",
       "  <thead>\n",
       "    <tr style=\"text-align: right;\">\n",
       "      <th></th>\n",
       "      <th>Unnamed: 0</th>\n",
       "      <th>boxoff</th>\n",
       "      <th>prodcost</th>\n",
       "      <th>dirIncome</th>\n",
       "      <th>dirGender</th>\n",
       "      <th>year</th>\n",
       "      <th>month</th>\n",
       "      <th>genre</th>\n",
       "      <th>numTheatres</th>\n",
       "    </tr>\n",
       "  </thead>\n",
       "  <tbody>\n",
       "    <tr>\n",
       "      <th>0</th>\n",
       "      <td>0</td>\n",
       "      <td>88.648583</td>\n",
       "      <td>44.742936</td>\n",
       "      <td>1.143234</td>\n",
       "      <td>male</td>\n",
       "      <td>2012</td>\n",
       "      <td>3</td>\n",
       "      <td>comedy</td>\n",
       "      <td>139</td>\n",
       "    </tr>\n",
       "    <tr>\n",
       "      <th>1</th>\n",
       "      <td>1</td>\n",
       "      <td>145.334924</td>\n",
       "      <td>38.835516</td>\n",
       "      <td>3.393535</td>\n",
       "      <td>female</td>\n",
       "      <td>2014</td>\n",
       "      <td>11</td>\n",
       "      <td>drama</td>\n",
       "      <td>213</td>\n",
       "    </tr>\n",
       "    <tr>\n",
       "      <th>2</th>\n",
       "      <td>2</td>\n",
       "      <td>238.265684</td>\n",
       "      <td>29.532283</td>\n",
       "      <td>2.418883</td>\n",
       "      <td>male</td>\n",
       "      <td>2015</td>\n",
       "      <td>6</td>\n",
       "      <td>other</td>\n",
       "      <td>100</td>\n",
       "    </tr>\n",
       "    <tr>\n",
       "      <th>3</th>\n",
       "      <td>3</td>\n",
       "      <td>212.714742</td>\n",
       "      <td>157.111899</td>\n",
       "      <td>2.034115</td>\n",
       "      <td>male</td>\n",
       "      <td>2014</td>\n",
       "      <td>10</td>\n",
       "      <td>adventure</td>\n",
       "      <td>436</td>\n",
       "    </tr>\n",
       "    <tr>\n",
       "      <th>4</th>\n",
       "      <td>4</td>\n",
       "      <td>120.175461</td>\n",
       "      <td>30.547155</td>\n",
       "      <td>0.963219</td>\n",
       "      <td>female</td>\n",
       "      <td>2012</td>\n",
       "      <td>1</td>\n",
       "      <td>comedy</td>\n",
       "      <td>115</td>\n",
       "    </tr>\n",
       "  </tbody>\n",
       "</table>\n",
       "</div>"
      ],
      "text/plain": [
       "   Unnamed: 0      boxoff    prodcost  dirIncome dirGender  year  month  \\\n",
       "0           0   88.648583   44.742936   1.143234      male  2012      3   \n",
       "1           1  145.334924   38.835516   3.393535    female  2014     11   \n",
       "2           2  238.265684   29.532283   2.418883      male  2015      6   \n",
       "3           3  212.714742  157.111899   2.034115      male  2014     10   \n",
       "4           4  120.175461   30.547155   0.963219    female  2012      1   \n",
       "\n",
       "       genre  numTheatres  \n",
       "0     comedy          139  \n",
       "1      drama          213  \n",
       "2      other          100  \n",
       "3  adventure          436  \n",
       "4     comedy          115  "
      ]
     },
     "execution_count": 20,
     "metadata": {},
     "output_type": "execute_result"
    }
   ],
   "source": [
    "# Importing packages\n",
    "import matplotlib\n",
    "#matplotlib.use('TkAgg')\n",
    "import matplotlib.pyplot as plt \n",
    "%matplotlib inline\n",
    "import seaborn as sns\n",
    "\n",
    "import numpy as np\n",
    "import pandas as pd\n",
    "import scipy.stats as stats\n",
    "\n",
    "# Load dataset file\n",
    "df = pd.read_csv(\"movieDataset1.csv\")\n",
    "df.head()"
   ]
  },
  {
   "cell_type": "markdown",
   "id": "50bdd796",
   "metadata": {},
   "source": [
    "## TASK 1: Defining the Test Statistics"
   ]
  },
  {
   "cell_type": "code",
   "execution_count": 21,
   "id": "ccaf7e9b",
   "metadata": {},
   "outputs": [
    {
     "data": {
      "text/html": [
       "<div>\n",
       "<style scoped>\n",
       "    .dataframe tbody tr th:only-of-type {\n",
       "        vertical-align: middle;\n",
       "    }\n",
       "\n",
       "    .dataframe tbody tr th {\n",
       "        vertical-align: top;\n",
       "    }\n",
       "\n",
       "    .dataframe thead th {\n",
       "        text-align: right;\n",
       "    }\n",
       "</style>\n",
       "<table border=\"1\" class=\"dataframe\">\n",
       "  <thead>\n",
       "    <tr style=\"text-align: right;\">\n",
       "      <th>genre</th>\n",
       "      <th>False</th>\n",
       "      <th>True</th>\n",
       "      <th>All</th>\n",
       "    </tr>\n",
       "    <tr>\n",
       "      <th>dirGender</th>\n",
       "      <th></th>\n",
       "      <th></th>\n",
       "      <th></th>\n",
       "    </tr>\n",
       "  </thead>\n",
       "  <tbody>\n",
       "    <tr>\n",
       "      <th>female</th>\n",
       "      <td>31</td>\n",
       "      <td>6</td>\n",
       "      <td>37</td>\n",
       "    </tr>\n",
       "    <tr>\n",
       "      <th>male</th>\n",
       "      <td>155</td>\n",
       "      <td>58</td>\n",
       "      <td>213</td>\n",
       "    </tr>\n",
       "    <tr>\n",
       "      <th>All</th>\n",
       "      <td>186</td>\n",
       "      <td>64</td>\n",
       "      <td>250</td>\n",
       "    </tr>\n",
       "  </tbody>\n",
       "</table>\n",
       "</div>"
      ],
      "text/plain": [
       "genre      False  True  All\n",
       "dirGender                  \n",
       "female        31     6   37\n",
       "male         155    58  213\n",
       "All          186    64  250"
      ]
     },
     "metadata": {},
     "output_type": "display_data"
    }
   ],
   "source": [
    "# Create contingency table of adventure (yes/no) by director gender \n",
    "ctab = pd.crosstab(df[\"dirGender\"], df[\"genre\"] == \"adventure\", margins=1)\n",
    "display(ctab)"
   ]
  },
  {
   "cell_type": "code",
   "execution_count": 27,
   "id": "feabaa4e",
   "metadata": {},
   "outputs": [
    {
     "name": "stdout",
     "output_type": "stream",
     "text": [
      "The probability that the movie is an adventure given that the director Gender is female is 0.162162\n",
      "The probability that the movie is an adventure given that the director Gender is male is 0.2723\n",
      "\n",
      "p(adventure|female)-p(adventure|male) is -0.110138\n"
     ]
    }
   ],
   "source": [
    "# Calculate p(adventure|female)-p(adventure|male)\n",
    "# Calculate the probability that the movie is an adventure given that the director Gender is female,\n",
    "adventure_f = ctab[True][\"female\"]/(ctab['All'][\"female\"])\n",
    "print(f\"The probability that the movie is an adventure given that the director Gender is female is {adventure_f.round(6)}\")\n",
    "\n",
    "# Calculate the probability of the movie is an adventure given that the director Gender is male\n",
    "adventure_m = ctab[True][\"male\"]/(ctab['All'][\"male\"])\n",
    "print(f\"The probability that the movie is an adventure given that the director Gender is male is {adventure_m.round(6)}\")\n",
    "\n",
    "# Calculate result\n",
    "diff = adventure_f - adventure_m\n",
    "print(f\"\\np(adventure|female)-p(adventure|male) is {diff.round(6)}\")\n",
    "#type(diff)"
   ]
  },
  {
   "cell_type": "code",
   "execution_count": 40,
   "id": "94030ad1",
   "metadata": {},
   "outputs": [],
   "source": [
    "# Define a function that calculates the difference in average income by gender\n",
    "def avg_income_diff(data, genre='adventure'):\n",
    "    \"\"\"\n",
    "    Args:\n",
    "        data (pd.dataframe) - input dataset\n",
    "        genre (str) - movie genre to select\n",
    "        \n",
    "    Returns:\n",
    "        diff (float) - difference between avg incomes\n",
    "    \"\"\"\n",
    "    dat = data[data['genre']==genre]\n",
    "    #print(dat.head())\n",
    "    income_by_gender = dat['dirIncome'].groupby(dat['dirGender'])\n",
    "    income_m = income_by_gender.get_group('male')\n",
    "    #print(income_m)\n",
    "    income_f = income_by_gender.get_group('female')\n",
    "    diff = income_m.mean() - income_f.mean()\n",
    "    return diff"
   ]
  },
  {
   "cell_type": "code",
   "execution_count": 41,
   "id": "6b28ec9e",
   "metadata": {},
   "outputs": [
    {
     "name": "stdout",
     "output_type": "stream",
     "text": [
      "The average income difference is: 0.212741\n",
      "The average income difference is: 0.810571\n"
     ]
    }
   ],
   "source": [
    "# Test difference function\n",
    "diff = avg_income_diff(df, genre='adventure')\n",
    "print(f'The average income difference is: {diff:.6f}')\n",
    "diff = avg_income_diff(df, genre='action')\n",
    "print(f'The average income difference is: {diff:.6f}')"
   ]
  },
  {
   "cell_type": "markdown",
   "id": "6a365da8",
   "metadata": {},
   "source": [
    "## Task 2: Perform a Permutation Test"
   ]
  },
  {
   "cell_type": "markdown",
   "id": "7fa579dd",
   "metadata": {},
   "source": [
    "We want to test the hypothesis that female directors of adventure movies earn less, on average, than male directors of adventure movies. \n",
    ">The null hypothesis is that the incomes are equal (the difference zero) or that female directors earn more on average than male directors."
   ]
  },
  {
   "cell_type": "code",
   "execution_count": 54,
   "id": "a9d7fb1e",
   "metadata": {},
   "outputs": [],
   "source": [
    "# Perform a permutation test. Under the Null-hypothesis the director gender is exchangeable. \n",
    "# Write a function that takes the data frame as an input and then randomly permutes the directorGender column.\n",
    "def perm_test(data, n_iter=500, genre='adventure', var='dirGender'):\n",
    "    \"\"\"\n",
    "    Args:\n",
    "        data (pd.dataframe) - input dataset\n",
    "        n_iter (int) - number of iterations\n",
    "        genre (str) - movie genre to select\n",
    "        var (str) - column to permute\n",
    "        \n",
    "    Returns:\n",
    "        stat (np.ndarray) - array of test statistics\n",
    "        p_val (float) - p-value of the test statistic\n",
    "    \"\"\"\n",
    "    # Initialize stat array\n",
    "    stat = np.zeros([n_iter])\n",
    "    #print(stat)\n",
    "        \n",
    "    # Create a copy of the data\n",
    "    d = data.copy()\n",
    "    #display(d)\n",
    "    d = d[d['genre']==genre].reset_index(drop=1)\n",
    "    #display(d)\n",
    "    \n",
    "    # Create an array that represent the indices\n",
    "    idx = np.arange(len(d.index))\n",
    "    #display(idx)\n",
    "\n",
    "    for i in range(n_iter):\n",
    "        \n",
    "        ## Randomly shuffle indices\n",
    "        np.random.shuffle(idx)\n",
    "        \n",
    "        # Shuffle the selected variable\n",
    "        shuff_var = d[var].iloc[idx]\n",
    "        \n",
    "        # Reorder the shuffled indices\n",
    "        shuff_var = shuff_var.reset_index(drop=1)\n",
    "        \n",
    "        # Put the shuffled gender variable back in\n",
    "        d[var] = shuff_var\n",
    "        #display(d)\n",
    "        \n",
    "        # Calculate test statistic\n",
    "        stat[i] = avg_income_diff(d, genre='adventure')\n",
    "    \n",
    "    # Plot the histogram of results\n",
    "    sns.distplot(stat) \n",
    "    plt.xlabel('Distribution of differences in avg income')\n",
    "    \n",
    "    # Calculate and mark the value of the empirical test statistics\n",
    "    diff = avg_income_diff(data, genre='adventure')\n",
    "    print(f'The empirical difference in avg incomes is: {diff:.6f}')\n",
    "    plt.axvline(diff, color = 'red', alpha = 1, lw = 1.5)\n",
    "    \n",
    "    # Calculate the p-value\n",
    "    H1 = stat > diff\n",
    "    N = sum(H1)\n",
    "    p_val = N/len(stat)        \n",
    "    \n",
    "    return stat, p_val"
   ]
  },
  {
   "cell_type": "code",
   "execution_count": 55,
   "id": "69006c4f",
   "metadata": {},
   "outputs": [
    {
     "name": "stdout",
     "output_type": "stream",
     "text": [
      "The empirical difference in avg incomes is: 0.212741\n",
      "The p-value of the test statistic is: 0.369000\n"
     ]
    },
    {
     "name": "stderr",
     "output_type": "stream",
     "text": [
      "/Users/oliviachoi/opt/anaconda3/lib/python3.9/site-packages/seaborn/distributions.py:2619: FutureWarning: `distplot` is a deprecated function and will be removed in a future version. Please adapt your code to use either `displot` (a figure-level function with similar flexibility) or `histplot` (an axes-level function for histograms).\n",
      "  warnings.warn(msg, FutureWarning)\n"
     ]
    },
    {
     "data": {
      "image/png": "[encoded data removed]",
      "text/plain": [
       "<Figure size 432x288 with 1 Axes>"
      ]
     },
     "metadata": {
      "needs_background": "light"
     },
     "output_type": "display_data"
    }
   ],
   "source": [
    "# Perform permutation test here\n",
    "stat, p_val = perm_test(df, n_iter=1000)\n",
    "print(f'The p-value of the test statistic is: {p_val:.6f}')"
   ]
  },
  {
   "cell_type": "markdown",
   "id": "c924873f",
   "metadata": {},
   "source": [
    "> Since p-value is pretty large (0.369 > 0.05), we do not reject the null hypothesis."
   ]
  }
 ],
 "metadata": {
  "kernelspec": {
   "display_name": "Python 3 (ipykernel)",
   "language": "python",
   "name": "python3"
  },
  "language_info": {
   "codemirror_mode": {
    "name": "ipython",
    "version": 3
   },
   "file_extension": ".py",
   "mimetype": "text/x-python",
   "name": "python",
   "nbconvert_exporter": "python",
   "pygments_lexer": "ipython3",
   "version": "3.9.7"
  }
 },
 "nbformat": 4,
 "nbformat_minor": 5
}
