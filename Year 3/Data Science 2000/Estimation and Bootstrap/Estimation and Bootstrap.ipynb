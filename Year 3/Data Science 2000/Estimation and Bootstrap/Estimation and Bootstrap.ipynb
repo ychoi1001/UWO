{
 "cells": [
  {
   "cell_type": "markdown",
   "id": "863b004c",
   "metadata": {},
   "source": [
    "## Learning Outcomes\n",
    "In this project, we will look at Estimates, Bootstrap, Confidence intervals, and Standard error.\n",
    "## Dataset \n",
    "The data set run10sample.csv contains data from random sample of 25 runner of the 16923 competitor in the 2012 Cherry blossom run (cherryblossom.org). The variables in the file are: \n",
    "\n",
    "- Place:  Finishing position. Separate positions are provided for each gender.\n",
    "- time: The total run time (in min) \n",
    "- Pace: The listed pace (/mile) for each runner.\n",
    "- Age: Age.\n",
    "- Gender: Gender.\n",
    "- Location: Hometown city. \n",
    "- State: Hometown state \n",
    "- divPlace: Age Division place, also broken up by gender.\n",
    "- divTot: Total number of people in the division (again, also split by gender).\n",
    "\n",
    "The data set run10.csv contains the data from all 16923 competitors, so you can also analyze the whole population. "
   ]
  },
  {
   "cell_type": "markdown",
   "id": "0204df52",
   "metadata": {},
   "source": [
    "## Task 1: Analyzing a Sample from the Population"
   ]
  },
  {
   "cell_type": "code",
   "execution_count": 1,
   "id": "00f8173e",
   "metadata": {},
   "outputs": [],
   "source": [
    "# Set up the environment\n",
    "import pandas as pd\n",
    "import numpy as np\n",
    "import scipy as sp\n",
    "import matplotlib\n",
    "matplotlib.use('TkAgg')\n",
    "import matplotlib.pyplot as plt \n",
    "%matplotlib inline"
   ]
  },
  {
   "cell_type": "code",
   "execution_count": 17,
   "id": "155c302e",
   "metadata": {},
   "outputs": [
    {
     "name": "stdout",
     "output_type": "stream",
     "text": [
      "The mean finishing time in the random sample is: 98.1504\n"
     ]
    }
   ],
   "source": [
    "# Load dataset\n",
    "sample_df = pd.read_csv('run10sample.csv')\n",
    "\n",
    "# Get mean finishing time\n",
    "sample_mean_time = sample_df['time'].mean()\n",
    "\n",
    "# Print the result\n",
    "print(f'The mean finishing time in the random sample is: {sample_mean_time}')"
   ]
  },
  {
   "cell_type": "code",
   "execution_count": 3,
   "id": "b774662c",
   "metadata": {},
   "outputs": [
    {
     "name": "stdout",
     "output_type": "stream",
     "text": [
      "The number of women: 14\n",
      "The number of men: 11\n"
     ]
    }
   ],
   "source": [
    "# Grouping men and women\n",
    "grouped = sample_df.groupby(sample_df['gender'])\n",
    "female_group = grouped.get_group('F')\n",
    "male_group = grouped.get_group('M')\n",
    "\n",
    "# Get the number of female and male\n",
    "nfemale = female_group.count()\n",
    "nmale = male_group.count()\n",
    "\n",
    "# Print result\n",
    "print(f\"The number of women: {nfemale[0]}\\nThe number of men: {nmale[0]}\")"
   ]
  },
  {
   "cell_type": "code",
   "execution_count": 4,
   "id": "bb43747c",
   "metadata": {},
   "outputs": [
    {
     "name": "stdout",
     "output_type": "stream",
     "text": [
      "gender\n",
      "F    103.496429\n",
      "M     91.346364\n",
      "Name: time, dtype: float64\n"
     ]
    }
   ],
   "source": [
    "# Spliting the sample up by gender\n",
    "time_by_gender = sample_df['time'].groupby(sample_df['gender'])\n",
    "\n",
    "# Get mean finishing time\n",
    "time_by_gender_mean = time_by_gender.mean()\n",
    "\n",
    "# Print result\n",
    "print(time_by_gender_mean)"
   ]
  },
  {
   "cell_type": "markdown",
   "id": "41947533",
   "metadata": {},
   "source": [
    "## Task 2: Resampling from the Population"
   ]
  },
  {
   "cell_type": "code",
   "execution_count": 16,
   "id": "c1448b60",
   "metadata": {},
   "outputs": [
    {
     "name": "stdout",
     "output_type": "stream",
     "text": [
      "The mean finishing time in the whole population of runners is: 94.516\n"
     ]
    }
   ],
   "source": [
    "# Load dataset\n",
    "pop_df = pd.read_csv('run10.csv')\n",
    "\n",
    "# Get mean finishing time\n",
    "pop_mean_time = pop_df['time'].mean()\n",
    "\n",
    "# Print the result\n",
    "print(f'The mean finishing time in the whole population of runners is: {round(pop_mean_time,3)}')"
   ]
  },
  {
   "cell_type": "code",
   "execution_count": 18,
   "id": "76f86ed1",
   "metadata": {},
   "outputs": [
    {
     "name": "stdout",
     "output_type": "stream",
     "text": [
      "********** total number of male and female runners in the population **********\n",
      "gender\n",
      "F    9732\n",
      "M    7191\n",
      "Name: time, dtype: int64 \n",
      "\n",
      "********** total number of male and female runners in the sample **********\n",
      "gender\n",
      "F    14\n",
      "M    11\n",
      "Name: time, dtype: int64 \n",
      "\n",
      "The total number of runners in the population is 16923\n",
      "The total number of runners in the sample is 25 \n",
      "\n",
      "\n",
      "The female ratio in the population is 0.5751\n",
      "The female ratio in the sample is 0.5600\n",
      "\n",
      "\n",
      "the mean age of the runners in the population is 35.521\n",
      "the mean age of the runners in the sample is 37.040\n"
     ]
    }
   ],
   "source": [
    "# To see whether the difference can be explained by the differences in gender distribution between the sample\n",
    "# and the population, we will calculate the proportion of male and female runners\n",
    "dfByGenderP = pop_df['time'].groupby(pop_df['gender'])\n",
    "dfByGenderS = sample_df['time'].groupby(sample_df['gender'])\n",
    "print('********** total number of male and female runners in the population **********')\n",
    "print(dfByGenderP.count(), '\\n')\n",
    "print('********** total number of male and female runners in the sample **********')\n",
    "print(dfByGenderS.count(), '\\n')\n",
    "\n",
    "# Calculating the total number of runners in the population and the sample\n",
    "# Alternatively, you could just calculate the ratio of the female runners in both the population and the sample\n",
    "# by using the outputs of the groupby (as printed in the output)\n",
    "totalNP = (dfByGenderP.get_group('F').count()) + (dfByGenderP.get_group('M').count())\n",
    "totalNS = (dfByGenderS.get_group('F').count()) + (dfByGenderS.get_group('M').count())\n",
    "print('The total number of runners in the population is %s' % totalNP)\n",
    "print('The total number of runners in the sample is %s \\n\\n' % totalNS)\n",
    "\n",
    "# Calculating female and male proportions in the population and the sample\n",
    "# Population\n",
    "fRatioP = (dfByGenderP.get_group('F').count())/totalNP\n",
    "print('The female ratio in the population is %.4f' % fRatioP)\n",
    "\n",
    "# Sample\n",
    "fRatioS = (dfByGenderS.get_group('F').count())/totalNS\n",
    "print('The female ratio in the sample is %.4f\\n\\n' % fRatioS)\n",
    "\n",
    "\n",
    "# To see whether the difference can be explained by the differences in age distribution between the sample\n",
    "# and the population, we will calculate the mean age for the population and the sample\n",
    "print('the mean age of the runners in the population is %.3f' % pop_df['age'].mean())\n",
    "print('the mean age of the runners in the sample is %.3f' % sample_df['age'].mean())"
   ]
  },
  {
   "cell_type": "markdown",
   "id": "aa29b8f9",
   "metadata": {},
   "source": [
    "The mean finishing time of the population and the sample are 94.516 and 98.1504, respectively. So the mean finishing time of the sample is ~3.63 higher than that of the population. We can see that the proportion of women in the population and the sample are roughly the same. On the other hand, the mean age of runners in the sample is about 1.52 years higher than that of the population. So we can conclude that the differences in the age distribution can explain the difference between the mean finishing times of the sample and the population, since older people tend to run slower. To improve the estimates, we probably should have used a stratifed sample to make the gender distribution and the age distribution equal to the population."
   ]
  },
  {
   "cell_type": "code",
   "execution_count": 9,
   "id": "935dab06",
   "metadata": {},
   "outputs": [],
   "source": [
    "# Write a function bootstrap, which takes a data series (data) as an input and then performs a bootstrap\n",
    "def bootstrap(data, N, fcn, numIter = 1000):\n",
    "    # Create empty sample distribution\n",
    "    sample_dist = np.zeros([1, numIter])\n",
    "    \n",
    "    # Calculate the statistics for each iteration and record it in a np array\n",
    "    for i in range(numIter):\n",
    "        # Sampling from data\n",
    "        #print(\"num iteration:\", i)\n",
    "        samps_temp = np.random.choice(data, size = N, replace = True)\n",
    "        #print(\"samps_temp:\\n\", samps_temp)\n",
    "        sample_dist[:,i] = fcn(samps_temp)\n",
    "        #print(\"sampe dist:\", sample_dist)\n",
    "    \n",
    "    # Return the result\n",
    "    return sample_dist"
   ]
  },
  {
   "cell_type": "code",
   "execution_count": 10,
   "id": "23abaff7",
   "metadata": {},
   "outputs": [
    {
     "name": "stdout",
     "output_type": "stream",
     "text": [
      "Mean of the resampled estimates: 94.363466\n",
      "Standard deviation of the resampled estimates: 3.098260925377977\n"
     ]
    },
    {
     "data": {
      "text/plain": [
       "Text(0, 0.5, 'Count')"
      ]
     },
     "execution_count": 10,
     "metadata": {},
     "output_type": "execute_result"
    },
    {
     "data": {
      "image/png": "[encoded data removed]",
      "text/plain": [
       "<Figure size 432x288 with 1 Axes>"
      ]
     },
     "metadata": {
      "needs_background": "light"
     },
     "output_type": "display_data"
    }
   ],
   "source": [
    "# Call the resample function with time from the whole population, mean as statistic, sample size of 25\n",
    "result = bootstrap(pop_df['time'], 25, np.mean)\n",
    "\n",
    "# Report the mean and the standard deviation of the resampled estimates\n",
    "print(f\"Mean of the resampled estimates: {np.mean(result)}\\nStandard deviation of the resampled estimates: {np.std(result)}\")\n",
    "\n",
    "# Plot a histogram of the samples\n",
    "plt.hist(result.reshape(-1,1), bins = 15)\n",
    "plt.title('Histogram of the means distribution')\n",
    "plt.xlabel('Mean of time')\n",
    "plt.ylabel('Count')"
   ]
  },
  {
   "cell_type": "code",
   "execution_count": 13,
   "id": "d866c7d1",
   "metadata": {},
   "outputs": [
    {
     "name": "stdout",
     "output_type": "stream",
     "text": [
      "The mean of the mean distribution using sample size of 50 is 94.534\n",
      "The std of the mean distribution using sample size of 50 is 2.241\n",
      "\n",
      "\n",
      "The mean of the mean distribution using sample size of 100 is 94.605\n",
      "The std of the mean distribution using sample size of 100 is 1.577\n"
     ]
    }
   ],
   "source": [
    "# Calculating the mean of the distribution using sample size of 50\n",
    "statDist50 = bootstrap(pop_df['time'], 50, np.mean)\n",
    "statMean50 = statDist50.mean()\n",
    "statStd50  = statDist50.std()\n",
    "print('The mean of the mean distribution using sample size of 50 is %.3f' % statMean50)\n",
    "print('The std of the mean distribution using sample size of 50 is %.3f\\n\\n' % statStd50)\n",
    "\n",
    "# Calculating the mean of the distribution using sample size of 100\n",
    "statDist100 = bootstrap(pop_df['time'], 100, np.mean)\n",
    "statMean100 = statDist100.mean()\n",
    "statStd100  = statDist100.std()\n",
    "print('The mean of the mean distribution using sample size of 100 is %.3f' % statMean100)\n",
    "print('The std of the mean distribution using sample size of 100 is %.3f' % statStd100)"
   ]
  },
  {
   "cell_type": "markdown",
   "id": "bcd41223",
   "metadata": {},
   "source": [
    "The mean of the distribution stays roughly the same (close to the population mean). However, the standard deviation decreases as we increase the sample size. That's because by increasing the sample size, we are including more data points in out estimates, hence the standard deviation of the stat decreases."
   ]
  },
  {
   "cell_type": "code",
   "execution_count": 15,
   "id": "f9ddc545",
   "metadata": {},
   "outputs": [
    {
     "name": "stdout",
     "output_type": "stream",
     "text": [
      "The predicted SEM for N=25 samples is 3.1844251740179077\n",
      "The predicted SEM for N=50 samples is 2.251728634729214\n",
      "The predicted SEM for N=100 samples is 1.5922125870089539\n"
     ]
    }
   ],
   "source": [
    "# Calculate the predicted standard error of the mean from the population standard deviation and the same size for N=25, N=50, and N=100\n",
    "print('The predicted SEM for N=25 samples is', pop_df['time'].std()/np.sqrt(25))\n",
    "print('The predicted SEM for N=50 samples is', pop_df['time'].std()/np.sqrt(50))\n",
    "print('The predicted SEM for N=100 samples is', pop_df['time'].std()/np.sqrt(100))"
   ]
  },
  {
   "cell_type": "markdown",
   "id": "dd91c2f7",
   "metadata": {},
   "source": [
    "The predicted SEMs very tightly match the empricial ones."
   ]
  },
  {
   "cell_type": "markdown",
   "id": "1a24b6e6",
   "metadata": {},
   "source": [
    "## Task 3: Calculating Confidence Intervals"
   ]
  },
  {
   "cell_type": "code",
   "execution_count": 20,
   "id": "28489fcd",
   "metadata": {},
   "outputs": [],
   "source": [
    "# Write a function (confidenceInt) that determines a confidence interval for a data series\n",
    "def confidenceInt(data, prec):\n",
    "    # Get lower bound\n",
    "    lower = (100-prec)/2\n",
    "    \n",
    "    # Get upper bound\n",
    "    upper = 100 - lower\n",
    "    \n",
    "    # Get specific percentile of the data\n",
    "    ci = np.percentile(data, [lower, upper]) \n",
    "    \n",
    "    # Return confidence interval\n",
    "    return ci"
   ]
  },
  {
   "cell_type": "code",
   "execution_count": 21,
   "id": "450fe7b8",
   "metadata": {},
   "outputs": [
    {
     "name": "stdout",
     "output_type": "stream",
     "text": [
      "The confidence 95% interval for the mean estimate of sample of 25 is [ 88.26902 101.03253]\n"
     ]
    }
   ],
   "source": [
    "# Use bootstrap function above to generate 1000 artificial samples of 25. \n",
    "samples25 = bootstrap(pop_df['time'], 25, np.mean)\n",
    "#print(result.shape)\n",
    "\n",
    "# Determine the confidence 95% interval for the mean estimate of sample of 25\n",
    "ci = confidenceInt(samples25, 95)\n",
    "\n",
    "# Report the interval\n",
    "print(f\"The confidence 95% interval for the mean estimate of sample of 25 is {ci}\")"
   ]
  },
  {
   "cell_type": "code",
   "execution_count": 26,
   "id": "68dd95c6",
   "metadata": {},
   "outputs": [
    {
     "name": "stdout",
     "output_type": "stream",
     "text": [
      "[ 88.55473 100.52603]\n"
     ]
    },
    {
     "data": {
      "text/plain": [
       "<matplotlib.lines.Line2D at 0x7f84f014bdc0>"
      ]
     },
     "execution_count": 26,
     "metadata": {},
     "output_type": "execute_result"
    },
    {
     "data": {
      "image/png": "[encoded data removed]",
      "text/plain": [
       "<Figure size 432x288 with 1 Axes>"
      ]
     },
     "metadata": {
      "needs_background": "light"
     },
     "output_type": "display_data"
    }
   ],
   "source": [
    "# Repeat the plotting of the histogram from task 2\n",
    "plt.hist(result.reshape(-1,1), bins = 20)\n",
    "plt.title('Histogram of the means distribution')\n",
    "plt.xlabel('Mean of time')\n",
    "plt.ylabel('Count')\n",
    "\n",
    "# Get confidence interval\n",
    "ci = confidenceInt(result, 95)\n",
    "print(ci)\n",
    "\n",
    "# Plot the lower and upper bound of the confidence interval\n",
    "plt.axvline(x = ci[0], color = 'red')\n",
    "plt.axvline(x = ci[1], color = 'red')"
   ]
  },
  {
   "cell_type": "markdown",
   "id": "04da3bcc",
   "metadata": {},
   "source": [
    "## Task 4: Bootstraping from the Sample"
   ]
  },
  {
   "cell_type": "code",
   "execution_count": 27,
   "id": "a3f0971d",
   "metadata": {},
   "outputs": [
    {
     "name": "stdout",
     "output_type": "stream",
     "text": [
      "The mean of the bootstrap samples is 98.2795288\n",
      "The standard deviation of the samples is 2.894176794663823\n",
      "The 95% confidence interval is [ 92.61197 103.991  ]\n"
     ]
    }
   ],
   "source": [
    "# Load the sample stored in run10sample.csv. \n",
    "sample_df = pd.read_csv('run10sample.csv')\n",
    "\n",
    "# Call the bootstrap with the time, 25 data points, 1000 bootstrap samples\n",
    "result_25 = bootstrap(sample_df['time'], 25, np.mean, 1000)\n",
    "\n",
    "# Report the mean of the bootstrap samples, the standard deviation of the samples, the 95% confidence interval\n",
    "print(f\"The mean of the bootstrap samples is {np.mean(result_25)}\")\n",
    "print(f\"The standard deviation of the samples is {np.std(result_25)}\")\n",
    "\n",
    "# Get confidence interval\n",
    "ci_25 = confidenceInt(result_25, 95)\n",
    "\n",
    "# Print c.i.\n",
    "print(f\"The 95% confidence interval is {ci_25}\")"
   ]
  },
  {
   "cell_type": "code",
   "execution_count": 28,
   "id": "743b5f7c",
   "metadata": {},
   "outputs": [
    {
     "data": {
      "text/plain": [
       "<matplotlib.lines.Line2D at 0x7f84f017ef10>"
      ]
     },
     "execution_count": 28,
     "metadata": {},
     "output_type": "execute_result"
    },
    {
     "data": {
      "image/png": "[encoded data removed]",
      "text/plain": [
       "<Figure size 432x288 with 1 Axes>"
      ]
     },
     "metadata": {
      "needs_background": "light"
     },
     "output_type": "display_data"
    }
   ],
   "source": [
    "# Plot of the histogram of bootstrap samples\n",
    "plt.hist(result_25.reshape(-1,1))\n",
    "plt.title('Histogram of the means distribution')\n",
    "plt.xlabel('Mean time')\n",
    "plt.ylabel('Count')\n",
    "\n",
    "# Plot the lower and upper bound of the confidence interval\n",
    "plt.axvline(x = ci_25[0], color = 'black')\n",
    "plt.axvline(x = ci_25[1], color = 'black')\n",
    "\n",
    "# Plot the true population mean\n",
    "plt.axvline(x = pop_mean_time, color = 'red')"
   ]
  },
  {
   "cell_type": "markdown",
   "id": "37feacb0",
   "metadata": {},
   "source": [
    "Both the population mean and the time for last year's are included in the confidence interval. Thus there is no statstical evidence from our sample, that the race has gotten faster."
   ]
  }
 ],
 "metadata": {
  "kernelspec": {
   "display_name": "Python 3 (ipykernel)",
   "language": "python",
   "name": "python3"
  },
  "language_info": {
   "codemirror_mode": {
    "name": "ipython",
    "version": 3
   },
   "file_extension": ".py",
   "mimetype": "text/x-python",
   "name": "python",
   "nbconvert_exporter": "python",
   "pygments_lexer": "ipython3",
   "version": "3.9.7"
  }
 },
 "nbformat": 4,
 "nbformat_minor": 5
}
