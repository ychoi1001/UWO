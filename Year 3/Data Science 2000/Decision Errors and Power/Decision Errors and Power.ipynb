{
 "cells": [
  {
   "cell_type": "markdown",
   "id": "a426ad19",
   "metadata": {},
   "source": [
    "## Learning Outcomes\n",
    "We will conduct randomization and Monte-Carlo simulation tests to determine whether a specific effect is statistically significant. Randomization and simulation tests are universal and powerful way to do this, and form an essential part of the toolkit of any Data Scientist. \n",
    "## Problem Description\n",
    "In Task 1 & 2, we continue with the movie dataset. In Task 3, you are asked to program a simple monte-Carlo simulation test.  "
   ]
  },
  {
   "cell_type": "code",
   "execution_count": 14,
   "id": "1d5c08ad",
   "metadata": {},
   "outputs": [
    {
     "data": {
      "text/html": [
       "<div>\n",
       "<style scoped>\n",
       "    .dataframe tbody tr th:only-of-type {\n",
       "        vertical-align: middle;\n",
       "    }\n",
       "\n",
       "    .dataframe tbody tr th {\n",
       "        vertical-align: top;\n",
       "    }\n",
       "\n",
       "    .dataframe thead th {\n",
       "        text-align: right;\n",
       "    }\n",
       "</style>\n",
       "<table border=\"1\" class=\"dataframe\">\n",
       "  <thead>\n",
       "    <tr style=\"text-align: right;\">\n",
       "      <th></th>\n",
       "      <th>Unnamed: 0</th>\n",
       "      <th>boxoff</th>\n",
       "      <th>prodcost</th>\n",
       "      <th>dirIncome</th>\n",
       "      <th>dirGender</th>\n",
       "      <th>year</th>\n",
       "      <th>month</th>\n",
       "      <th>genre</th>\n",
       "      <th>numTheatres</th>\n",
       "    </tr>\n",
       "  </thead>\n",
       "  <tbody>\n",
       "    <tr>\n",
       "      <th>0</th>\n",
       "      <td>0</td>\n",
       "      <td>88.648583</td>\n",
       "      <td>44.742936</td>\n",
       "      <td>3.393535</td>\n",
       "      <td>male</td>\n",
       "      <td>2012</td>\n",
       "      <td>3</td>\n",
       "      <td>comedy</td>\n",
       "      <td>139.0</td>\n",
       "    </tr>\n",
       "    <tr>\n",
       "      <th>1</th>\n",
       "      <td>1</td>\n",
       "      <td>145.334924</td>\n",
       "      <td>38.835516</td>\n",
       "      <td>1.134711</td>\n",
       "      <td>female</td>\n",
       "      <td>2014</td>\n",
       "      <td>11</td>\n",
       "      <td>drama</td>\n",
       "      <td>213.0</td>\n",
       "    </tr>\n",
       "    <tr>\n",
       "      <th>2</th>\n",
       "      <td>2</td>\n",
       "      <td>238.265684</td>\n",
       "      <td>29.532283</td>\n",
       "      <td>2.418883</td>\n",
       "      <td>male</td>\n",
       "      <td>2015</td>\n",
       "      <td>6</td>\n",
       "      <td>other</td>\n",
       "      <td>100.0</td>\n",
       "    </tr>\n",
       "    <tr>\n",
       "      <th>3</th>\n",
       "      <td>3</td>\n",
       "      <td>212.714742</td>\n",
       "      <td>157.111899</td>\n",
       "      <td>2.034115</td>\n",
       "      <td>male</td>\n",
       "      <td>2014</td>\n",
       "      <td>10</td>\n",
       "      <td>adventure</td>\n",
       "      <td>436.0</td>\n",
       "    </tr>\n",
       "    <tr>\n",
       "      <th>4</th>\n",
       "      <td>4</td>\n",
       "      <td>120.175461</td>\n",
       "      <td>30.547155</td>\n",
       "      <td>0.963219</td>\n",
       "      <td>female</td>\n",
       "      <td>2012</td>\n",
       "      <td>1</td>\n",
       "      <td>comedy</td>\n",
       "      <td>115.0</td>\n",
       "    </tr>\n",
       "  </tbody>\n",
       "</table>\n",
       "</div>"
      ],
      "text/plain": [
       "   Unnamed: 0      boxoff    prodcost  dirIncome dirGender  year  month  \\\n",
       "0           0   88.648583   44.742936   3.393535      male  2012      3   \n",
       "1           1  145.334924   38.835516   1.134711    female  2014     11   \n",
       "2           2  238.265684   29.532283   2.418883      male  2015      6   \n",
       "3           3  212.714742  157.111899   2.034115      male  2014     10   \n",
       "4           4  120.175461   30.547155   0.963219    female  2012      1   \n",
       "\n",
       "       genre  numTheatres  \n",
       "0     comedy        139.0  \n",
       "1      drama        213.0  \n",
       "2      other        100.0  \n",
       "3  adventure        436.0  \n",
       "4     comedy        115.0  "
      ]
     },
     "execution_count": 14,
     "metadata": {},
     "output_type": "execute_result"
    }
   ],
   "source": [
    "# Importing packages\n",
    "import matplotlib\n",
    "#matplotlib.use('TkAgg')\n",
    "import matplotlib.pyplot as plt \n",
    "%matplotlib inline\n",
    "import seaborn as sns\n",
    "\n",
    "import numpy as np\n",
    "import pandas as pd\n",
    "import scipy.stats as stats\n",
    "\n",
    "df = pd.read_csv('movieDataset.csv')\n",
    "df.head()"
   ]
  },
  {
   "cell_type": "markdown",
   "id": "d3a0f2a6",
   "metadata": {},
   "source": [
    "## TASK 1: Chi-square Test of Independence\n",
    "To test whether two discrete variables interact with each other, you can perform the Chi-sqaure test. The Chi-square statistic measures the deviation of the observed cell counts in a contingency table to the expected counts."
   ]
  },
  {
   "cell_type": "markdown",
   "id": "00b67148",
   "metadata": {},
   "source": [
    "We want to test the hypothesis that there is a systematic relationship between director Gender and film genre.\n",
    "> The Null-hypothesis is that film genre is independent of director Gender. The Null-hypothesis predicts that the observed cell counts do not differ (significantly) from the expected cells counts under independence."
   ]
  },
  {
   "cell_type": "markdown",
   "id": "883ca099",
   "metadata": {},
   "source": [
    "From the table of the observed frequencies of genre / director Gender, generate a table that shows the expected frequencies if genre and gender were independent. The Marginal counts in the table should stay unchanged."
   ]
  },
  {
   "cell_type": "code",
   "execution_count": 3,
   "id": "ba7749cc",
   "metadata": {},
   "outputs": [
    {
     "data": {
      "text/html": [
       "<div>\n",
       "<style scoped>\n",
       "    .dataframe tbody tr th:only-of-type {\n",
       "        vertical-align: middle;\n",
       "    }\n",
       "\n",
       "    .dataframe tbody tr th {\n",
       "        vertical-align: top;\n",
       "    }\n",
       "\n",
       "    .dataframe thead th {\n",
       "        text-align: right;\n",
       "    }\n",
       "</style>\n",
       "<table border=\"1\" class=\"dataframe\">\n",
       "  <thead>\n",
       "    <tr style=\"text-align: right;\">\n",
       "      <th>genre</th>\n",
       "      <th>action</th>\n",
       "      <th>adventure</th>\n",
       "      <th>comedy</th>\n",
       "      <th>drama</th>\n",
       "      <th>other</th>\n",
       "    </tr>\n",
       "    <tr>\n",
       "      <th>dirGender</th>\n",
       "      <th></th>\n",
       "      <th></th>\n",
       "      <th></th>\n",
       "      <th></th>\n",
       "      <th></th>\n",
       "    </tr>\n",
       "  </thead>\n",
       "  <tbody>\n",
       "    <tr>\n",
       "      <th>female</th>\n",
       "      <td>9</td>\n",
       "      <td>6</td>\n",
       "      <td>13</td>\n",
       "      <td>5</td>\n",
       "      <td>4</td>\n",
       "    </tr>\n",
       "    <tr>\n",
       "      <th>male</th>\n",
       "      <td>48</td>\n",
       "      <td>58</td>\n",
       "      <td>35</td>\n",
       "      <td>31</td>\n",
       "      <td>41</td>\n",
       "    </tr>\n",
       "  </tbody>\n",
       "</table>\n",
       "</div>"
      ],
      "text/plain": [
       "genre      action  adventure  comedy  drama  other\n",
       "dirGender                                         \n",
       "female          9          6      13      5      4\n",
       "male           48         58      35     31     41"
      ]
     },
     "execution_count": 3,
     "metadata": {},
     "output_type": "execute_result"
    }
   ],
   "source": [
    "# Test crosstab\n",
    "pd.crosstab(df['dirGender'], df['genre'])"
   ]
  },
  {
   "cell_type": "code",
   "execution_count": 5,
   "id": "b223116f",
   "metadata": {},
   "outputs": [
    {
     "data": {
      "text/html": [
       "<div>\n",
       "<style scoped>\n",
       "    .dataframe tbody tr th:only-of-type {\n",
       "        vertical-align: middle;\n",
       "    }\n",
       "\n",
       "    .dataframe tbody tr th {\n",
       "        vertical-align: top;\n",
       "    }\n",
       "\n",
       "    .dataframe thead th {\n",
       "        text-align: right;\n",
       "    }\n",
       "</style>\n",
       "<table border=\"1\" class=\"dataframe\">\n",
       "  <thead>\n",
       "    <tr style=\"text-align: right;\">\n",
       "      <th>dirGender</th>\n",
       "      <th>female</th>\n",
       "      <th>male</th>\n",
       "    </tr>\n",
       "    <tr>\n",
       "      <th>genre</th>\n",
       "      <th></th>\n",
       "      <th></th>\n",
       "    </tr>\n",
       "  </thead>\n",
       "  <tbody>\n",
       "    <tr>\n",
       "      <th>action</th>\n",
       "      <td>9</td>\n",
       "      <td>48</td>\n",
       "    </tr>\n",
       "    <tr>\n",
       "      <th>adventure</th>\n",
       "      <td>6</td>\n",
       "      <td>58</td>\n",
       "    </tr>\n",
       "    <tr>\n",
       "      <th>comedy</th>\n",
       "      <td>13</td>\n",
       "      <td>35</td>\n",
       "    </tr>\n",
       "    <tr>\n",
       "      <th>drama</th>\n",
       "      <td>5</td>\n",
       "      <td>31</td>\n",
       "    </tr>\n",
       "    <tr>\n",
       "      <th>other</th>\n",
       "      <td>4</td>\n",
       "      <td>41</td>\n",
       "    </tr>\n",
       "  </tbody>\n",
       "</table>\n",
       "</div>"
      ],
      "text/plain": [
       "dirGender  female  male\n",
       "genre                  \n",
       "action          9    48\n",
       "adventure       6    58\n",
       "comedy         13    35\n",
       "drama           5    31\n",
       "other           4    41"
      ]
     },
     "metadata": {},
     "output_type": "display_data"
    },
    {
     "data": {
      "text/plain": [
       "array([[ 8.436, 48.564],\n",
       "       [ 9.472, 54.528],\n",
       "       [ 7.104, 40.896],\n",
       "       [ 5.328, 30.672],\n",
       "       [ 6.66 , 38.34 ]])"
      ]
     },
     "metadata": {},
     "output_type": "display_data"
    }
   ],
   "source": [
    "# The observed values in a contingency table\n",
    "obs_ctab = pd.crosstab(df['genre'], df['dirGender'])\n",
    "display(obs_ctab)\n",
    "\n",
    "# The observed values in a numpy array (matrix)\n",
    "obs_array = np.array(obs_ctab)\n",
    "\n",
    "# First, get the dimensions of the observed_array\n",
    "[n_row, n_col] = obs_array.shape\n",
    "\n",
    "# Initialize the expected_array to be all zeros\n",
    "exp_array = np.zeros([n_row, n_col])\n",
    "\n",
    "\n",
    "# Generate a table that shows the expected frequencies if genre and gender were independent\n",
    "for i in range(n_row):\n",
    "    #print(i)\n",
    "    for j in range(n_col):\n",
    "        #print(j)\n",
    "        exp_array[i,j] = (np.sum(obs_array[i,:]) * np.sum(obs_array[:,j]))/np.sum(obs_array.flatten())\n",
    "\n",
    "# Display expected frequencies table\n",
    "display(exp_array)"
   ]
  },
  {
   "cell_type": "markdown",
   "id": "d7edc084",
   "metadata": {},
   "source": [
    "Create one function that takes the data frame as input and calculates a statistics of the overall deviation between expected and observed frequencies: \n",
    "$χ^2 = \\sum_i(O_i-E_i)^2/E_i)$ \n",
    "\n",
    "Where $O_i$ is the observed frequency for cell $i$, $E_i$ is the expected frequency for cell $i$, assuming independence of gender and genre. The sum is to be taken over all 10 cells. This test-statistic is called the Chi-square test of independence.\n",
    "\n",
    "Report the value of this statistic for the real data. "
   ]
  },
  {
   "cell_type": "code",
   "execution_count": 6,
   "id": "0e37daf8",
   "metadata": {},
   "outputs": [
    {
     "name": "stdout",
     "output_type": "stream",
     "text": [
      "The result is: 8.552103\n"
     ]
    }
   ],
   "source": [
    "def chi_square(df):\n",
    "    \"\"\"\n",
    "    chi_square(df): calculates a statistics of the overall deviation between expected and observed frequencies\n",
    "    df - dataframe\n",
    "    return test statistics\n",
    "    \"\"\"\n",
    "    # The observed values in a contingency table\n",
    "    obs_ctab = pd.crosstab(df['genre'], df['dirGender'])\n",
    "    \n",
    "    # The observed values in a numpy array (matrix)\n",
    "    obs_array = np.array(obs_ctab)\n",
    "    \n",
    "    # First, get the dimensions of the observed_array\n",
    "    [n_row, n_col] = obs_array.shape\n",
    "    \n",
    "    # Initialize the expected_array to be all zeros\n",
    "    exp_array = np.zeros([n_row, n_col])\n",
    "    \n",
    "    # Initialize empty array for test statistics\n",
    "    empty_arr = np.zeros([n_row, n_col])\n",
    "    \n",
    "    # Get expected_array and calculate test statistics using nested for loops\n",
    "    for i in range(n_row):\n",
    "        for j in range(n_col):\n",
    "            # Generate a table that shows the expected frequencies if genre and gender were independent\n",
    "            exp_array[i,j] = (np.sum(obs_array[i,:])*np.sum(obs_array[:,j]))/np.sum(obs_array.flatten())\n",
    "            \n",
    "            # Generate a table that shows deviation between expected and observed frequencies\n",
    "            empty_arr[i,j] = ((obs_array[i,j] - exp_array[i,j])**2)/exp_array[i,j]\n",
    "    \n",
    "    # Sum up everything to calculate test statistics\n",
    "    test_stat = np.sum(empty_arr.flatten())  \n",
    "    \n",
    "    # Return test statistics\n",
    "    return test_stat\n",
    "    \n",
    "result = chi_square(df)\n",
    "print(f'The result is: {result:.6f}')"
   ]
  },
  {
   "cell_type": "markdown",
   "id": "d379f6de",
   "metadata": {},
   "source": [
    "Randomization with flexible input arguments\n",
    "- The first argument should still be a dataframe (as before)\n",
    "- The second input argument should be a function that computes the test statistics. All test-statistic functions are assumed to take the data frame as the first and only input. \n",
    "- The third input argument is the name of the dataframe column that is being shuffled. \n",
    "- An optional input argument: the number of iterations (default=500)\n",
    "- An optional input argument: the number of sides of the test (1 or 2; default = 1). If the test is two-sided, then count the number of cases where the absolute value of the test statistic (np.abolute) is larger or equal to the real test statistic.\n",
    "- An optional input argument: The number of bins for plotting the histogram "
   ]
  },
  {
   "cell_type": "code",
   "execution_count": 7,
   "id": "81217f1b",
   "metadata": {},
   "outputs": [],
   "source": [
    "def permutation_test(data, fcn, shuffle, numIter = 500, side = 1, n_bins = 20): \n",
    "    # Initialize the numpy array that will store the test stat\n",
    "    stat = np.zeros(numIter, dtype = 'float64')\n",
    "    \n",
    "    ## 1. Shuffling the \"exchangeable\" variable\n",
    "    i = 0 # Iteration variable\n",
    "    while i < numIter:\n",
    "        \n",
    "        ## Permute (shuffle) the exchangeable variable\n",
    "        # Make a copy of the dataframe so that we don't modify the original dataframe object\n",
    "        tmpDf = df.copy()\n",
    "        \n",
    "        # Creates a new np array that will contain the indeces - These indeces will then be shuffled\n",
    "        sInd  = np.array(range(len(tmpDf.index)))\n",
    "        #print(tmpDf)\n",
    "        \n",
    "        # Shuffling the indeces (will be used to shuffle (permute) the gender)\n",
    "        np.random.shuffle(sInd)\n",
    "        \n",
    "        # Shuffling the column\n",
    "        tmpCol = tmpDf[shuffle].iloc[sInd]\n",
    "        #print(tmpCol)\n",
    "        \n",
    "        # Reorder the shuffled indeces (the gender variable has already been shuffled)\n",
    "        tmpCol = tmpCol.reset_index(drop = True) \n",
    "        #print(tmpCol)\n",
    "        \n",
    "        ## Insert the shuffled variable into the dataframe\n",
    "        tmpDf[shuffle] = tmpCol\n",
    "        #print(tmpDf)\n",
    "        \n",
    "        ## Calculate the test stat.\n",
    "        stat[i] = fcn(tmpDf)\n",
    "        \n",
    "        # Increase i\n",
    "        i += 1\n",
    "        \n",
    "    \n",
    "    ## 2. Plotting the histogram of the test statistic\n",
    "    plt.figure()\n",
    "    plt.hist(stat, bins = n_bins)\n",
    "    empStat = fcn(data)\n",
    "    \n",
    "    if side == 1:\n",
    "        plt.axvline(x = empStat, color = 'r')\n",
    "    else:       \n",
    "        plt.axvline(x = -empStat, color = 'r')\n",
    "        plt.axvline(x = empStat, color = 'r')\n",
    "    \n",
    "    plt.title(\"Histogram of the Test Statistics\")\n",
    "    plt.xlabel(\"Test statistics\")\n",
    "    plt.ylabel(\"Count\")\n",
    "    plt.show()\n",
    "    \n",
    "    ## 3. Calculating the p-value (one-sided)\n",
    "    if side == 1:\n",
    "        p_value = sum(stat >= empStat)/len(stat)\n",
    "    else:\n",
    "        p_value = sum(np.absolute(stat) >= empStat)/len(stat)\n",
    "    \n",
    "    print('P-value of the randomisation test is p = ',p_value)\n",
    "    \n",
    "    return p_value"
   ]
  },
  {
   "cell_type": "markdown",
   "id": "0fd90038",
   "metadata": {},
   "source": [
    "Perform a randomization test for the Chi-square test of independence"
   ]
  },
  {
   "cell_type": "code",
   "execution_count": 8,
   "id": "e6ea183b",
   "metadata": {},
   "outputs": [
    {
     "data": {
      "image/png": "[encoded data removed]",
      "text/plain": [
       "<Figure size 432x288 with 1 Axes>"
      ]
     },
     "metadata": {
      "needs_background": "light"
     },
     "output_type": "display_data"
    },
    {
     "name": "stdout",
     "output_type": "stream",
     "text": [
      "P-value of the randomisation test is p =  0.072\n"
     ]
    },
    {
     "data": {
      "text/plain": [
       "0.072"
      ]
     },
     "execution_count": 8,
     "metadata": {},
     "output_type": "execute_result"
    }
   ],
   "source": [
    "permutation_test(df, chi_square, \"dirGender\", 500, 1, 10)"
   ]
  },
  {
   "cell_type": "markdown",
   "id": "35e300a0",
   "metadata": {},
   "source": [
    "Since p-value is larger than 0.05, we do not reject the null hypothesis that gender and genre are independent."
   ]
  },
  {
   "cell_type": "markdown",
   "id": "3724e5c6",
   "metadata": {},
   "source": [
    "## TASK 2: Randomization Test for Mean Differences\n",
    "In this task, we will test the hypothesis that male and female directors differ in their annual income. Note that the hypothesis is undirected, meaning it could mean either that men earn more than women, or that women earn more than men."
   ]
  },
  {
   "cell_type": "markdown",
   "id": "e26d0aae",
   "metadata": {},
   "source": [
    "The corresponding Null-hypothesis is that the mean annual income for men and women directors is identical."
   ]
  },
  {
   "cell_type": "markdown",
   "id": "d47e2cbd",
   "metadata": {},
   "source": [
    "Write a function that calculates and returns the difference in director salaries depending on the gender (male average income – female average income). Report the value."
   ]
  },
  {
   "cell_type": "code",
   "execution_count": 17,
   "id": "50f74fbb",
   "metadata": {},
   "outputs": [
    {
     "name": "stdout",
     "output_type": "stream",
     "text": [
      "The average income difference is: 1.222680\n"
     ]
    }
   ],
   "source": [
    "def avg_income_diff(data):\n",
    "    \"\"\"\n",
    "    Args:\n",
    "        data (pd.dataframe) - input dataset        \n",
    "        \n",
    "    Returns:\n",
    "        diff (float) - difference between avg incomes\n",
    "    \"\"\"\n",
    "    #groping by genrder\n",
    "    income_by_gender = data['dirIncome'].groupby(data['dirGender'])\n",
    "    \n",
    "    #income for male\n",
    "    income_m = income_by_gender.get_group('male')\n",
    "    \n",
    "    #income for female\n",
    "    income_f = income_by_gender.get_group('female')\n",
    "    \n",
    "    #the difference in director salaries depending on the gender\n",
    "    diff = income_m.mean() - income_f.mean()\n",
    "    \n",
    "    #return diff\n",
    "    return diff\n",
    "\n",
    "# test function\n",
    "diff = avg_income_diff(df)\n",
    "print(f'The average income difference is: {diff:.6f}')"
   ]
  },
  {
   "cell_type": "markdown",
   "id": "f9d7028b",
   "metadata": {},
   "source": [
    "Use your randomization test function to perform a randomization test to determine whether the reported difference is statistical significant. Plot a histogram of the null-distribution and the real value. Report the p-value for the two-sided test."
   ]
  },
  {
   "cell_type": "code",
   "execution_count": 18,
   "id": "0b4f89e6",
   "metadata": {},
   "outputs": [
    {
     "data": {
      "image/png": "[encoded data removed]",
      "text/plain": [
       "<Figure size 432x288 with 1 Axes>"
      ]
     },
     "metadata": {
      "needs_background": "light"
     },
     "output_type": "display_data"
    },
    {
     "name": "stdout",
     "output_type": "stream",
     "text": [
      "P-value of the randomisation test is p =  0.0\n"
     ]
    },
    {
     "data": {
      "text/plain": [
       "0.0"
      ]
     },
     "execution_count": 18,
     "metadata": {},
     "output_type": "execute_result"
    }
   ],
   "source": [
    "permutation_test(df, avg_income_diff, \"dirGender\", 500, 2, 10)"
   ]
  },
  {
   "cell_type": "markdown",
   "id": "afe0e461",
   "metadata": {},
   "source": [
    "We can conclude that in our sample gender and director Salary are highly dependent, with women directors earning a different amount from male directors. While this is suggestive of gender discrimination we cannot make a causal claim (i.e. that the women made less only because of gender), as the data is from an observational study, not an experiment."
   ]
  },
  {
   "cell_type": "markdown",
   "id": "72fd8003",
   "metadata": {},
   "source": [
    "## Task 3: Monte-Carlo Simulation Test\n",
    "People providing an organ for donation sometimes seek help from a medical consultant. These consultants assist the patient in all aspects of the surgery. Patients might choose a consultant based in part on the historical complication rate of the consultant's clients. Consultant R tries to attract patients by noting the average complication rate for liver donor surgeries in the US is about 10%, but her clients have had only 3 complications in the 62 liver donor surgeries she has facilitated. She claims this is strong evidence that her work meaningfully contributes to reducing complications (and therefore she should be hired!)."
   ]
  },
  {
   "cell_type": "markdown",
   "id": "00ca48bc",
   "metadata": {},
   "source": [
    "Write a function (monteCarloSim) that simulates coin tossing. On each trial, the function should produce a specific number (N) of coin tosses and record the number of successes (heads). It should repeat this experiment numIter number of times. The inputs to the function should be a) probability of a success on each coin toss, b) the number of coin tosses per trial (N) and c) the number of trials. The function should return an np.array(range(numIter)) that holds the recorded number of heads for all trials."
   ]
  },
  {
   "cell_type": "code",
   "execution_count": 19,
   "id": "d694a9d3",
   "metadata": {},
   "outputs": [],
   "source": [
    "def monteCarloSim(p_success, N, numIter):\n",
    "    \"\"\"\n",
    "    p_success: probability of a success on each coin toss\n",
    "    N: the number of coin tosses per trial\n",
    "    numIter: the number of trials\n",
    "    \"\"\"\n",
    "    \n",
    "    # Create an array to save results\n",
    "    resultArr = np.array(range(numIter))\n",
    "    \n",
    "    # Produce a specific number (N) of coin tosses and record the number of successes (heads)\n",
    "    # Repeat this experiment numIter number of times\n",
    "    for i in range(numIter):\n",
    "        # Produce a specific number (N) of coin tosses\n",
    "        coins = np.random.choice(a = [0, 1], size = N, replace = True, p = [1-p_success, p_success])\n",
    "        \n",
    "        # Record the number of successes (heads)\n",
    "        num_heads = np.sum(coins)\n",
    "        \n",
    "        # Holds the recorded number of heads for all trials\n",
    "        resultArr[i] = num_heads\n",
    "    \n",
    "    # Return the result array\n",
    "    return resultArr"
   ]
  },
  {
   "cell_type": "code",
   "execution_count": 20,
   "id": "682b2711",
   "metadata": {},
   "outputs": [
    {
     "data": {
      "text/plain": [
       "array([7, 7, 3, 6, 7, 6, 5, 4, 6, 5, 4, 7, 5, 5, 9, 6, 6, 5, 7, 4])"
      ]
     },
     "execution_count": 20,
     "metadata": {},
     "output_type": "execute_result"
    }
   ],
   "source": [
    "# Test my simulator\n",
    "monteCarloSim(0.5, 10, 20)"
   ]
  },
  {
   "cell_type": "markdown",
   "id": "eddacbc7",
   "metadata": {},
   "source": [
    "Write a function (monteCarloTest) that uses monteCarloSim to simulate 1000 trials. The function should also plot a histogram of the recorded number of heads, and mark the real measured number with a vertical line. The function should print out the probability that the simulated number of heads is smaller than or equal to the measured number of heads. Input arguments should be \n",
    "- the probability of a success under the Null-hypothesis, \n",
    "- the number of coin tosses per trial, and \n",
    "- the measured number of heads. \n",
    "\n",
    "Use the function to evaluate the probability to get 3 complications in 62 cases if the probability of a complication in the population is known to be 10%."
   ]
  },
  {
   "cell_type": "code",
   "execution_count": 26,
   "id": "b091718f",
   "metadata": {},
   "outputs": [],
   "source": [
    "def monteCarloTest(p_success, N, observed_heads):\n",
    "    \"\"\"\n",
    "    p_sucess: the probability of a success under the Null-hypothesis,\n",
    "    N: the number of coin tosses per trial\n",
    "    observed_heads: the measured number of heads\n",
    "    \"\"\"\n",
    "    numIter = 1000\n",
    "    head_array = monteCarloSim(p_success, N, numIter)\n",
    "    \n",
    "    # Plot the histogram for head_array\n",
    "    plt.figure()\n",
    "    plt.hist(head_array, bins = 10)\n",
    "    plt.title(\"Histogram for head_array\")\n",
    "    plt.xlabel(\"Heads\")\n",
    "    plt.ylabel(\"Count\")\n",
    "    \n",
    "    # Put a vertical line on the histogram  (represents the observed number of heads)\n",
    "    plt.axvline(x = observed_heads, color = 'r')\n",
    "    \n",
    "    # Calculate the probability\n",
    "    p_value = sum(head_array <= observed_heads)/len(head_array)\n",
    "    \n",
    "    # Return p value\n",
    "    return p_value"
   ]
  },
  {
   "cell_type": "code",
   "execution_count": 27,
   "id": "a5947051",
   "metadata": {},
   "outputs": [
    {
     "name": "stdout",
     "output_type": "stream",
     "text": [
      "P-value of the monteCarloTest is p =  0.125\n"
     ]
    },
    {
     "data": {
      "image/png": "[encoded data removed]",
      "text/plain": [
       "<Figure size 432x288 with 1 Axes>"
      ]
     },
     "metadata": {
      "needs_background": "light"
     },
     "output_type": "display_data"
    }
   ],
   "source": [
    "# Evaluate the probability to get 3 complications in 62 cases \n",
    "# If the probability of a complication in the population is known to be 10%\n",
    "p_val = monteCarloTest(0.1, 62, 3)\n",
    "print('P-value of the monteCarloTest is p = ',p_val)"
   ]
  },
  {
   "cell_type": "markdown",
   "id": "6c34478a",
   "metadata": {},
   "source": [
    "Since we have a quite large p value (larger than 0.05), we fail to reject the null hypothesis that the medical advisor does not have any beneficial effect on the complication rate. Thus, there is no significant statistical evidence that would justify the claim that the advisor is lowering complication rates."
   ]
  }
 ],
 "metadata": {
  "kernelspec": {
   "display_name": "Python 3 (ipykernel)",
   "language": "python",
   "name": "python3"
  },
  "language_info": {
   "codemirror_mode": {
    "name": "ipython",
    "version": 3
   },
   "file_extension": ".py",
   "mimetype": "text/x-python",
   "name": "python",
   "nbconvert_exporter": "python",
   "pygments_lexer": "ipython3",
   "version": "3.9.7"
  }
 },
 "nbformat": 4,
 "nbformat_minor": 5
}
