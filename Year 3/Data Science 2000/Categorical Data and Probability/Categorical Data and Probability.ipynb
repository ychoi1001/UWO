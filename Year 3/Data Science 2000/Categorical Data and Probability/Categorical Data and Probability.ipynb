{
 "cells": [
  {
   "cell_type": "markdown",
   "id": "4146e9f9",
   "metadata": {},
   "source": [
    "### Learning Outcomes \n",
    "By completing this project, you will gain and demonstrate skills relating to \n",
    "- working within the python environment  \n",
    "- visualizing of numerical data continued \n",
    "- tabulation and plotting of discrete data \n",
    "- Calculating joint, marginal, and conditional probabilities  \n",
    "- Summarizing and plotting numerical data by group \n",
    "\n",
    "### Problem Description\n",
    "As a data scientist for a Hollywood investment company you have been charged with creating a summary of the last 250 movies so that your boss can have a deeper understanding of the movie industry. The dataset that you will be working with includes 8 different variables: \n",
    "- North American box office revenue  \n",
    "- Cost to produce the movie \n",
    "- Income of the director \n",
    "- Gender of the director \n",
    "- Year of release \n",
    "- Month of release \n",
    "- Movie genre \n",
    "- Number of theaters at release "
   ]
  },
  {
   "cell_type": "markdown",
   "id": "30ae2004",
   "metadata": {},
   "source": [
    "## Task 1: Plotting Histograms II (Subplots)"
   ]
  },
  {
   "cell_type": "code",
   "execution_count": 1,
   "id": "a9626a3e",
   "metadata": {},
   "outputs": [],
   "source": [
    "# Set up notebook environment\n",
    "import matplotlib \n",
    "matplotlib.use('TkAgg') \n",
    "import matplotlib.pyplot as plt \n",
    "%matplotlib inline \n",
    "import pandas as pd"
   ]
  },
  {
   "cell_type": "code",
   "execution_count": 3,
   "id": "716d6f1c",
   "metadata": {},
   "outputs": [
    {
     "data": {
      "text/html": [
       "<div>\n",
       "<style scoped>\n",
       "    .dataframe tbody tr th:only-of-type {\n",
       "        vertical-align: middle;\n",
       "    }\n",
       "\n",
       "    .dataframe tbody tr th {\n",
       "        vertical-align: top;\n",
       "    }\n",
       "\n",
       "    .dataframe thead th {\n",
       "        text-align: right;\n",
       "    }\n",
       "</style>\n",
       "<table border=\"1\" class=\"dataframe\">\n",
       "  <thead>\n",
       "    <tr style=\"text-align: right;\">\n",
       "      <th></th>\n",
       "      <th>Unnamed: 0</th>\n",
       "      <th>boxoff</th>\n",
       "      <th>prodcost</th>\n",
       "      <th>dirIncome</th>\n",
       "      <th>dirGender</th>\n",
       "      <th>year</th>\n",
       "      <th>month</th>\n",
       "      <th>genre</th>\n",
       "      <th>numTheatres</th>\n",
       "      <th>profit</th>\n",
       "    </tr>\n",
       "  </thead>\n",
       "  <tbody>\n",
       "    <tr>\n",
       "      <th>0</th>\n",
       "      <td>0</td>\n",
       "      <td>88.648583</td>\n",
       "      <td>44.742936</td>\n",
       "      <td>3.393535</td>\n",
       "      <td>male</td>\n",
       "      <td>2012</td>\n",
       "      <td>3</td>\n",
       "      <td>comedy</td>\n",
       "      <td>139.0</td>\n",
       "      <td>43.905646</td>\n",
       "    </tr>\n",
       "    <tr>\n",
       "      <th>1</th>\n",
       "      <td>1</td>\n",
       "      <td>145.334924</td>\n",
       "      <td>38.835516</td>\n",
       "      <td>1.134711</td>\n",
       "      <td>female</td>\n",
       "      <td>2014</td>\n",
       "      <td>11</td>\n",
       "      <td>drama</td>\n",
       "      <td>213.0</td>\n",
       "      <td>106.499408</td>\n",
       "    </tr>\n",
       "    <tr>\n",
       "      <th>2</th>\n",
       "      <td>2</td>\n",
       "      <td>238.265684</td>\n",
       "      <td>29.532283</td>\n",
       "      <td>2.418883</td>\n",
       "      <td>male</td>\n",
       "      <td>2015</td>\n",
       "      <td>6</td>\n",
       "      <td>other</td>\n",
       "      <td>100.0</td>\n",
       "      <td>208.733401</td>\n",
       "    </tr>\n",
       "    <tr>\n",
       "      <th>3</th>\n",
       "      <td>3</td>\n",
       "      <td>212.714742</td>\n",
       "      <td>157.111899</td>\n",
       "      <td>2.034115</td>\n",
       "      <td>male</td>\n",
       "      <td>2014</td>\n",
       "      <td>10</td>\n",
       "      <td>adventure</td>\n",
       "      <td>436.0</td>\n",
       "      <td>55.602844</td>\n",
       "    </tr>\n",
       "    <tr>\n",
       "      <th>4</th>\n",
       "      <td>4</td>\n",
       "      <td>120.175461</td>\n",
       "      <td>30.547155</td>\n",
       "      <td>0.963219</td>\n",
       "      <td>female</td>\n",
       "      <td>2012</td>\n",
       "      <td>1</td>\n",
       "      <td>comedy</td>\n",
       "      <td>115.0</td>\n",
       "      <td>89.628307</td>\n",
       "    </tr>\n",
       "  </tbody>\n",
       "</table>\n",
       "</div>"
      ],
      "text/plain": [
       "   Unnamed: 0      boxoff    prodcost  dirIncome dirGender  year  month  \\\n",
       "0           0   88.648583   44.742936   3.393535      male  2012      3   \n",
       "1           1  145.334924   38.835516   1.134711    female  2014     11   \n",
       "2           2  238.265684   29.532283   2.418883      male  2015      6   \n",
       "3           3  212.714742  157.111899   2.034115      male  2014     10   \n",
       "4           4  120.175461   30.547155   0.963219    female  2012      1   \n",
       "\n",
       "       genre  numTheatres      profit  \n",
       "0     comedy        139.0   43.905646  \n",
       "1      drama        213.0  106.499408  \n",
       "2      other        100.0  208.733401  \n",
       "3  adventure        436.0   55.602844  \n",
       "4     comedy        115.0   89.628307  "
      ]
     },
     "metadata": {},
     "output_type": "display_data"
    }
   ],
   "source": [
    "# Load the movieDataset\n",
    "df = pd.read_csv('movieDataset.csv')\n",
    "\n",
    "# Calculate the new column "profit"\n",
    "df['profit']  = df['boxoff']-df['prodcost']\n",
    "\n",
    "# Display few data from the data set\n",
    "display(df.head())"
   ]
  },
  {
   "cell_type": "code",
   "execution_count": 4,
   "id": "5e9e6794",
   "metadata": {},
   "outputs": [
    {
     "data": {
      "text/plain": [
       "Text(0.5, 1.0, 'Histogram for Profit')"
      ]
     },
     "execution_count": 4,
     "metadata": {},
     "output_type": "execute_result"
    },
    {
     "data": {
      "image/png": "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\n",
      "text/plain": [
       "<Figure size 1440x1080 with 6 Axes>"
      ]
     },
     "metadata": {
      "needs_background": "light"
     },
     "output_type": "display_data"
    }
   ],
   "source": [
    "# Generate a new figure with an array of 6 subplots\n",
    "fig, axes = plt.subplots(nrows = 2, ncols = 3, figsize = (20,15))\n",
    "axes[0,0].hist(df['boxoff'], bins = 15)\n",
    "axes[0,0].set_xlabel('North American box office revenue')\n",
    "axes[0,0].set_ylabel('Counts')\n",
    "axes[0,0].set_title('Histogram for North American Box Office Revenue')\n",
    "\n",
    "axes[0,1].hist(df['prodcost'], bins = 15)\n",
    "axes[0,1].set_xlabel('Cost to produce the movie')\n",
    "axes[0,1].set_ylabel('Counts')\n",
    "axes[0,1].set_title('Histogram for Cost to Produce the Movie')\n",
    "\n",
    "axes[0,2].hist(df['dirIncome'], bins = 10)\n",
    "axes[0,2].set_xlabel('Director income')\n",
    "axes[0,2].set_ylabel('number of directors')\n",
    "axes[0,2].set_title('Histogram for Director Income')\n",
    "\n",
    "axes[1,0].hist(df['month'], bins = 12)\n",
    "axes[1,0].set_xlabel('Month of release')\n",
    "axes[1,0].set_ylabel('Counts')\n",
    "axes[1,0].set_title('Histogram for Month of Release')\n",
    "\n",
    "axes[1,1].hist(df['year'], bins = 4)\n",
    "axes[1,1].set_xlabel('Year of release')\n",
    "axes[1,1].set_ylabel('Counts')\n",
    "axes[1,1].set_title('Histogram for Year of Release')\n",
    "\n",
    "axes[1,2].hist(df['profit'], bins = 15)\n",
    "axes[1,2].set_xlabel('Profit')\n",
    "axes[1,2].set_ylabel('Counts')\n",
    "axes[1,2].set_title('Histogram for Profit')"
   ]
  },
  {
   "cell_type": "markdown",
   "id": "76211d3d",
   "metadata": {},
   "source": [
    "The number of bins should be set to a value so that the resulting distribution does not reveal too much details and at the same time shows the general trend of the data. In this case, for the box office revenue, cost to produce the movie, director income, and profit, I chose numbers that not only show not too much information but also do not hide information too much. For month and year, I chose 12 and 4 because there are 12 months and there are 4 years in dataframe."
   ]
  },
  {
   "cell_type": "markdown",
   "id": "3c88a771",
   "metadata": {},
   "source": [
    "Note that we imagine a smooth curve over the histogram.\n",
    "\n",
    "- Box office revenue: I think it could be unimodal and right skewed.\n",
    "- Cost to produce the movie: It could be be unimodal and right skewed. I think it is hard to say that it is bimodal since there is only one block betweem 50 and 75 is which is shorter than right and left side blocks.\n",
    "- Director income: I think it could be unimodal and right skewed.\n",
    "- Month of release: It is multimodal. There are around 3 modes.\n",
    "- Year of release: It is bimodal. There are two modes.\n",
    "- Profit: It is unimodal and symmetric."
   ]
  },
  {
   "cell_type": "markdown",
   "id": "278ca4be",
   "metadata": {},
   "source": [
    "## Task 2: Tabulating and Visualizing Categorical Data"
   ]
  },
  {
   "cell_type": "code",
   "execution_count": 5,
   "id": "8c9400e3",
   "metadata": {},
   "outputs": [
    {
     "data": {
      "text/html": [
       "<div>\n",
       "<style scoped>\n",
       "    .dataframe tbody tr th:only-of-type {\n",
       "        vertical-align: middle;\n",
       "    }\n",
       "\n",
       "    .dataframe tbody tr th {\n",
       "        vertical-align: top;\n",
       "    }\n",
       "\n",
       "    .dataframe thead th {\n",
       "        text-align: right;\n",
       "    }\n",
       "</style>\n",
       "<table border=\"1\" class=\"dataframe\">\n",
       "  <thead>\n",
       "    <tr style=\"text-align: right;\">\n",
       "      <th>genre</th>\n",
       "      <th>action</th>\n",
       "      <th>adventure</th>\n",
       "      <th>comedy</th>\n",
       "      <th>drama</th>\n",
       "      <th>other</th>\n",
       "    </tr>\n",
       "    <tr>\n",
       "      <th>dirGender</th>\n",
       "      <th></th>\n",
       "      <th></th>\n",
       "      <th></th>\n",
       "      <th></th>\n",
       "      <th></th>\n",
       "    </tr>\n",
       "  </thead>\n",
       "  <tbody>\n",
       "    <tr>\n",
       "      <th>female</th>\n",
       "      <td>9</td>\n",
       "      <td>6</td>\n",
       "      <td>13</td>\n",
       "      <td>5</td>\n",
       "      <td>4</td>\n",
       "    </tr>\n",
       "    <tr>\n",
       "      <th>male</th>\n",
       "      <td>48</td>\n",
       "      <td>58</td>\n",
       "      <td>35</td>\n",
       "      <td>31</td>\n",
       "      <td>41</td>\n",
       "    </tr>\n",
       "  </tbody>\n",
       "</table>\n",
       "</div>"
      ],
      "text/plain": [
       "genre      action  adventure  comedy  drama  other\n",
       "dirGender                                         \n",
       "female          9          6      13      5      4\n",
       "male           48         58      35     31     41"
      ]
     },
     "metadata": {},
     "output_type": "display_data"
    }
   ],
   "source": [
    "# Create a contingency table of director gender (rows) by genre (columns) without the marginal sums\n",
    "con_table = pd.crosstab(df['dirGender'], df['genre'], margins = False)\n",
    "display(con_table)"
   ]
  },
  {
   "cell_type": "code",
   "execution_count": 6,
   "id": "b2331f4a",
   "metadata": {},
   "outputs": [
    {
     "data": {
      "text/plain": [
       "<AxesSubplot:title={'center':'Genre Counts by Director Gender'}, xlabel='dirGender', ylabel='Counts'>"
      ]
     },
     "execution_count": 6,
     "metadata": {},
     "output_type": "execute_result"
    },
    {
     "data": {
      "image/png": "iVBORw0KGgoAAAANSUhEUgAAAX4AAAEvCAYAAABCCKquAAAAOXRFWHRTb2Z0d2FyZQBNYXRwbG90bGliIHZlcnNpb24zLjQuMywgaHR0cHM6Ly9tYXRwbG90bGliLm9yZy/MnkTPAAAACXBIWXMAAAsTAAALEwEAmpwYAAAprklEQVR4nO3deXxU9b3/8deHiAKiIhopbgQqimzBsIgsAlIEq+BSEBcUaoUqRaq2Vlp7W2zxV+rlul4r5vaKoLYuuBVp3cAgIItEgqwulKB4IzsoS5Dl8/vjnMQhJGEImRmS834+HvOYOdv3fM6Zmc9853vO+R5zd0REJDpqpDoAERFJLiV+EZGIUeIXEYkYJX4RkYhR4hcRiRglfhGRiFHiFwmZWY6Z3ZzE9S01s+7JWl9VYmajzeyZVMdRXSnxV1Fmdo2ZzTOz7Wa2Lnw93Mws1bEBmFkHM/unmW0xs01mNt/MfpyE9SY1eZcRQ4aZuZltCx9rzex1M+sVO5+7t3D3nASsP9/MflDJZZqZjTCzj8xsh5l9Fe7raypzPZIcSvxVkJn9AngY+E/ge0AD4BagM3B0AtaXdojzXwBMB2YAZwEnAbcCl1R2bEe4eu5eF8gE3gZeMbMh8SxoZkclMrAKrPcR4HbgFwTv52nAb4E+yYksPuEPlPLawbi7HlXoAZwAbAd+dJD5jgHGAZ8Da4HxQO1wWndgDcGXeB1QAPw4ZtmngMeBf4br+gFwKvASsB5YBYwsZ92zgMcOEt9Q4DNgE/AP4NRwfAbgwFEx8+YAN4evh4TljwM2h7FcEk67D9gLFALbgP8GDHgw3M6twEdAyzJiygH+BMwP530NqB9OmwrcVmL+j4ArSinngG0Ix/8yfC9qhMP5wA/C16OBycAzwNfAzeF7/b/h+/MlMAZIK7EPlwPfAMuALOBpYB+wM9wHvwrn7QcsBbaE23luTDn5wN3h9uwqJe6zw/3aLo7PZqnxlve+hdMbE1QUviH4kfxv4JmY6R2B98P4FwHdS7xv9wGzw+0+K9Xf0yP9kfIA9DjENyyoYe0p+eUsZb6HCBJqfeA4YArwp3Ba97CMPwA1gR8CO4ATw+lPhYmvM8G/wjpALvA7gn8UTYB/A71LWW+dMEn0KCe2i4ANYaI6BngUeC+clsHBE//uMOmlEfyT+D/ASs4bDvcOY69H8CNwLtCwjLhywoTVEjiW4IfumXDa1cC8mHkzgY3A0aWUc8A2hOObhOPPDYfz2T/x7wauCPd5beBV4IkwllMIfpB+Gs4/IIy1fbhdZwGNSpYbDp9N8APeK3y/f0Xwo3t0zPx5wBmElYMScd8C5Mfx2Swv3oO9b3OAB8LPw4UEPwBF+/60cF//MNw3vcLh9Jj37XOgBXAUUDPV39Mj/ZHyAPQ4xDcMBgFflRhXVBPaGX5pLPyifz9mnguAVeHr7uG8scl1HdAxfP0UMClm2vnA5yXW+WtgQinxnRYmt2blbMP/AvfHDNcNk0IG8SX+z2Km1Qnn/17JecPhi4BPCGqMNQ6yb3OAsTHDzYFvw0R1DMG/k6bhtHHAX8oo54BtCMfXCsd3Dofz2T/xvxczbwOC2nftmHHXAu+Gr98Efl7G+ovLDYf/A3ghZrgGwY9G95j5bypnv/wWmFti3JrwM1cINIoj3jLfN+BMgorIsTHT/8Z3if9u4OkS638TGBzzvv0h1d/NqvRISTuiHJaNwMlmdpS77wFw904AZraG4EudTlhLjznWawQJrLicouVDOwgScJEvYl43Ak41sy0x49KAmaXEt5mgqaEhsKKMbTgV+LBowN23mdlGgh+NL8tYJtZXMcvuCLexbmkzuvt0M/tv4DHgTDN7Bfilu39dRtmx272aoIZ8sruvNbMXgEFmdi9BUusfR6yxTgufN8Wx7kbhugti3sMaMfOcAayMc72nEmwLAO6+z8y+iImn5LpL2kjwfhZz99PD4wG7CT5bB4sXyn7fTgY2u/v2mHlXE2wjYdkDzKxvzPSawLtxxi8l6CBI1TOHoGZ1eTnzbCCo0bdw93rh4wQPDjTGK7bb1i8I/i3Ui3kc5+4/PGAh9x1hjD8qp+z/I/gyA2BmxxIcMPyS4J8KBD9cRb5XwbiLYnrE3dsSNAWcDdxVzvJnxLw+kyCxbQiHJwLXAz2BHe4+5xDiAriS4J/Vx2VML7nPdxH86BTt8+PdvUXM9O/HUQ4cuL+NYDu/LGeZWNOB082sXTnzHCze8hQAJ4afgyJnlij76RKfv2PdfWyc8UsJSvxVjLtvAe4F/mJm/c2srpnVMLM2BG2ruPs+4H+AB83sFAAzO83MeldwtfOBr83sbjOrbWZpZtbSzNqXMf+vgCFmdpeZnRSuP9PMngun/w34sZm1MbNjgP9H0H6e7+7rCRLSoHA9N1F2givNWoK2dML1tjez882sJsGPSiHBMYiyDDKz5mZWh+AYyGR33wsQJvp9wH8RHESNi5k1MLMRwO+BX4fvT7ncvQB4C/gvMzs+fI+/b2bdwln+CvzSzNqGZ7KcZWZFyX2/fQC8AFxqZj3D/fALgiT9fjzxu/vHBG33z5lZr6LPANDpEOItr/zVwALgXjM72sy6ALG1+2eAvmbWO/xM1DKz7mZ2ejzxy4GU+Ksgd78fuJMgwa4j+KI/QdAWWvRlvpvgAN5cM/saeAc4p4Lr20vwRWxDcDbGBoLEc0IZ879P0LZ+EfBvM9sEZBOcJYS7TyNod36JoLb3fSD2fPChBLXyjQS19LgSVOhhoL+ZbTazR4DjCX4ENxM0H2wkaJ8vy9MExzi+ImiTH1li+iSgFUEyOpgtZrYdWExwYHKAuz8Z/6ZwI8HB9GVh/JMJm1zc/UWCM1n+RnAg9FWCA/kQnJn02/Aail+GiXsQwUH0DQTvZV93//YQYvkZwSmdDxA0Va0B/ggMJDiwWm68cbiO4FjSJoIfyElFE9z9C4J/uL8hOKvsC4LPh/JXBRUdUReROJjZjcAwd++S6lhEKkq/mCJxCpt/hhP8exGpspT4ReIQHh9ZT9Cs9rcUhyNyWNTUIyISMarxi4hETEITv5nVM7PJZrbCzJab2QVmVt/M3jazT8PnExMZg4iI7C+hTT1mNhGY6e5/NbOjCS7K+Q2wyd3Hmtkogv5h7i6vnJNPPtkzMjISFqeISHWUm5u7wd3TS45PWOI3s+MJetFr4jErMbOPCfoIKTCzhkCOu5d7fnm7du18wYIFCYlTRKS6MrNcdz/giutENvU0ITgLYoKZLTSzv4aXZDcIr/IrutrvlATGICIiJSQy8R9F0O3u4+5+HsHl8qPiXdjMhpnZAjNbsH79+kTFKCISOYlM/GuANe4+LxyeTPBDsDZs4iF8Xlfawu6e7e7t3L1devoBTVQiIlJBCeuW2d2/MrMvzOycsK+QngR9eCwDBgNjw+fXKlL+7t27WbNmDYWFhZUWs0CtWrU4/fTTqVmzZqpDEZEESXR//LcBz4Zn9Pwb+DHBv4wXzOwnBJ07DahIwWvWrOG4444jIyMDOzLuL17luTsbN25kzZo1NG7cONXhiEiCJDTxu3seUFof3j0Pt+zCwkIl/UpmZpx00knomIpI9Valr9xV0q982qci1V+VTvwiInLodM/dI8DevXtJS0s7+IwiqTS61PvuHGIZWw+/DDlsqvFXwB//+EeaNWtGr169uPbaaxk3bhwrV66kT58+tG3blq5du7JiRXCf8SFDhjBy5Eg6depEkyZNmDx5MgA5OTn06NGD6667jlatWrF3717uuusu2rdvT+vWrXniiSdSuYkiUo2pxn+IFixYwEsvvcTChQvZs2cPWVlZtG3blmHDhjF+/HiaNm3KvHnzGD58ONOnTwegoKCAWbNmsWLFCvr160f//v0BmD9/PkuWLKFx48ZkZ2dzwgkn8MEHH7Br1y46d+7MxRdfrLNrRKTSKfEfolmzZnH55ZdTu3ZtAPr27UthYSHvv/8+AwZ8d2bqrl27il9fccUV1KhRg+bNm7N27dri8R06dChO7G+99RYfffRR8T+CrVu38umnnyrxi0ilU+I/RKV1ardv3z7q1atHXl5eqcscc8wxpS5/7LHH7jf+0UcfpXfv3pUXrIhIKdTGf4i6dOnClClTKCwsZNu2bUydOpU6derQuHFjXnzxRSBI4osWLTqkcnv37s3jjz/O7t27Afjkk0/Yvn17pccvIqIa/yFq3749/fr1IzMzk0aNGtGuXTtOOOEEnn32WW699VbGjBnD7t27ueaaa8jMzIy73Jtvvpn8/HyysrJwd9LT03n11VcTtyEiEllV4p67pfXHv3z5cs4999yUxLNt2zbq1q3Ljh07uPDCC8nOziYrKyslsSRCKvetHMF0OmeVU1Z//KrxV8CwYcNYtmwZhYWFDB48uFolfRGp/pT4K+Bvf/tbqkMQEakwHdwVEYkYJX4RkYhR4hcRiRglfhGRiFHiT5KcnBzef//94uHx48czadKkFEYkIlFVbc7qyRg1tVLLyx97aaWWl5OTQ926denUqRMAt9xyS6WWLyISL9X4D9MVV1xB27ZtadGiBdnZ2QC88cYbZGVlkZmZSc+ePcnPz2f8+PE8+OCDtGnThpkzZzJ69GjGjRsHQF5eHh07dqR169ZceeWVbN68GYDu3btz991306FDB84++2xmzpyZsu0UkepDif8wPfnkk+Tm5rJgwQIeeeQR1q5dy9ChQ3nppZdYtGgRL774IhkZGdxyyy3ccccd5OXl0bVr1/3KuPHGG/nzn//MRx99RKtWrbj33nuLp+3Zs4f58+fz0EMP7TdeRKSilPgP0yOPPEJmZiYdO3bkiy++IDs7mwsvvLC4O+X69euXu/zWrVvZsmUL3bp1A2Dw4MG89957xdOvuuoqANq2bUt+fn5iNkJEIkWJ/zDk5OTwzjvvMGfOHBYtWsR5551HZmZmpd6wvKhL57S0NPbs2VNp5YpIdCnxH4atW7dy4oknUqdOHVasWMHcuXPZtWsXM2bMYNWqVQBs2rQJgOOOO45vvvnmgDJOOOEETjzxxOL2+6effrq49i8ikgjV5qyeVOjTpw/jx4+ndevWnHPOOXTs2JH09HSys7O56qqr2LdvH6eccgpvv/02ffv2pX///rz22ms8+uij+5UzceJEbrnlFnbs2EGTJk2YMGFCirZIRKJA3TLLAbRvpVTqlrnKKatbZjX1iIhEjBK/iEjEJLSN38zygW+AvcAed29nZvWB54EMIB+42t03JzIOERH5TjJq/D3cvU1MO9MoYJq7NwWmhcMiIpIkqWjquRyYGL6eCFyRghhERCIr0YnfgbfMLNfMhoXjGrh7AUD4fEqCYxARkRiJTvyd3T0LuAT4mZldGO+CZjbMzBaY2YL169cnLsIEe+qppxgxYkSllpmfn6/7/opIhSX04K67/1/4vM7MXgE6AGvNrKG7F5hZQ2BdGctmA9kQnMd/0JVVxjnG+5V35J5vXJT4r7vuukNabu/evaSlpSUoKhGpKhJW4zezY83suKLXwMXAEuAfwOBwtsHAa4mKIRlK65Z5woQJnH322XTr1o3Zs2cDQfcOGRkZ7Nu3D4AdO3ZwxhlnsHv3blauXEmfPn1o27YtXbt2ZcWKFQAMGTKEkSNH0qlTJ5o0acLkyZMBGDVqFDNnzqRNmzY8+OCDB/yruOyyy8jJyQGgbt26/O53v+P8889nzpw5PPPMM3To0IE2bdrw05/+lL179yZrV4nIESKRTT0NgFlmtgiYD0x19zeAsUAvM/sU6BUOV1klu2X+8ssv+f3vf8/s2bN5++23WbZsGRD0yZOZmcmMGTMAmDJlCr1796ZmzZoMGzaMRx99lNzcXMaNG8fw4cOLyy8oKGDWrFm8/vrrjBoVnAA1duxYunbtSl5eHnfccUe58W3fvp2WLVsyb948TjrpJJ5//nlmz55NXl4eaWlpPPvsswnaMyJypEpYU4+7/xvILGX8RqBnotabbI888givvPIKAF988QVPP/003bt3Jz09HYCBAwfyySefFL9+/vnn6dGjB8899xzDhw9n27ZtvP/++wwYMKC4zF27dhW/vuKKK6hRowbNmzdn7dq1hxxfWloaP/rRjwCYNm0aubm5tG/fHoCdO3dyyik6ti4SNeqk7TDEdstcp04dunfvTrNmzVi+fHmp8/fr149f//rXbNq0idzcXC666CK2b99OvXr1yMvLK3WZom6ZAcrqV+moo44qbkICKCwsLH5dq1at4nZ9d2fw4MH86U9/OtRNFZFqRF02HIbSumXeuXMnOTk5bNy4kd27d/Piiy8Wz1+3bl06dOjAz3/+cy677DLS0tI4/vjjady4cfF87s6iRYvKXW/JLp4zMjLIy8tj3759fPHFF8yfP7/U5Xr27MnkyZNZty44nr5p0yZWr159uLtBRKoY1fgPQ2ndMjds2JDRo0dzwQUX0LBhQ7KysvY7gDpw4EAGDBhQfPAV4Nlnn+XWW29lzJgx7N69m2uuuYbMzANayYq1bt2ao446iszMTIYMGcLtt99O48aNadWqFS1btiQrK6vU5Zo3b86YMWO4+OKL2bdvHzVr1uSxxx6jUaNGlbZP5MiUMWrqYZeRX6sSApEjgrpllgNo31Y/lZP4D+304VIdwadJV0fqlllERAAlfhGRyFHiFxGJGCV+EZGIUeIXEYkYJX4RkYhR4q9icnJyuOyyy1IdhohUYdXmAq5WE1tVanmLBy+u1PJERI4UqvEfhkmTJtG6dWsyMzO54YYbWL16NT179qR169b07NmTzz//HAi6V7711lvp0aMHTZo0YcaMGdx0002ce+65DBkypLi8t956iwsuuICsrCwGDBjAtm3bAHjjjTdo1qwZXbp04eWXXwZg3759NG3alKKb1Ozbt4+zzjqLDRs2JHcniEiVo8RfQUuXLuW+++5j+vTpLFq0iIcffpgRI0Zw44038tFHH3H99dczcuTI4vk3b97M9OnTefDBB+nbty933HEHS5cuZfHixeTl5bFhwwbGjBnDO++8w4cffki7du144IEHKCwsZOjQoUyZMoWZM2fy1VdfAVCjRg0GDRpU3K3yO++8Q2ZmJieffHJK9oeIVB1K/BU0ffp0+vfvX5xo69evz5w5c4rvinXDDTcwa9as4vn79u2LmdGqVSsaNGhAq1atqFGjBi1atCA/P5+5c+eybNkyOnfuTJs2bZg4cSKrV69mxYoVNG7cmKZNm2JmDBo0qLjMm266iUmTJgHBfQF+/OMfJ3EPiEhVVW3a+JPN3TGzcueJnV7UvXKNGjX262q5Ro0a7Nmzh7S0NHr16sXf//73/crIy8srcz1nnHEGDRo0YPr06cybN083VRGRuKjGX0E9e/bkhRdeYOPGjUDQxXGnTp147rnngKDHzS5dusRdXseOHZk9ezafffYZENya8ZNPPqFZs2asWrWKlStXAhzww3DzzTczaNAgrr76at1PV0TiosRfQS1atOCee+6hW7duZGZmcuedd/LII48wYcIEWrduzdNPP83DDz8cd3np6ek89dRTXHvttbRu3ZqOHTuyYsUKatWqRXZ2NpdeeildunQ5oAvlfv36sW3bNjXziEjc1C1zFbdgwQLuuOMOZs6cWWllat9WP+qWOZrK6pZZbfxV2NixY3n88cfVti8ih0RNPVXYqFGjWL169SEdSxARUeIXEYkYJX4RkYhR4hcRiRglfhGRiFHirySjR49m3LhxqQ5DROSgqs3pnMubVe555+euWH7YZezZs4ejjqo2u1hEqomEZyUzSwMWAF+6+2VmVh94HsgA8oGr3X1zouNIhPvuu49JkyZxxhlnkJ6eTtu2benevTudOnVi9uzZ9OvXj7PPPpsxY8bw7bffctJJJ/Hss8/SoEEDRo8ezapVqygoKOCTTz7hgQceYO7cufzrX//itNNOY8qUKdSsWZM//OEPTJkyhZ07d9KpUyeeeOKJg/YRJCJle+yW6Yddxs/GX1QJkaROMpp6fg7EVp9HAdPcvSkwLRyucnJzc3nuuedYuHAhL7/8Mh988EHxtC1btjBjxgx+8Ytf0KVLF+bOncvChQu55ppruP/++4vnW7lyJVOnTuW1115j0KBB9OjRg8WLF1O7dm2mTg2utBwxYgQffPABS5YsYefOnbz++utJ31YRqV4SWuM3s9OBS4H7gDvD0ZcD3cPXE4Ec4O5ExpEIM2fO5Morr6ROnTpA0GdOkYEDBxa/XrNmDQMHDqSgoIBvv/2Wxo0bF0+75JJLqFmzJq1atWLv3r306dMHgFatWpGfnw/Au+++y/3338+OHTvYtGkTLVq0oG/fvknYQhGprhJd438I+BWwL2ZcA3cvAAifTyltQTMbZmYLzGxB0V2mjjRlNbkce+yxxa9vu+02RowYweLFi3niiScoLCwsnhbbVXPNmjWLyyvqqrmwsJDhw4czefJkFi9ezNChQ/dbXkSkIhKW+M3sMmCdu+dWZHl3z3b3du7eLj09vZKjO3wXXnghr7zyCjt37uSbb75hypQppc63detWTjvtNAAmTpx4SOsoSvInn3wy27ZtY/LkyYcXtIgIiW3q6Qz0M7MfArWA483sGWCtmTV09wIzawisS2AMCZOVlcXAgQNp06YNjRo1omvXrqXON3r0aAYMGMBpp51Gx44dWbVqVdzrqFevHkOHDqVVq1ZkZGTQvn37ygpfRCIsKd0ym1l34JfhWT3/CWx097FmNgqo7+6/Km95dcucXNq31Y+6Zf5OlM7qKatb5lRcwDUW6GVmnwK9wmEREUmSpFxd5O45BGfv4O4bgZ7JWK+IiBxIXTaIiESMEr+ISMQo8YuIRIwSv4hIxCjxV6ItW7bwl7/8pXg4JyeHyy67LIURiYgcqNr0GVwZ5+bGqsh5ukWJf/jw4ZUSg7p1FpFEUI3/MDzwwAO0bNmSli1b8tBDDzFq1ChWrlxJmzZtuOuuuwDYtm0b/fv3p1mzZlx//fUUXTCXm5tLt27daNu2Lb1796agoACA7t2785vf/IZu3brx8MMPp2zbRKT6UnWygnJzc5kwYQLz5s3D3Tn//PN55plnWLJkCXl5eUDQ1LNw4UKWLl3KqaeeSufOnZk9ezbnn38+t912G6+99hrp6ek8//zz3HPPPTz55JPAd906i4gkghJ/Bc2aNYsrr7yyuCfOq666ipkzZx4wX4cOHTj99NMBaNOmDfn5+dSrV48lS5bQq1cvAPbu3UvDhg2Ll4nt1llEpLIp8VdQvH0cFXW9DJCWlsaePXtwd1q0aMGcOXNKXSa2W2cRkcqmNv4KuvDCC3n11VfZsWMH27dv55VXXqFz58588803B132nHPOYf369cWJf/fu3SxdujTRIYuIAKrxV1hWVhZDhgyhQ4cOANx88820bduWzp0707JlSy655BIuvfTSUpc9+uijmTx5MiNHjmTr1q3s2bOH22+/nRYtWiRzE0QkopLSLfPhUrfMyaV9W/0cKd0yt2p85mEtv3jw4sOOQd0yV6Cpx8xONLPWlROWiIgkW1yJ38xyzOx4M6sPLAImmNkDiQ1NREQSId4a/wnu/jVwFTDB3dsCP0hcWCIikijxJv6jwvvjXg28nsB4DklVOD5R1WifilR/8Sb+e4E3gc/c/QMzawJ8mriwDq5WrVps3LhRiaoSuTsbN26kVq1aqQ5FRBIo3tM5C9y9+ICuu/871W38p59+OmvWrGH9+vWpDKPaqVWrVvGVxiJSPcWb+B8FsuIYlzQ1a9akcePGqVq9iEiVVW7iN7MLgE5AupndGTPpeCAtkYGJiEhiHKzGfzRQN5zvuJjxXwP9ExWUiIgkTrmJ391nADPM7Cl3X52kmEREJIHibeM/xsyygYzYZdy9aly3LCIixeJN/C8C44G/AnsTF46IiCRavIl/j7s/ntBIREQkKeK9gGuKmQ03s4ZmVr/okdDIREQkIeKt8Q8On++KGedAk7IWMLNawHvAMeF6Jrv778MfjOcJjhfkA1e7++ZDC1tEomh5s0roLrz7Y4dfRhUXV+J394pcKbULuMjdt5lZTWCWmf2LoKO3ae4+1sxGAaOAuytQvoiIVEBcid/MbixtvLtPKmsZDzrR2RYO1gwfDlwOdA/HTwRyUOIXEUmaeJt62se8rgX0BD4Eykz8AGaWBuQCZwGPufs8M2vg7gUA7l5gZqeUsewwYBjAmWce3l17RETkO/E29dwWO2xmJwBPx7HcXqCNmdUDXjGzlvEG5u7ZQDYEt16MdzkRESnfId96MbQDaBrvzO6+haBJpw+wNuzbn/B5XQVjEBGRCoi3jX8KQfs8BJ2znQu8cJBl0oHd7r7FzGoT3LHrz8A/CM4SGhs+v1ax0EVEpCLibeMfF/N6D7Da3dccZJmGwMSwnb8G8IK7v25mc4AXzOwnwOfAgEMNWkREKi7eNv4ZZtaA7w7yHvTuW+7+EXBeKeM3EhwcFhGRFIirjd/MrgbmE9TOrwbmmZm6ZRYRqYLibeq5B2jv7uuguP3+HWByogITEZHEiPesnhpFST+08RCWFRGRI0i8Nf43zOxN4O/h8EDgn4kJSUREEulg99w9C2jg7neZ2VVAF8CAOcCzSYhPREQq2cGaax4CvgFw95fd/U53v4Ogtv9QYkMTEZFEOFjizwhPy9yPuy8g6FZZRESqmIMl/lrlTKtdmYGIiEhyHCzxf2BmQ0uODK+6zU1MSCIikkgHO6vndoJeNa/nu0TfDjgauDKBcYmISIKUm/jdfS3Qycx6AEVdKk919+kJj0xERBIi3r563gXeTXAsIiKSBLr6VkQkYpT4RUQiRolfRCRilPhFRCJGiV9EJGKU+EVEIkaJX0QkYpT4RUQiRolfRCRilPhFRCJGiV9EJGKU+EVEIkaJX0QkYpT4RUQiJmGJ38zOMLN3zWy5mS01s5+H4+ub2dtm9mn4fGKiYhARkQMlssa/B/iFu58LdAR+ZmbNgVHANHdvCkwLh0VEJEkSlvjdvcDdPwxffwMsB04DLgcmhrNNBK5IVAwiInKgpLTxm1kGcB4wD2jg7gUQ/DgApyQjBhERCSQ88ZtZXeAl4HZ3//oQlhtmZgvMbMH69esTF6CISMQkNPGbWU2CpP+su78cjl5rZg3D6Q2BdaUt6+7Z7t7O3dulp6cnMkwRkUhJ5Fk9BvwvsNzdH4iZ9A9gcPh6MPBaomIQEZEDHZXAsjsDNwCLzSwvHPcbYCzwgpn9BPgcGJDAGEREpISEJX53nwVYGZN7Jmq9IiJSPl25KyISMUr8IiIRo8QvIhIxSvwiIhGjxC8iEjFK/CIiEaPELyISMUr8IiIRo8QvIhIxSvwiIhGjxC8iEjFK/CIiEaPELyISMUr8IiIRo8QvIhIxSvwiIhGjxC8iEjFK/CIiEaPELyISMUr8IiIRk7CbrUtqtJrY6rDLWDx4cSVEIiJHKtX4RUQiRolfRCRilPhFRCJGiV9EJGKU+EVEIkaJX0QkYhKW+M3sSTNbZ2ZLYsbVN7O3zezT8PnERK1fRERKl8ga/1NAnxLjRgHT3L0pMC0cFhGRJEpY4nf394BNJUZfDkwMX08ErkjU+kVEpHTJbuNv4O4FAOHzKUlev4hI5B2xB3fNbJiZLTCzBevXr091OCIi1UayE/9aM2sIED6vK2tGd89293bu3i49PT1pAYqIVHfJTvz/AAaHrwcDryV5/SIikZew3jnN7O9Ad+BkM1sD/B4YC7xgZj8BPgcGJGr9qZAxauphl5E/9tJKiEREpGwJS/zufm0Zk3omap0iInJwR+zBXRERSQwlfhGRiFHiFxGJGCV+EZGIUeIXEYkYJX4RkYhR4hcRiRglfhGRiFHiFxGJmIRduSsVNPqEw1u+8ZmVE4eIVFuq8YuIRIwSv4hIxKipRw6wvNm5h13GuSuWV0IkIpIIqvGLiESMEr+ISMQo8YuIRIza+CUhHrtl+mGX8bPxF1VCJCJSkmr8IiIRo8QvIhIxSvwiIhGjxC8iEjFK/CIiEaPELyISMUr8IiIRo8QvIhIxSvwiIhGjxC8iEjEpSfxm1sfMPjazz8xsVCpiEBGJqqQnfjNLAx4DLgGaA9eaWfNkxyEiElWpqPF3AD5z93+7+7fAc8DlKYhDRCSSzN2Tu0Kz/kAfd785HL4BON/dR5SYbxgwLBw8B/g4qYFWbycDG1IdhEgp9NmsXI3cPb3kyFR0y2yljDvg18fds4HsxIcTPWa2wN3bpToOkZL02UyOVDT1rAHOiBk+Hfi/FMQhIhJJqUj8HwBNzayxmR0NXAP8IwVxiIhEUtKbetx9j5mNAN4E0oAn3X1psuOIODWhyZFKn80kSPrBXRERSS1duSsiEjFK/CIiEaPELyISMUr8IpJyZlbbzM5JdRxRocQfAWZ2tplNM7Ml4XBrM/ttquMSATCzvkAe8EY43MbMdIp3AinxR8P/AL8GdgO4+0cE10+IHAlGE/ThtQXA3fOAjJRFEwFK/NFQx93nlxi3JyWRiBxoj7tvTXUQUZKKvnok+TaY2fcJ+0QKO8orSG1IIsWWmNl1QJqZNQVGAu+nOKZqTRdwRYCZNSG4IrITsBlYBQxy9/xUxiUCYGZ1gHuAiwk6cXwT+KO7F6Y0sGpMiT9CzOxYoIa7f5PqWEQkdZT4qzEzu7O86e7+QLJiESnJzKZQSpfsRdy9XxLDiRS18Vdvx6U6AJFyjEt1AFGlGr+ISMSoxh8BZlYL+AnQAqhVNN7db0pZUCKh8EyePwHN2f/z2SRlQVVzOo8/Gp4Gvgf0BmYQ3PVMB3jlSDEBeJzg2pIewCSCz6wkiJp6IsDMFrr7eWb2kbu3NrOawJvuflGqYxMxs1x3b2tmi929VThuprt3TXVs1ZWaeqJhd/i8xcxaAl+hS+LlyFFoZjWAT8O7830JnJLimKo1NfVEQ7aZnQj8B8H9jZcB96c2JJFitwN1CK7YbQsMAm5MZUDVnZp6RCSlzKwdwZW7jYCa4Wh399api6p6U+KPADOrR1CDyiCmec/dR6YoJJFiZvYxcBewGNhXNN7dV6csqGpObfzR8E9gLiW+WCJHiPXurv73k0g1/ggwsw/dPSvVcYiUxsx6AtcC04BdRePd/eWUBVXNKfFHgJndAWwDXmf/L9amlAUlEjKzZ4BmwFK++0fqusAwcdTUEw3fAv9JcACt6JfeAV0ZKUeCzKLz9yU5lPij4U7gLHffkOpAREox18yau/uyVAcSFUr80bAU2JHqIETK0AUYbGarCJoiDZ3OmVBK/NGwF8gzs3fZv41fp3PKkaBPqgOIGiX+aHg1fIgccXS+fvLprJ6IMLPawJnu/nGqYxGR1FJfPRFgZn2BPOCNcLiNmemCGZGIUuKPhtFAB2ALgLvnAY1TF46IpJISfzTscfetJcapjU8konRwNxqWmNl1QFp4m7uRwPspjklEUkQ1/mrMzIpuX7eS4H67u4C/A18T9IEuIhGks3qqMTNbBlxCcPOVHiWnq68ekWhSU0/1Np7gTJ4mwIKY8Yb66hGJLNX4I8DMHnf3W1Mdh4gcGZT4RUQiRgd3RUQiRolfRCRidHBXIsXMRhPcjex44D13f6eM+e4EhgG7Ce4KNQ242913V0IM+UA73R9BUkWJXyLJ3X9X2ngzSwOGAhcDHd19i5kdTXAzm9oEPwRJZWZp7r432euV6ktNPVLtmdk9Zvaxmb0DnBOOe8rM+oev883sd2Y2CxhAcIvKW919C4C7f+vuY93963D+i81sjpl9aGYvmlndmHLuDccvNrNm4fiTzOwtM1toZk8QnE5bFNsgM5tvZnlm9kT4w4OZbTOzP5jZPOCCJO0qiQglfqnWzKwtcA1wHnAV0L6MWQvdvQswFajr7qvKKO9k4LfAD9w9i+D6iDtjZtkQjn8c+GU47vfALHc/j+BiujPDss4FBgKd3b0NwQ1zrg+XORZY4u7nu/usQ95wkXKoqUequ67AK+6+A6Cc7qifD5+LLm4jnL838GegHnAdUB9oDsw2M4CjgTkx5bwcPucS/NAAXFj02t2nmtnmcHxPoC3wQVhWbWBdOG0v8NIhbalInJT4JQriuVhlO4C7f21m282ssbuvcvc3gTfN7HWCJG/A2+5+bRnlFN3aci/7f79Ki8GAie7+61KmFapdXxJFTT1S3b0HXGlmtc3sOKBvHMv8CXjczOoBWFAdrxVOmwt0NrOzwml1zOzsOGK4Ppz/EuDEcPw0oL+ZnRJOq29mjeLeMpEKUo1fqjV3/9DMnie4A9lqYGYciz0O1AHmmdkugtM/ZwML3X2rmQ0B/m5mx4Tz/xb4pJzy7g3n/xCYAXwexrbMzH4LvGVmNQjOGPpZGKdIwqjLBhGRiFFTj4hIxCjxi4hEjBK/iEjEKPGLiESMEr+ISMQo8YuIRIwSv4hIxCjxi4hEzP8Hb2rz0PTM/FAAAAAASUVORK5CYII=\n",
      "text/plain": [
       "<Figure size 432x288 with 1 Axes>"
      ]
     },
     "metadata": {
      "needs_background": "light"
     },
     "output_type": "display_data"
    }
   ],
   "source": [
    "# Plot the genre counts by director gender as a grouped bar chart\n",
    "genre_by_gender = df['genre'].groupby(df['dirGender'])\n",
    "con_table.plot(kind = 'bar', title = \"Genre Counts by Director Gender\", ylabel=\"Counts\")"
   ]
  },
  {
   "cell_type": "code",
   "execution_count": 7,
   "id": "5ab6a783",
   "metadata": {},
   "outputs": [
    {
     "data": {
      "text/plain": [
       "<AxesSubplot:title={'center':'Stacked Barplot'}, xlabel='dirGender', ylabel='Count'>"
      ]
     },
     "execution_count": 7,
     "metadata": {},
     "output_type": "execute_result"
    },
    {
     "data": {
      "image/png": "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\n",
      "text/plain": [
       "<Figure size 1080x360 with 2 Axes>"
      ]
     },
     "metadata": {
      "needs_background": "light"
     },
     "output_type": "display_data"
    }
   ],
   "source": [
    "# Make a Figure with 2 subplots\n",
    "# Plot the genre counts by director gender as a grouped barplot in one subplot, and as a stacked bar chart in the other subplot\n",
    "fig, axes = plt.subplots(nrows = 1, ncols = 2, figsize = (15,5))\n",
    "con_table.plot(kind='bar', ylabel = \"Count\", ax = axes[0], stacked=False, title = \"Grouped Barplot\")\n",
    "con_table.plot(kind='bar', ylabel = \"Count\", ax = axes[1], stacked=True, title = \"Stacked Barplot\")"
   ]
  },
  {
   "cell_type": "code",
   "execution_count": 8,
   "id": "7036a3d1",
   "metadata": {},
   "outputs": [
    {
     "data": {
      "text/html": [
       "<div>\n",
       "<style scoped>\n",
       "    .dataframe tbody tr th:only-of-type {\n",
       "        vertical-align: middle;\n",
       "    }\n",
       "\n",
       "    .dataframe tbody tr th {\n",
       "        vertical-align: top;\n",
       "    }\n",
       "\n",
       "    .dataframe thead th {\n",
       "        text-align: right;\n",
       "    }\n",
       "</style>\n",
       "<table border=\"1\" class=\"dataframe\">\n",
       "  <thead>\n",
       "    <tr style=\"text-align: right;\">\n",
       "      <th>genre</th>\n",
       "      <th>action</th>\n",
       "      <th>adventure</th>\n",
       "      <th>comedy</th>\n",
       "      <th>drama</th>\n",
       "      <th>other</th>\n",
       "    </tr>\n",
       "    <tr>\n",
       "      <th>dirGender</th>\n",
       "      <th></th>\n",
       "      <th></th>\n",
       "      <th></th>\n",
       "      <th></th>\n",
       "      <th></th>\n",
       "    </tr>\n",
       "  </thead>\n",
       "  <tbody>\n",
       "    <tr>\n",
       "      <th>female</th>\n",
       "      <td>0.243243</td>\n",
       "      <td>0.162162</td>\n",
       "      <td>0.351351</td>\n",
       "      <td>0.135135</td>\n",
       "      <td>0.108108</td>\n",
       "    </tr>\n",
       "    <tr>\n",
       "      <th>male</th>\n",
       "      <td>0.225352</td>\n",
       "      <td>0.272300</td>\n",
       "      <td>0.164319</td>\n",
       "      <td>0.145540</td>\n",
       "      <td>0.192488</td>\n",
       "    </tr>\n",
       "  </tbody>\n",
       "</table>\n",
       "</div>"
      ],
      "text/plain": [
       "genre        action  adventure    comedy     drama     other\n",
       "dirGender                                                   \n",
       "female     0.243243   0.162162  0.351351  0.135135  0.108108\n",
       "male       0.225352   0.272300  0.164319  0.145540  0.192488"
      ]
     },
     "metadata": {},
     "output_type": "display_data"
    },
    {
     "data": {
      "text/plain": [
       "<AxesSubplot:title={'center':'Stacked Barplot'}, xlabel='dirGender', ylabel='Probability'>"
      ]
     },
     "execution_count": 8,
     "metadata": {},
     "output_type": "execute_result"
    },
    {
     "data": {
      "image/png": "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\n",
      "text/plain": [
       "<Figure size 432x288 with 1 Axes>"
      ]
     },
     "metadata": {
      "needs_background": "light"
     },
     "output_type": "display_data"
    }
   ],
   "source": [
    "# Generate a table of director Gender (rows) and genre (columns), normalized by the row-marginal counts of male and female director\n",
    "# such that you have conditional probabilities of movie genre, given the gender of the director\n",
    "# Normalization refers to rescaling real-valued numeric attributes into a 0 to 1 range\n", 
    "# Data normalization is used in machine learning to make model training less sensitive to the scale of features\n", 
    "# This allows our model to converge to better weights and, in turn, leads to a more accurate model\n",
    "con_table2 = pd.crosstab(df['dirGender'], df['genre'], normalize = 'index')\n",
    "display(con_table2)\n",
    "con_table2.plot(kind='bar', ylabel = \"Probability\", stacked=True, title = \"Stacked Barplot\")"
   ]
  },
  {
    "cell_type": "markdown",
    "id": "6334c221",
    "metadata": {},
    "source": [
     "We can find the proportion of movie genre given the gender of the director. It is easy to check the proportion of movie genre for each gender. Also, we can find that proportion of male is much larger than female. I think it would be easy to see the total proportion of each genre if the differences of proportion of each genre are big."
    ]
   },
  {
   "cell_type": "code",
   "execution_count": 9,
   "id": "6709e2df",
   "metadata": {},
   "outputs": [
    {
     "data": {
      "text/html": [
       "<div>\n",
       "<style scoped>\n",
       "    .dataframe tbody tr th:only-of-type {\n",
       "        vertical-align: middle;\n",
       "    }\n",
       "\n",
       "    .dataframe tbody tr th {\n",
       "        vertical-align: top;\n",
       "    }\n",
       "\n",
       "    .dataframe thead th {\n",
       "        text-align: right;\n",
       "    }\n",
       "</style>\n",
       "<table border=\"1\" class=\"dataframe\">\n",
       "  <thead>\n",
       "    <tr style=\"text-align: right;\">\n",
       "      <th>dirGender</th>\n",
       "      <th>female</th>\n",
       "      <th>male</th>\n",
       "    </tr>\n",
       "    <tr>\n",
       "      <th>genre</th>\n",
       "      <th></th>\n",
       "      <th></th>\n",
       "    </tr>\n",
       "  </thead>\n",
       "  <tbody>\n",
       "    <tr>\n",
       "      <th>action</th>\n",
       "      <td>0.157895</td>\n",
       "      <td>0.842105</td>\n",
       "    </tr>\n",
       "    <tr>\n",
       "      <th>adventure</th>\n",
       "      <td>0.093750</td>\n",
       "      <td>0.906250</td>\n",
       "    </tr>\n",
       "    <tr>\n",
       "      <th>comedy</th>\n",
       "      <td>0.270833</td>\n",
       "      <td>0.729167</td>\n",
       "    </tr>\n",
       "    <tr>\n",
       "      <th>drama</th>\n",
       "      <td>0.138889</td>\n",
       "      <td>0.861111</td>\n",
       "    </tr>\n",
       "    <tr>\n",
       "      <th>other</th>\n",
       "      <td>0.088889</td>\n",
       "      <td>0.911111</td>\n",
       "    </tr>\n",
       "  </tbody>\n",
       "</table>\n",
       "</div>"
      ],
      "text/plain": [
       "dirGender    female      male\n",
       "genre                        \n",
       "action     0.157895  0.842105\n",
       "adventure  0.093750  0.906250\n",
       "comedy     0.270833  0.729167\n",
       "drama      0.138889  0.861111\n",
       "other      0.088889  0.911111"
      ]
     },
     "metadata": {},
     "output_type": "display_data"
    },
    {
     "data": {
      "text/plain": [
       "<AxesSubplot:title={'center':'Stacked Barplot'}, xlabel='genre', ylabel='Probability'>"
      ]
     },
     "execution_count": 9,
     "metadata": {},
     "output_type": "execute_result"
    },
    {
     "data": {
      "image/png": "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\n",
      "text/plain": [
       "<Figure size 432x288 with 1 Axes>"
      ]
     },
     "metadata": {
      "needs_background": "light"
     },
     "output_type": "display_data"
    }
   ],
   "source": [
    "# Generate a table of movie genre (rows) and director gender (columns), normalized by the row-marginal counts for each genre, such that you have conditional probabilities of the director gender, given the movie genre\n",
    "con_table3 = pd.crosstab(df['genre'], df['dirGender'], normalize = 'index')\n",
    "display(con_table3)\n",
    "con_table3.plot(kind='bar', ylabel = \"Probability\", stacked=True, title = \"Stacked Barplot\")"
   ]
  },
  {
   "cell_type": "markdown",
   "id": "f75d1576",
   "metadata": {},
   "source": [
    "We can find the proportion of the director gender given the movie genre. It is easy to check the proportion of director's gender for each movie genre. We also can find that proportion of male is much larger than female."
   ]
  },
  {
   "cell_type": "markdown",
   "id": "90b628d3",
   "metadata": {},
   "source": [
    "## Task 3: Probabilities"
   ]
  },
  {
   "cell_type": "code",
   "execution_count": 12,
   "id": "608ce1f9",
   "metadata": {},
   "outputs": [
    {
     "data": {
      "text/html": [
       "<div>\n",
       "<style scoped>\n",
       "    .dataframe tbody tr th:only-of-type {\n",
       "        vertical-align: middle;\n",
       "    }\n",
       "\n",
       "    .dataframe tbody tr th {\n",
       "        vertical-align: top;\n",
       "    }\n",
       "\n",
       "    .dataframe thead th {\n",
       "        text-align: right;\n",
       "    }\n",
       "</style>\n",
       "<table border=\"1\" class=\"dataframe\">\n",
       "  <thead>\n",
       "    <tr style=\"text-align: right;\">\n",
       "      <th>genre</th>\n",
       "      <th>action</th>\n",
       "      <th>adventure</th>\n",
       "      <th>comedy</th>\n",
       "      <th>drama</th>\n",
       "      <th>other</th>\n",
       "      <th>All</th>\n",
       "    </tr>\n",
       "    <tr>\n",
       "      <th>dirGender</th>\n",
       "      <th></th>\n",
       "      <th></th>\n",
       "      <th></th>\n",
       "      <th></th>\n",
       "      <th></th>\n",
       "      <th></th>\n",
       "    </tr>\n",
       "  </thead>\n",
       "  <tbody>\n",
       "    <tr>\n",
       "      <th>female</th>\n",
       "      <td>9</td>\n",
       "      <td>6</td>\n",
       "      <td>13</td>\n",
       "      <td>5</td>\n",
       "      <td>4</td>\n",
       "      <td>37</td>\n",
       "    </tr>\n",
       "    <tr>\n",
       "      <th>male</th>\n",
       "      <td>48</td>\n",
       "      <td>58</td>\n",
       "      <td>35</td>\n",
       "      <td>31</td>\n",
       "      <td>41</td>\n",
       "      <td>213</td>\n",
       "    </tr>\n",
       "    <tr>\n",
       "      <th>All</th>\n",
       "      <td>57</td>\n",
       "      <td>64</td>\n",
       "      <td>48</td>\n",
       "      <td>36</td>\n",
       "      <td>45</td>\n",
       "      <td>250</td>\n",
       "    </tr>\n",
       "  </tbody>\n",
       "</table>\n",
       "</div>"
      ],
      "text/plain": [
       "genre      action  adventure  comedy  drama  other  All\n",
       "dirGender                                              \n",
       "female          9          6      13      5      4   37\n",
       "male           48         58      35     31     41  213\n",
       "All            57         64      48     36     45  250"
      ]
     },
     "metadata": {},
     "output_type": "display_data"
    },
    {
     "name": "stdout",
     "output_type": "stream",
     "text": [
      "The marginal probability of a movie being an action movie is 0.228 \n",
      "\n"
     ]
    }
   ],
   "source": [
    "# The marginal probability of a movie being an action movie\n",
    "table = pd.crosstab(df['dirGender'], df['genre'], margins = True)\n",
    "display(table)\n",
    "\n",
    "# Calculte the marginal probability\n",
    "pAction = table['action']['All']/table['All']['All']\n",
    "print('The marginal probability of a movie being an action movie is %.3f' % pAction, '\\n')"
   ]
  },
  {
   "cell_type": "code",
   "execution_count": 13,
   "id": "d492b63d",
   "metadata": {},
   "outputs": [
    {
     "name": "stdout",
     "output_type": "stream",
     "text": [
      "The marginal probability of a movie being a romance movie is 0.192 \n",
      "\n"
     ]
    }
   ],
   "source": [
    "# Calculte the marginal probability\n",
    "pComedy = table['comedy']['All']/table['All']['All']\n",
    "print('The marginal probability of a movie being a romance movie is %.3f' % pComedy, '\\n')"
   ]
  },
  {
   "cell_type": "code",
   "execution_count": 16,
   "id": "9ebf32a1",
   "metadata": {},
   "outputs": [
    {
     "data": {
      "text/html": [
       "<div>\n",
       "<style scoped>\n",
       "    .dataframe tbody tr th:only-of-type {\n",
       "        vertical-align: middle;\n",
       "    }\n",
       "\n",
       "    .dataframe tbody tr th {\n",
       "        vertical-align: top;\n",
       "    }\n",
       "\n",
       "    .dataframe thead th {\n",
       "        text-align: right;\n",
       "    }\n",
       "</style>\n",
       "<table border=\"1\" class=\"dataframe\">\n",
       "  <thead>\n",
       "    <tr style=\"text-align: right;\">\n",
       "      <th>dirGender</th>\n",
       "      <th>female</th>\n",
       "      <th>male</th>\n",
       "      <th>All</th>\n",
       "    </tr>\n",
       "    <tr>\n",
       "      <th>genre</th>\n",
       "      <th></th>\n",
       "      <th></th>\n",
       "      <th></th>\n",
       "    </tr>\n",
       "  </thead>\n",
       "  <tbody>\n",
       "    <tr>\n",
       "      <th>action</th>\n",
       "      <td>9</td>\n",
       "      <td>48</td>\n",
       "      <td>57</td>\n",
       "    </tr>\n",
       "    <tr>\n",
       "      <th>adventure</th>\n",
       "      <td>6</td>\n",
       "      <td>58</td>\n",
       "      <td>64</td>\n",
       "    </tr>\n",
       "    <tr>\n",
       "      <th>comedy</th>\n",
       "      <td>13</td>\n",
       "      <td>35</td>\n",
       "      <td>48</td>\n",
       "    </tr>\n",
       "    <tr>\n",
       "      <th>drama</th>\n",
       "      <td>5</td>\n",
       "      <td>31</td>\n",
       "      <td>36</td>\n",
       "    </tr>\n",
       "    <tr>\n",
       "      <th>other</th>\n",
       "      <td>4</td>\n",
       "      <td>41</td>\n",
       "      <td>45</td>\n",
       "    </tr>\n",
       "    <tr>\n",
       "      <th>All</th>\n",
       "      <td>37</td>\n",
       "      <td>213</td>\n",
       "      <td>250</td>\n",
       "    </tr>\n",
       "  </tbody>\n",
       "</table>\n",
       "</div>"
      ],
      "text/plain": [
       "dirGender  female  male  All\n",
       "genre                       \n",
       "action          9    48   57\n",
       "adventure       6    58   64\n",
       "comedy         13    35   48\n",
       "drama           5    31   36\n",
       "other           4    41   45\n",
       "All            37   213  250"
      ]
     },
     "metadata": {},
     "output_type": "display_data"
    },
    {
     "name": "stdout",
     "output_type": "stream",
     "text": [
      "The marginal probability of the director being female is 0.148 \n",
      "\n"
     ]
    }
   ],
   "source": [
    "# The marginal probability of the director being female\n",
    "table2 = pd.crosstab(df['genre'], df['dirGender'], margins = True)\n",
    "display(table2)\n",
    "\n",
    "# Calculte the marginal probability\n",
    "pFemale = table2['female']['All']/table2['All']['All']\n",
    "print('The marginal probability of the director being female is %.3f' % pFemale, '\\n')"
   ]
  },
  {
   "cell_type": "code",
   "execution_count": 19,
   "id": "355006f1",
   "metadata": {},
   "outputs": [
    {
     "name": "stdout",
     "output_type": "stream",
     "text": [
      "The conditional probability of the movie being an action movie given that the director's gender is female is 0.243 \n",
      "\n"
     ]
    }
   ],
   "source": [
    "# Calculate the conditional probability of the movie being an action movie \n",
    "# given that the director’s gender is female\n",
    "pActionGivenFemale = (table2['female']['action']/table['All']['All'])/(pFemale)\n",
    "print('The conditional probability of the movie being an action movie given that the director\\'s gender is female is %.3f' % pActionGivenFemale, '\\n')"
   ]
  },
  {
   "cell_type": "markdown",
   "id": "587b1f5a",
   "metadata": {},
   "source": [
    "Let event A = the movie being an action movie and event B = the director's gender is female. \n",
    "\n",
    "$P(A|B) = \\frac{P(A \\cap B)}{P(B)}$\n",
    "\n",
    "$P(A \\cap B) = \\frac{9}{250}$\n",
    "\n",
    "$P(B) = \\frac{37}{250}$\n",
    "\n",
    "Therefore, $P(A|B) = \\frac{9}{37}$"
   ]
  },
  {
   "cell_type": "code",
   "execution_count": 21,
   "id": "863f2c2c",
   "metadata": {},
   "outputs": [
    {
     "name": "stdout",
     "output_type": "stream",
     "text": [
      "The conditional probability of the movie being an action movie given that the director's gender is male is 0.225 \n",
      "\n"
     ]
    }
   ],
   "source": [
    "# Calculate the conditional probability of the movie being an action movie \n",
    "# given that the director’s gender is male\n",
    "pMale = table2['male']['All']/table['All']['All']\n",
    "pActionGivenMale = (table2['male']['action']/table['All']['All'])/(pMale)\n",
    "print('The conditional probability of the movie being an action movie given that the director\\'s gender is male is %.3f' % pActionGivenMale, '\\n')"
   ]
  },
  {
   "cell_type": "markdown",
   "id": "2ff8d8d9",
   "metadata": {},
   "source": [
    "Let event A = the movie being an action movie and event B = the director's gender is male. \n",
    "\n",
    "$P(A|B) = \\frac{P(A \\cap B)}{P(B)}$\n",
    "\n",
    "$P(A \\cap B) = \\frac{48}{250}$\n",
    "\n",
    "$P(B) = \\frac{213}{250}$\n",
    "\n",
    "Therefore, $P(A|B) = \\frac{48}{213}$"
   ]
  },
  {
   "cell_type": "code",
   "execution_count": 22,
   "id": "d2fa5698",
   "metadata": {},
   "outputs": [
    {
     "name": "stdout",
     "output_type": "stream",
     "text": [
      "The conditional probability of the director being female given that the movie is action is 0.158 \n",
      "\n"
     ]
    }
   ],
   "source": [
    "# Calculate the conditional probability of the director’s gender being female \n",
    "# given that the movie is an action movie\n",
    "pFemaleGivenAction = (table['action']['female']/table['All']['All'])/(pAction)\n",
    "print('The conditional probability of the director being female given that the movie is action is %.3f' % pFemaleGivenAction, '\\n')"
   ]
  },
  {
   "cell_type": "markdown",
   "id": "e14309da",
   "metadata": {},
   "source": [
    "Let event A = the director’s gender being female and event B = the movie is an action movie. \n",
    "\n",
    "$P(A|B) = \\frac{P(A \\cap B)}{P(B)}$\n",
    "\n",
    "$P(A \\cap B) = \\frac{9}{250}$\n",
    "\n",
    "$P(B) = \\frac{57}{250}$\n",
    "\n",
    "Therefore, $P(A|B) = \\frac{9}{57}$"
   ]
  },
  {
   "cell_type": "markdown",
   "id": "48671551",
   "metadata": {},
   "source": [
    "The probability of the director being a female slight increases from 0.148 when we don't know the genre is to 0.158 when we know that the movie is an action movie. "
   ]
  },
  {
   "cell_type": "code",
   "execution_count": 24,
   "id": "cc849742",
   "metadata": {},
   "outputs": [
    {
     "name": "stdout",
     "output_type": "stream",
     "text": [
      "The conditional probability of the director being male given that the movie is action is 0.842 \n",
      "\n"
     ]
    }
   ],
   "source": [
    "# Calculate the conditional probability of the director’s gender being male \n",
    "# knowing that the movie is an action movie\n",
    "pMaleGivenAction = (table['action']['male']/table['All']['All'])/(pAction)\n",
    "print('The conditional probability of the director being male given that the movie is action is %.3f' % pMaleGivenAction, '\\n')"
   ]
  },
  {
   "cell_type": "markdown",
   "id": "4a6c5464",
   "metadata": {},
   "source": [
    "Let event A = the director’s gender being male and event B = the movie is an action movie. \n",
    "\n",
    "$P(A|B) = \\frac{P(A \\cap B)}{P(B)}$\n",
    "\n",
    "$P(A \\cap B) = \\frac{48}{250}$\n",
    "\n",
    "$P(B) = \\frac{57}{250}$\n",
    "\n",
    "Therefore, $P(A|B) = \\frac{48}{57}$"
   ]
  },
  {
   "cell_type": "code",
   "execution_count": 27,
   "id": "ad5bc216",
   "metadata": {},
   "outputs": [
    {
     "name": "stdout",
     "output_type": "stream",
     "text": [
      "The joint probability of a movie being action and being directed by a woman is 0.036 \n",
      "\n"
     ]
    }
   ],
   "source": [
    "# Calculate the joint probability of a movie being an action movie AND being directed by a woman\n",
    "pFemaleAndAction = table['action']['female']/table['All']['All']\n",
    "print('The joint probability of a movie being action and being directed by a woman is %.3f' % pFemaleAndAction, '\\n')"
   ]
  },
  {
   "cell_type": "code",
   "execution_count": 28,
   "id": "845c8335",
   "metadata": {},
   "outputs": [
    {
     "name": "stdout",
     "output_type": "stream",
     "text": [
      "The expected probability of a movie being an action movie and being directed by a woman if they were independent is 0.034 \n",
      "\n"
     ]
    }
   ],
   "source": [
    "# Calcualte the expected probability of a movie being an action movie AND being directed by a woman \n",
    "# IF gender and genre were independent\n",
    "pActionIndependentFemale = (table['action']['All']/table['All']['All'])*(table['All']['female']/table['All']['All'])\n",
    "print('The expected probability of a movie being an action movie and being directed by a woman if they were independent is %.3f' % pActionIndependentFemale, '\\n')"
   ]
  },
  {
   "cell_type": "markdown",
   "id": "dfa32ee3",
   "metadata": {},
   "source": [
    "Let event A = a movie being an action movie and event B = being directed by a woman. \n",
    "\n",
    "$P(A) = \\frac{57}{250}$\n",
    "\n",
    "$P(B) = \\frac{37}{250}$\n",
    "\n",
    "$P(A \\cap B) = P(A) \\times P(B) = 0.034$"
   ]
  },
  {
   "cell_type": "markdown",
   "id": "eb292e7a",
   "metadata": {},
   "source": [
    "## Task 4: Descriptive Statistics by Category"
   ]
  },
  {
   "cell_type": "code",
   "execution_count": 29,
   "id": "0d5052dc",
   "metadata": {},
   "outputs": [
    {
     "name": "stdout",
     "output_type": "stream",
     "text": [
      "dirGender\n",
      "female    53.186599\n",
      "male      64.998486\n",
      "Name: prodcost, dtype: float64\n"
     ]
    }
   ],
   "source": [
    "# Using pandas statistics functions and the groupby method, determine the mean for production cost by gender\n",
    "cost_by_gender = df['prodcost'].groupby(df['dirGender'])\n",
    "cost_by_gender_mean = cost_by_gender.mean()\n",
    "print(cost_by_gender_mean)"
   ]
  },
  {
   "cell_type": "code",
   "execution_count": 31,
   "id": "dc1a50e2",
   "metadata": {},
   "outputs": [
    {
     "name": "stdout",
     "output_type": "stream",
     "text": [
      "genre\n",
      "action       94.585333\n",
      "adventure    91.490184\n",
      "comedy       35.530388\n",
      "drama        42.728014\n",
      "other        29.381752\n",
      "Name: prodcost, dtype: float64 \n",
      "\n",
      "dict_keys(['action', 'adventure', 'comedy', 'drama', 'other']) \n",
      "\n",
      "***** Mean production cost for each genre *****\n",
      "The mean production cost for the action movie is 94.585.\n",
      "The mean production cost for the adventure movie is 91.49.\n",
      "The mean production cost for the comedy movie is 35.53.\n",
      "The mean production cost for the drama movie is 42.728.\n",
      "The mean production cost for the other movie is 29.382.\n"
     ]
    }
   ],
   "source": [
    "# Determine and print the mean for production cost by genre\n",
    "# Use the groupby function to calculate the mean by genre\n",
    "cost_by_genre = df['prodcost'].groupby(df['genre'])\n",
    "cost_by_genre_mean = cost_by_genre.mean()\n",
    "print(cost_by_genre_mean, '\\n')\n",
    "\n",
    "# Create a variable that stores the names of the genre categories\n",
    "name_genre = cost_by_genre.groups.keys()\n",
    "print(name_genre, '\\n')\n",
    "\n",
    "# Iterate over this variable using a for loop and print the means for each category\n",
    "print('***** Mean production cost for each genre *****')\n",
    "for key in name_genre:\n",
    "    print(f'The mean production cost for the {key} movie is {round(cost_by_genre_mean[key],3)}.')"
   ]
  },
  {
   "cell_type": "markdown",
   "id": "e9525407",
   "metadata": {},
   "source": [
    "## Task 5: Histogram Visualization by Group"
   ]
  },
  {
   "cell_type": "code",
   "execution_count": 32,
   "id": "5b3862d9",
   "metadata": {},
   "outputs": [
    {
     "name": "stdout",
     "output_type": "stream",
     "text": [
      "<class 'pandas.core.series.Series'>\n"
     ]
    },
    {
     "data": {
      "text/plain": [
       "1     1.134711\n",
       "4     0.963219\n",
       "5     0.819046\n",
       "10    0.769966\n",
       "11    1.915803\n",
       "Name: dirIncome, dtype: float64"
      ]
     },
     "metadata": {},
     "output_type": "display_data"
    },
    {
     "data": {
      "text/plain": [
       "0    3.393535\n",
       "2    2.418883\n",
       "3    2.034115\n",
       "6    1.880167\n",
       "7    0.440033\n",
       "Name: dirIncome, dtype: float64"
      ]
     },
     "metadata": {},
     "output_type": "display_data"
    }
   ],
   "source": [
    "# Using groupby create two series, one that has the director’s income for those of the male gender, and one for females\n",
    "income_by_gender = df['dirIncome'].groupby(df['dirGender'])\n",
    "female_grp = income_by_gender.get_group('female')\n",
    "male_grp = income_by_gender.get_group('male')\n",
    "print(type(female_grp))\n",
    "\n",
    "display(female_grp.head())\n",
    "display(male_grp.head())"
   ]
  },
  {
   "cell_type": "code",
   "execution_count": 33,
   "id": "54f77dae",
   "metadata": {},
   "outputs": [
    {
     "name": "stderr",
     "output_type": "stream",
     "text": [
      "/Users/oliviachoi/opt/anaconda3/lib/python3.9/site-packages/seaborn/distributions.py:2619: FutureWarning: `distplot` is a deprecated function and will be removed in a future version. Please adapt your code to use either `displot` (a figure-level function with similar flexibility) or `histplot` (an axes-level function for histograms).\n",
      "  warnings.warn(msg, FutureWarning)\n",
      "/Users/oliviachoi/opt/anaconda3/lib/python3.9/site-packages/seaborn/distributions.py:2619: FutureWarning: `distplot` is a deprecated function and will be removed in a future version. Please adapt your code to use either `displot` (a figure-level function with similar flexibility) or `histplot` (an axes-level function for histograms).\n",
      "  warnings.warn(msg, FutureWarning)\n"
     ]
    },
    {
     "data": {
      "image/png": "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\n",
      "text/plain": [
       "<Figure size 432x288 with 1 Axes>"
      ]
     },
     "metadata": {
      "needs_background": "light"
     },
     "output_type": "display_data"
    },
    {
     "data": {
      "image/png": "iVBORw0KGgoAAAANSUhEUgAAAYIAAAEWCAYAAABrDZDcAAAAOXRFWHRTb2Z0d2FyZQBNYXRwbG90bGliIHZlcnNpb24zLjQuMywgaHR0cHM6Ly9tYXRwbG90bGliLm9yZy/MnkTPAAAACXBIWXMAAAsTAAALEwEAmpwYAAA0bElEQVR4nO3dd5hU5dnH8e+PZYGlSVsVpUoVCxYQFSsqIoolahRbbEFjiSWmmMQWNdE3RU00KqKxJWqiqKjYQBGxAhaKFOmsiIvSe7vfP56zMoxbYc9Ouz/XNdeUc+ace2Zn556ny8xwzjmXu2qlOgDnnHOp5YnAOedynCcC55zLcZ4InHMux3kicM65HOeJwDnncpwngjQhabKkI1IdR9wk3SbpW0kLYzr+KEkXR7fPlvRGHOepbpJ+K2lIquPYVonve6aQdISkolTHkQ48EdQASXMkHZ302PmSxpTcN7M9zGxUBcdpJ8kk1Y4p1FhJag38AuhmZjvHfT4z+7eZ9a3u4yb/7aqDmf3RzDLqi9RlD08E7ns1kGDaAt+ZWXFVn1jdsaUymWZqIndbZNvf0BNBmkgsNUg6QNI4ScslfSPpb9Fuo6PrpZJWSjpIUi1Jv5c0V1KxpMcl7ZBw3POibd9JuiHpPDdLelbSk5KWA+dH5/5A0lJJX0u6V1KdhOOZpMskfSlphaRbJXWInrNc0n8T90943tHAm8AuUeyPRo+fGFWLLY2qF3ZPek9+LWkCsKq0fz5Jx0iaKmmZpHsBJWzb6pd7FPvlkr4EvoweO0HSZ9H535e0d8L+rSUNlbQoev/ujeJ7ADgoeh1Lo313iN77RdH7/XtJtRLieE/SXZIWAzeX8jpulvRkdLuk5PcTSfOiqrTfJeybF1UlzYz+BuOj0haSDpY0Nno/xko6OOF5oxSq5t6PYn9JUnNJ/47+dmMltUvYv6ukNyUtljRN0o+T407SQdLH0blflNQsOs4rkq5Mer0TJJ1c2kEq+MzWkvSb6LV/F33eSs5T0ftWIOlRSUskfQH0TDrvLpKei/6GsyX9POnvs9X/SgXvRWYxM7/EfAHmAEcnPXY+MKa0fYAPgHOj2w2BA6Pb7QADaic870JgBrBbtO9Q4IloWzdgJXAIUAf4C7Ah4Tw3R/dPJvwoKAD2Bw4EakfnmwJcnXA+A4YBjYE9gHXAyOj8OwBfAD8p4304AihKuN8ZWAUcA+QDv4peS52E9+QzoDVQUMrxWgDLgdOi518DbAQuLuM9NkIyaha91v2AYqAXkAf8JDpn3ej+58BdQAOgHnBIaceNHnsceBFoFL1v04GLEvbfCFwZva+lvZabgSeT/s4PRXF2j97n3aPtvwQmAl0Iia870Dx6XUuAc6PzDIzuN4+eNyp6fzsk/K2mA0dH+z8O/CvatwEwH7gg2rYf8C2wRxl/21HAV8Ce0XOfS3g9PwY+Sti3O/Bdyd856TgVfWavBj4EWkV/pweBpyr5vt0BvBu9T62BSUSfR8LnfzxwY3Te3YBZwLFl/a+k+nulWr+jUh1ALlwIXy4rgaUJl9WUnQhGA7cALZKOU/JBT0wEI4HLEu53iT6wtaMP9VMJ2+oD69k6EYyuIPargecT7hvQO+H+eODXCff/CtxdxrGOYOtEcAPw34T7taIvkyMS3pMLy4ntPODDhPsCiig/EfRJuH8/cGvSMacBhwMHAYsS3+uEfZKPmxd94XRLeOwSYFTC/vMqeJ9v5oeJoFXC9o+BMxNiPKmUY5wLfJz02AfA+dHtUcDvkv5WrybcHwB8Ft0+A3g36VgPAjeVEf8o4I6E+92iz1oe4Qt7MdAp2vYX4J9lHKeiz+wU4KiE7S3Z8nmv6H2bBfRL2DaILYmgV/LfCLieLYnxZir4X8nki1cN1ZyTzaxJyQW4rJx9LyL8Wp4aFddPKGffXYC5CffnEv4pdoq2zS/ZYGarCb/EEs1PvCOps6SXJS2MisB/JPzyTvRNwu01pdxvWE68ZcZuZpujeHYtK75Snp/4+qyC/ZOP1xb4RVQttDSq5mkdHbc1MNfMNlbidbQg/IpM/jtU9nWUJbFn1Wq2vK+tgZml7J/8WSgtjsr+7doCvZLem7OB8hr5E1/jXEIprYWZrQP+C5wTVZcNBJ4o4xgVfWbbAs8nxDQF2ET4vJco633b6ths/V61JVRbJr7e3yYdd1v+hhnBE0EaMrMvzWwgsCNwJ/CspAaEXzvJFhA+xCXaEKohvgG+JhShgVBHSqhC2Op0SffvB6YSfr01JvwziHhsFbskEb7kvionvkRfR/snP788icebD9yemKDNrL6ZPRVta6PSGwWTY/qW8Ks0+e9Q2ddRVfMJ1TvJkj8LpcVRlXO8k/TeNDSzn5XznMT3vg3hPfk2uv8YIZEcBaw2sw/KOEZFn9n5wHFJcdUzs8q8xq0+L1GMicednXTcRmbWP2GfrJ2q2RNBGpJ0jqTC6Bfy0ujhTYSqis2E+ssSTwHXSGovqSHhF/wz0S/ZZ4EBUQNiHUJ1U0Vf6o0I9e4rJXUFyvvH317/BY6XdJSkfELX0nXA+5V8/ivAHpJ+FH1h/5zyf7Emewi4VFIvBQ0kHS+pEaFK4WvgjujxepJ6R8/7BmgVvaeY2abotdwuqZGktsC1wJNViKUqhgC3SuoUxb23pObAcKCzpLMk1ZZ0BqGK5uVtOMfL0bHOlZQfXXoqoTG/FOdI6iapPvAH4NnovSH64t9MqI4qqzQAFX9mHyC8z20BJBVKOqmSr+m/wPWSmkpqRWizKfExsFyhc0KBQoP8npJ6ln6o7OKJID31AyZLWgncQ6jjXBsVk28H3ouKrwcCjxD+sUYDs4G1RB9wM5sc3X6a8KW2gtA4uq6cc18HnBXt+xDwTPW/vMDMpgHnAP8g/HIcAAwws/WVfP63wOmERsDvgE7Ae1U4/zjgp8C9hEbVGUS9QaIvsAFAR2Aeoe3hjOipbwGTgYWSSn7xXklo+J4FjAH+Q/jbxOFvhC+1NwhJ+2FC4+V3wAmEhPodofH9hOh9qhIzWwH0Bc4klDQWEkqndct52hPAo9G+9QiJOdHjwF6UkyAr8Zm9h9BZ4Q1JKwgNx70q+bJuIVQHzSa8d98npIS/9z7R9m8JCXeHSh47oylqCHE5ICoxLCVU+8xOcTgux0g6DxhkZodU4Tn+ma0BXiLIcpIGSKoftTH8hdDtcE5qo3K5JqouugwYXIl9/TNbwzwRZL+TCEX7BYSqkzPNi4GuBkk6ltC+9Q2hyqwi/pmtYV415JxzOc5LBM45l+MybuKkFi1aWLt27VIdhnPOZZTx48d/a2aFpW3LuETQrl07xo0bl+ownHMuo0hKHnX+Pa8acs65HOeJwDnncpwnAuecy3GeCJxzLsd5InDOuRznicA553KcJwLnnMtxngiccy7HeSJwzrkcl3Eji912GpwwC/CgQamLwzmXNrxE4JxzOc4TgXPO5ThPBM45l+M8ETjnXI7zROCccznOE4FzzuW42BKBpEckFUuaVM4+R0j6TNJkSe/EFYtzzrmyxVkieBToV9ZGSU2AfwInmtkewOkxxuKcc64MsSUCMxsNLC5nl7OAoWY2L9q/OK5YnHPOlS2VbQSdgaaSRkkaL+m8snaUNEjSOEnjFi1aVIMhOudc9ktlIqgN7A8cDxwL3CCpc2k7mtlgM+thZj0KCwtrMkbnnMt6qZxrqAj41sxWAaskjQa6A9NTGJNzzuWcVJYIXgQOlVRbUn2gFzAlhfE451xOiq1EIOkp4AighaQi4CYgH8DMHjCzKZJeAyYAm4EhZlZmV1PnnHPxiC0RmNnASuzzZ+DPccXgnHOuYj6y2DnncpwnAuecy3GeCJxzLsd5InDOuRznicA553KcJwLnnMtxngiccy7HeSJwzrkc54nAOedynCcC55zLcZ4InHMux3kicM65HOeJwDnncpwnAuecy3GeCJxzLsfFlggkPSKpWFK5i81I6ilpk6TT4orFOedc2eIsETwK9CtvB0l5wJ3A6zHG4ZxzrhyxJQIzGw0srmC3K4HngOK44nDOOVe+2JaqrIikXYFTgD5Azwr2HQQMAmjTpk38weWKwYO3vj9oUGricM6lVCobi+8Gfm1mmyra0cwGm1kPM+tRWFgYf2TOOZdDUlYiAHoAT0sCaAH0l7TRzF5IYUzOOZdzUpYIzKx9yW1JjwIvexJwzrmaF1sikPQUcATQQlIRcBOQD2BmD8R1Xuecc1UTWyIws4FV2Pf8uOJwzjlXPh9Z7JxzOc4TgXPO5ThPBM45l+M8ETjnXI7zROCccznOE4FzzuU4TwTOOZfjPBE451yO80TgnHM5zhOBc87lOE8EzjmX4zwROOdcjvNE4JxzOc4TgXPO5ThPBM45l+M8ETjnXI6LLRFIekRSsaRJZWw/W9KE6PK+pO5xxeKcc65scZYIHgX6lbN9NnC4me0N3AoMjjEW55xzZYhzqcrRktqVs/39hLsfAq3iisU551zZ0qWN4CLg1bI2ShokaZykcYsWLarBsJxzLvulPBFIOpKQCH5d1j5mNtjMephZj8LCwpoLzjnnckBsVUOVIWlvYAhwnJl9l8pYnHMuV6WsRCCpDTAUONfMpqcqDuecy3WxlQgkPQUcAbSQVATcBOQDmNkDwI1Ac+CfkgA2mlmPuOJxzjlXujh7DQ2sYPvFwMVxnd8551zlpLyx2DnnXGp5InDOuRznicA553KcJwLnnMtxKR1H4GrA4Gqawin5OIMGVc9xnXMp5yUC55zLcZ4InHMux3kicM65HOeJwDnncpwnAuecy3GeCJxzLsd5InDOuRznicA553KcJwLnnMtxngiccy7HeSJwzrkcF1sikPSIpGJJk8rYLkl/lzRD0gRJ+8UVi3POubJVKhFIek7S8ZKqkjgeBfqVs/04oFN0GQTcX4VjO+ecqyaV/WK/HzgL+FLSHZK6VvQEMxsNLC5nl5OAxy34EGgiqWUl43HOOVdNKpUIzGyEmZ0N7AfMAd6U9L6kCyTlb+O5dwXmJ9wvih77AUmDJI2TNG7RokXbeDrnnHOlqXRVj6TmwPmEBec/Be4hJIY3t/HcKuUxK21HMxtsZj3MrEdhYeE2ns4551xpKrUwjaShQFfgCWCAmX0dbXpG0rhtPHcR0DrhfitgwTYeyznn3Daq7AplQ8xseOIDkuqa2Toz67GN5x4GXCHpaaAXsCwhwTjnnKshlU0EtwHDkx77gFA1VCpJTwFHAC0kFQE3AfkAZvZAdLz+wAxgNXBBVQJ3zjlXPcpNBJJ2JjTgFkjaly31+o2B+uU918wGVrDdgMsrH6qrVps2wbffQvPmUNuXrnYul1X0DXAsoYG4FfC3hMdXAL+NKSYXt/nz4f774bvvoGlTuPRSaNcu1VE551Kk3F5DZvaYmR0JnG9mRyZcTjSzoTUUo6tOq1bBffeFEsEZZ0CtWnDvvbBsWaojc86lSLmJQNI50c12kq5NvtRAfK66DR8OS5fCz34GffrAFVfAmjUw1PO6c7mqonEEDaLrhkCjUi4uk6xeDe+8AwceuKUqaJddQkL46COYOjWl4TnnUqPcNgIzezC6vqVmwnGx+vhj2LABjjxy68ePOQbeegseeADuvjsloTnnUqeyk879n6TGkvIljZT0bUK1kcsEZjBmDLRuDW3abL2tcWPo3h2eeALWrUtNfM65lKnsFBN9zWw5cAJhRHBn4JexReWq34IFobdQ796gUmb36N0bFi+GYcNqPjbnXEpVNhGUTCzXH3jKzMqbVdSlo4kTw/W++5a+fffdoVUrePLJmovJOZcWKpsIXpI0FegBjJRUCKyNLyxX7SZODNVCTZqUvr1WLTjlFHjzzdCo7JzLGZWdhvo3wEFADzPbAKwirCfgMsGqVTBzJuy1V/n7nXhi6Eo6YkTNxOWcSwtVmVtgd8J4gsTnPF7N8bg4fPFFaCzec8/y9zvssNBwPGxYSArOuZxQ2WmonwA6AJ8Bm6KHDU8EmWH6dKhXD9q3L3+/OnWgf394+eWQOEprVHbOZZ3Klgh6AN2iieJcppkxAzp0CO0AFenbF55+OpQi9tgj/ticcylX2cbiScDOcQbiYrJyZeg62rFjxfsOHgxfR0tC3HprvHE559JGZUsELYAvJH0MfD/iyMy8IjndzZwZriuTCABatAiXadPii8k5l1Yqmwhu3paDS+pHWNs4j7DK2R1J23cAngTaRLH8xcz+tS3ncmWYMQPy8qo2zXSXLvDpp2GG0ry82EJzzqWHynYffQeYA+RHt8cCn5T3HEl5wH3AcUA3YKCkbkm7XQ58YWbdCauZ/VVSnaq8AFeBWbPClBJ1qvC2dukSxhJ8/nl8cTnn0kZl5xr6KfAs8GD00K7ACxU87QBghpnNMrP1wNP8cOyBAY0kiTDD6WJgY+VCdxXauBHmzau4t1CyLl3C9VtvVX9Mzrm0U9nG4suB3sByADP7EtixgufsCsxPuF8UPZboXsL4hAXAROAqM9ucfCBJgySNkzRu0aJFlQzZMWUKrF8PbdtW7XlNmsDOO8PIkbGE5ZxLL5VNBOuiX/UARIPKKupKWlon9OTnHEsYm7ALsA9wr6TGP3iS2WAz62FmPQoLCysZsmPcuHC9LctQdu4M770X2gmcc1mtsongHUm/JSxifwzwP+ClCp5TBLROuN+K8Ms/0QXAUAtmALOBrpWMyVVk7NgwkGzHigpvpejQAVasgMmTqz8u51xaqWwi+A2wiFB9cwkwHPh9Bc8ZC3SS1D5qAD4TSJ7jeB5wFICknYAuwKxKxuQqMnZsqBaqzECyZB06hOv336/emJxzaaeyvYY2ExqHLzOz08zsoYpGGZvZRuAK4HVgCvBfM5ss6VJJl0a73QocLGkiMBL4tZl9u42vxSXasAEmTPjhIjSV1aIF7LRTqB5yzmW1cscRRL15biJ8oSt6aBPwDzP7Q0UHN7PhhNJD4mMPJNxeAPTdhrhdRaZNCw3FrVpt2/MlOPhgLxE4lwMqKhFcTegt1NPMmptZM6AX0FvSNXEH57ZDyUI0uyZ31KqC3r3DOISFC6snJudcWqooEZwHDDSz2SUPmNks4Jxom0tXEyeGUcE7b8cUUQcfHK69VOBcVqsoEeSXVmdvZovYsnylS0cTJ4aBYfnb8Wfabz+oW9cTgXNZrqJEsH4bt7lUmzix4hXJKlK3LvTo4YnAuSxXUSLoLml5KZcVwHZ+y7jYLF8Oc+dufyKA0E4wfnzoheScy0rlJgIzyzOzxqVcGpmZVw2lq5JBYNWRCA4+OPQ+mjt3+4/lnEtL2zDSyKW9kh5D1ZUIYMu6Bs65rOOJIBtNnAgNG1Z9srnSFBZCp06eCJzLYp4IstHEibDnnts2tURpDj44jCfwJaudy0qeCLKNWfX0GErUu3eYgK64uPqO6ZxLG54Iss3XX8PixdWbCEraCWb5fIDOZSNPBNmmOhuKS+y+O9SvH9Y/ds5lHU8E2SaORFCrFuy2m5cInMtSngiyzcSJ0LIlNG9evcfdbTdYsABWrare4zrnUs4TQbap7obiEh07huvZs8vfzzmXcTwRZJONG+GLL+JJBO3ahSoibydwLuvEmggk9ZM0TdIMSb8pY58jJH0mabKkd+KMJ+vNmAHr1sWTCOrWDYvceDuBc1kntkQgKQ+4DzgO6AYMlNQtaZ8mwD+BE81sD+D0uOLJCXE0FCfq0CFUDW3aFM/xnXMpEWeJ4ABghpnNMrP1wNPASUn7nAUMNbN5AGbmI5a2x8SJofpm993jOX6HDmECuqKieI7vnEuJOBPBrsD8hPtF0WOJOgNNJY2SNF5SqaueSRokaZykcYsWLYop3CwwcWJo1C0oiOf4HTqEa593yLmsEmciUCmPJU9WUxvYHzgeOBa4QVLnHzzJbLCZ9TCzHoWFhdUfabaYNCm+aiGAZs2gaVNPBM5lmTgTQRHQOuF+K2BBKfu8ZmaroiUxRwPdY4wpe61aFb6g40wEEEoFngicyypxJoKxQCdJ7SXVAc4EhiXt8yJwqKTakuoDvYApMcaUvb74Ikw4VxOJYMkSmDcv3vM452pMbInAzDYCVwCvE77c/2tmkyVdKunSaJ8pwGvABOBjYIiZTYorpqwWd4+hEiUDy0aPjvc8zrkaUzvOg5vZcGB40mMPJN3/M/DnOOPIOoMHb31/0KCQCAoKYORIePvt+M7dqlWYgO7tt+GccyofX1mqsq9zLhY+sjhbTJwIe+xRfYvRlKVWLejcGd56K97zOOdqjCeCbBHXHEOl6dIF5szxeYecyxKeCLJBcXG41GQigHiroJxzNcYTQTaoqYbiErvsEha190TgXFbwRJANajoRSHDkkaGdwBe0dy7jeSLIBhMnhl/oO+1Uc+fs0ycsVDNtWs2d0zkXC08E2aAmG4pL9OsXrocPL38/51za80SQ6TZvDnMMda/hmTnatg3dVV95pWbP65yrdp4IMl1xMaxZU/OJAKB/f3j3XVi+vObP7ZyrNp4IMt38aKbvvfeu+XMffzxs2AAjRtT8uZ1z1SbWKSZcDfjqK6hdG7p1q3jfbVAyA0TXpKmFpgLadDDnFezA7L+9wuhvfxTb7BDJs1CUxWencG7beIkg0xUVQdeuYU3hGmZ5+RR1O5Y2E4eHtgrnXEbyRJDpiopS0z4Qmbv3AOovX8hOsz5IWQzOue3jiSCTrVoV1gZIZSLY5yQ25tej49inUhaDc277eCLIZCWLyKeioTiyoV4j5u11Au3H/w82bkxZHM65bRdrIpDUT9I0STMk/aac/XpK2iTptDjjyToliSCFJQKAGT0HUn9Fsc895FyGii0RSMoD7gOOA7oBAyX9oGtLtN+dhJXMXFUUFUGjRrDzzikNY/5e/VlfrzE85dVDzmWiOEsEBwAzzGyWma0HngZOKmW/K4HngOIYY8lORUVhxbAU25Rfj9n7ngLPPRfaLZxzGSXORLArMD/hflH02Pck7QqcAmy1fKWrhE2bwqRvaZAIAKb1viiMMH766VSH4pyrojgTgUp5LHnO4ruBX5vZpnIPJA2SNE7SuEWLFlVXfJntm29C42yaJIKFHQ+BPfeE++7zqamdyzBxJoIioHXC/VbAgqR9egBPS5oDnAb8U9LJyQcys8Fm1sPMehQWFsYUboYpmVqidevy96spElx2GXz6KcycmeponHNVEOcUE2OBTpLaA18BZwJnJe5gZu1Lbkt6FHjZzF6IMabsMXcu5OenvKF4K+edBzfeGKam/vnPK9zdDBYuK6BoSUOKljRg4fIC1q6C9etDYadhQ9hhB/jsM2jRAnbcEerUif9lOJdrYksEZrZR0hWE3kB5wCNmNlnSpdF2bxfYHnPmQJs2kJeX6ki2aNAArr0WfvvbEF+7dlttXrUq9DAdNSoUHD79FJYsOXfrY/yn/FM0bRpmwO7QIVzatUuvt8C5TBTrpHNmNhwYnvRYqQnAzM6PM5assmlTqBo65JBUR/JDl18Ot98OQ4fCNdewbG0dnhkM//sfjB4dfu3XrRvW0TntNNh7xXu0bbaCXZuuYufGa6g/6Bzq1Alf7itXwrJlMGQILFoUZtxeuBBmzw6lBID69cOxuneH1avDfedc1fjso5lo4cLwjdq2baoj+aHGjWHAAHj6ae756waun3MRazZAly5w5ZVw3HEhf30/R97gyVs/v8mWm3XrQvPm4Vd/UuGC5cvhyy/D4mwTJsBHH4VhDD/+MVxwARx8cGi2cM5VzBNBJpozJ1wnfzum2ODBMH06vPv2nxjMF5z+5Z8Yu9t+tDnjYNq2DV/MM2eGy/ZOGd24Mey/f7hs2gQzZsDixaH36sMPhw5MV18NZ58N9epVy8tzLmv5XEOZaO7c8O22446pjuR733wD99wDf/0rzFi2I690uZadaxVz9/rLaNdmc6y/zvPyQonjX/8KhaWHH4ZateDii0Mzyk03hficc6XzRJCJ5s4N33C1Uv/nW7cOnn8ebrkFZs0K9f5Pn/QUh/RYx6x9f0SLos/p9XyZ00xVu4YN4cILQxvCyJHQqxf84Q+hFu3KK7dMz+Sc2yL13ySuatavD99maVAtNHs23HorvPYa9OwZbh9zDNStHcYHLujShwWdDqf7G3/mgKG/qdHFayTo0wdeegmmTYNzzoEHHgg9jS6/fMswDOectxFkngkTQif7FDYUb9oshg8PX7JNmoQeo126lLKjxIweZ7K05e7s8/qdNF0widHnPsSaHVqWuwRmdevcOfQ8+v3v4U9/goceCpcLL4Trr0/PNnfnapKXCDLNe++F6w4dUnL6pWvr8ou3+vPii6Gh9oYbykgCJWrVYsxZ/+S9M/7OrlNHcsaNXdh/2I3UWb20pkL+Xrt28OCDoWH54otDm0LHjmFA9ILkMe/O5RAvEWSaMWNCn8qmTWv81DOWNON37xzL4jUFnHdeFbpoSkzucyVFexxLzxd+y/6v3MpeI+9mau+LWdOwkHUNm1dLfJVd5B5gn31Cu8Zrr4XkMGQIHHEE9OsX2hkSbW8PJ+fSnSeCTGIG776bktLA6HntuP39I2lYZz1/7/sS6n1KlY+xbKfOjLjkWZrP/4y93/gze779d2SbWdR6P77a/RhWtGhf8UGqUbNmcNZZoV3j5ZdhxIjw9h51VHisoKBGw3EuZTwRZJKZM0M/yKOOqpnzDR5M19Hw7NQ9uHf8MezeopjbDnuD5gVrflCX33V05X+OF87+mK87Hc7iXfZil+lv0/LLd9lx3niW7tiZ+ku+YnXTXUt93tTDtv5pXt45k/ctN57CMAitXz8YNgxeeSVMg3HssXDkkZU+jHMZyxNBJhkzJlx37Fgjp9u8GR749ACe+mIfDm09mxsOfuv7HkHVYV2DZsze91Tm7nk8O898j7aTXmG/V2+jqNuxzNl7ANSq2UmEWraESy6BefPgxRfDLBkjRoRtP/1pwmho57KMNxZnkjFjQttAy5axn2rjJnHBY0fw1Bf7cHKnydxyyIhqTQKJNufXY0HXoxg74A8Ut+9Fm8mvsvdb95C/Znks56tImzZhzMEvfwk77RRud+4cGpc3bkxJSM7FyhNBJhkzBnr3jn0g2fqNtThzyFE8/mFnLtx7LFf3fI+8WvEvNrOxbkOmH3Q+Uw+6gEbfzmLf1++gYHnqhgR37Ai/+AW8/noYxH3hhWHqimeeqdEhEc7FzquGMkVxcRgZdf75sZ5m7YY8TnvwaF6Z2Ja7Tn+f/epMivV8pSne7UBW79CSPd/+B93f+DOT+vyclc3a1HgcEHpFzZkTupv27BmqjM48E667Dk45BfbYY+ueU97DyGUiLxFkirfeCtcxtl6uWlebAfcdyysT2/LA2e9y9dE1nwRKrGzels/7/pLNefnsNfIuGixJ7dwQUuhyesMNoWSwdi384x9w111hxg/nMpkngkzx5pthGG+PHrEcfvmafPr9/TjemroLj53/NpccNiWW81TFmsY7MeGYX7C5dl32Gnk3OyyMY9xx1dSqFeYvuuUWOOMM+Oor+OMft6yZ4FwmijURSOonaZqkGZJ+MPOYpLMlTYgu70vqHmc8GcssJII+fWJZjmvxqrocfffxfDhrJ57+6UjOO+jLaj/HtlrbsAUTjroGJE646ygaLZqV6pAAqF07/Dluuy2ssfDZZ2GW06uu8oTgMk9siUBSHnAfcBzQDRgoqVvSbrOBw81sb+BWoApjQ3PI9OlhlrRjjqn2Qxcvr0efvx3P50XNee7SNzl9/9nVfo7ttabxTkw46mryNqyl/z19KVi2MNUhfa+gAE4+OSSEgw+G++4L4/1uvz0szelcJoizRHAAMMPMZpnZeuBp4KTEHczsfTNbEt39EGgVYzyZ6403wnU1J4KvltTn8L8OYPo3TRh22euc2D19K7tXN9mVV68cTv3lCznu7/1SMldReZo0CTOcTpoUxvv9/vfQqVOY9sK7nLp0F2ci2BVInOy3KHqsLBcBr5a2QdIgSeMkjVuUi+Xul16Crl2rdWqJOd825LC/nEjRkga89vPhHLtH+k/Uv6h9L964dChNv/6CY+87kVob16c6pB/o2jWszzBmDLRvHwao7bUXvPBCqOFzLh3FmQhKm46s1H8FSUcSEsGvS9tuZoPNrIeZ9SgsLKzGEDPAsmVhvoMTT6y2Q05buAOH/uVEFq+uy8hrXuGwzulT1VKRr7r15e0Ln2TnmWPYfcxDaHM8g9y2V+/eIRk8/3xIAKecEqqO3n471ZE590NxjiMoAlon3G8F/GCyX0l7A0OA48zsuxjjyUyvvw4bNlRbIphQ1Ixj7u6PIUZd+xLdWy+uluPWpFk9fkzdVYs59D8/o/OHjzPtoJ+A0qMDXGkzoF51FXzwQZjYrk8f2H330K5Q2bWFfGyCi1uc/z1jgU6S2kuqA5wJDEvcQVIbYChwrplNjzGWzPXii9CiBRx44HYfauycQo746wnUzjNGXzcsI5NAiSmHX8qcvU9kp9kfstsnz6Z1vUteHhxySFjB7bTTwlxGf/pTWDHt669THZ1zMZYIzGyjpCuA14E84BEzmyzp0mj7A8CNQHPgnwrDMzeaWTwd5TPR6tUhEZx11nZ3Gx0xZVd+9MAxNG+wlpHXvMJuhSuqKcjUmbdnf2qvW0mrqSPZULcR8/c8LtUhlSs/P7T3H3JImMxuxIjQ7fTAA2HAgLDMhHOpEOsUE2Y2HBie9NgDCbcvBi6OM4aM9vLLoQ/iwIHbdZjHPujExY8fTtedl/Lqz1+lVdMs6dcoMWv/08lft4r2n7/AhroNWNjpsFRHVaGCgvDFf+SR8OqroQnoo4/CQLV+/WDnnVMdocs1PtdQOnvqqTDT6GGV+3IbPHjrNYDN4PFJ+/LIhJ7st9NX3Nr7DWZN3ECr9P+urDzVYvpBP6H2+tV0+vg/bKzbgG/b7J/qqCqlYUM4/XQ4+ujQQ/jdd+HDD2HffUNC8LWUXU3xRJCuvv0Whg+Hyy/fpmqhjZvF3z4+lFdmdqVv++n8qtdo8vOyc8pMq5XHlEMHsddb99D1vYeZlJ9ZS4s1bRqmq+jfH0aODCWETz4JU18fcUToK5Cfn+ooXTbzRJCuHn0U1q+Hiy6q8lOXravLLWOOYvzCVpy35ydcuPe4rWbIHD267Odmqs216zDpiMvp/uZf2WP0A8w84CwWtT8g1WFVSaNGoTfRsceGv9E774RS3ssvh/EIgwZ5tZGLR3r0uXNbMwvfAL17h3mOq2DGkmZc8topTChuya8OfIeLuo+r3ALzWWBTnfpM6vNz1tdrxHH/6E+Tr1M/cd62KCgIyeC22+Cyy8KAtJtuglat4PjjQ43h6tWpjtJlE08E6ejNN+HLL8PPwCr4+GO47PWT2bApj78fM4zjO0yLKcD0tb5gByb2uZrNefn0v6cvDRbPS3VI26xWLejeHV57LSxFcd11MHFi6ES2005w3nlhfeW1a1Mdqct0ngjS0Z13wi67wI9/XKndV64Mc+Q//DB0braIwccNpVuLHJyKI7K2USHDr3qd/LUrOP7uvtRbkfnvRefOcMcdYZGcUaPC4jjDhsEJJ4RhJqeeCo89FpqWnKsqTwTp5uOPwyI0115bqdXSP53XnB49QpNC//5w99Ev07xgTfxxprnFrfbmtStepuHieRz39+PIX5v54yYglBIOPxweegi++SZ0Pz333NDb6PzzQ0mhVy/43e/CdBbr1qU6YpcJPBGkmxtuCN1IKphXYP3GWtw0bH8O+NMprFgRepucdBLUroG1hTPFNx0P4c1L/kfzos/o+8+TyduQXXUodeuGbqb33w9FRTB2bPgx8N13ofTQp09ogN5jj1BiuP76sO/gwaVPheFyl/caSievvRY6lN91V/gPLsPYOYVc+NjhTFrQjHMPnM5dL3emefPQrOC2Nn+v4xn1k0fp869z6fPw2Yz46TNYXvZ97KWweN2AAeGyZk1YxmLqVJgyBYYODfvVqRNmRe3YEXbbLYxqbtgwtbG71Mu+/4hMtXYtXHNNmGr6sstK3aW4OBT5H374ZFrusJqXLn+NE/aeB80713CwmWXGgedQd/Viej9zFUcNGchbF/2bzbXrpDqsWBUUhIbm7tGaf8uWwYwZ4cfCjBlhiMorr4SqptatQ2IoSQ5Nmmx9LJ/0Lvt5IkgXt9wSfr69+mr42ZZg7dpQpL/lljDjxDVHTeTGE8azQ8GGFAWbeSb3+TnavJmD/3cNeRvXMWLQf9mUXy/VYdWYHXaA/fcPFwglhlmzQmKYOTOMWxg5csu+bduGS7t24QfIjjumLHRXAzwRpIORI+H//g8uuCBU+kbWrw89gW6/PSyS3rcv3H037P7uh6mLNYNNOvpqNuXX5dD/XEa/fxzPm5c8y/oGTVMdVkoUFIS2g5JhKhs3wty5W18mTgxDWv7xjzDTSbduYf9u3cJU2h06hMdrbWNLY1XaKbxUEi9PBKk2c2aYX6BrV7jnHgCWLIEhQ8I/4Pz5YVzZE0+EScoAeDd14Wa6KYf/jA11G3H44xdy8h29eP3yl1i2c5dUh5VytWuHL/bERfDWrAmfv5YtQ1L44ovwwyRxLeY6dbaUHFq3Dr2WdtwxXJfcLiwMpYx6uVMAyzieCFJpzpzQtcMMe/4Fxk5pxL/+BY8/HkaOHnlk6CbYty85Mzq4Jsw48BxWtGhH3/tP4eQ7D+Sdcx9mzn4/SnVYZUpVD5+CgjB+IfHX+ObNITlMmRI+vrNnb7mePDlUI5W1RnOdOtC4cUgKO+wQEkpBQeUuCxduSSbl/S94KWPbeCJIlfffx370IzavWcej54zkLyd1YurU0CVw4EC4+uotDX2u+n3T8RCev34sxzx4Gn0fPJXpB57Lh6f+hbWNvTK8PLVqbWk/KM3mzaFEW1wcxjkUF4dBbsuW/fAyfTosWhRKHmvWhLawstYXuummcJ2fvyWRlFyaNAnXTZuGhNSoUegJlXhdUOA/psrjiaCGFc9YzpJf/pGOL/6F+Xnt6b/xLab8sxuHHgq/+EVYwSqx10Zpv3C6Jk0aNzXWiLPXyhbteOE3H7Df8NvZd/jttPvsBT7v+ysmH3F5zrYdbK8hQ374WO3aYdGdihbe2bw5DIArSQyJl/333zqJLF265faXX4brxYu3rrZKlJcXkkJJiaRJk7A63K67bn1p1iw3E0asiUBSP+AewgplQ8zsjqTtirb3B1YD55vZJ3HGVFPWrg0NbjNnwuefGd+Nnkznj5/g1CVD6MJiHsu7kFeP+itXndKEE04IH0JX8ywvn/EDbmZGz4Ec8Pxv6DnsBvZ99Y/MOGAgs/c7ja+69GFzfsUjvN32q1VrS1VQsspW49x7b5hyZcWKcCm5XXK9fHlIInPnwpgxP3x+vXphdpfE5NCyZbjsvHO4tGwZEkk2JYzYEoGkPOA+4BjCQvZjJQ0zsy8SdjsO6BRdegH3R9c1wiz8Ctm0qfzrDRtCnf3q1eHXScntFSvCKM7vijexcsFy1n6zjBVFy1g+fxkFi4voyAx2ZwrnMIbWFLFRtZnd7Xi+uvZ3DDy3Jz/J7q7sGWXZzl1482fP02z+5+wx6j46jH2Kru89wsbadVncqjuL2u7P8sKOrGqyK6uatmJtwxZsqNuQjXUbsKFuw6wcpFYiHUYhVzaGOnXCr/pmzSre9/zzQ6ngq69Kv4wdCy+8UPqkfnXrhqSw446hSqpJky2XxPsNG4bkUtqlbt1QWqpVa8slL2/r2zWVbOL89B4AzDCzWQCSngZOAhITwUnA42ZmwIeSmkhqaWbVvqT30KFw9tlbf8FX13rnz3MqJ/NiqdvW7tSGWr17w9GHU/vUU+nkHbLT2uLW3Xn33MG8f+bf2WXa2+wydSSFc8fT6aMnqVPGfEXr6jfhsbuW1HCkbnuV9HgqbyU4s1DttHBhuHz99da3i4u3lDCWLg3tI+vXV2+ciQniuuvC9OTVTVZd34bJB5ZOA/pF6xIj6Vygl5ldkbDPy8AdZjYmuj8S+LWZjUs61iCgpHDYBajq/MotgHScl9Hjqpp0jQvSNzaPq2qyOa62ZlZY2oY4SwSlFWqSs05l9sHMBgPbXECVNM7Memzr8+PicVVNusYF6Rubx1U1uRpXnLOPFgGtE+63AhZswz7OOediFGciGAt0ktReUh3gTGBY0j7DgPMUHAgsi6N9wDnnXNliqxoys42SrgBeJ3QffcTMJku6NNr+ADCc0HV0BqH76AUxhZMG/R5K5XFVTbrGBekbm8dVNTkZV2yNxc455zKDr1DmnHM5zhOBc87luJxJBJJOlzRZ0mZJKe8eJqmfpGmSZkj6TarjAZD0iKRiSZNSHUsiSa0lvS1pSvQ3vCrVMQFIqifpY0mfR3HdkuqYEknKk/RpNF4nLUiaI2mipM8kjav4GTUnGtD6rKSp0WftoDSIqUv0XpVclku6utrPkyttBJJ2BzYDDwLXJQ9aq+FY8oDpJEy/AQxMmn4jFXEdBqwkjPbeM5WxJJLUEmhpZp9IagSMB05Og/dLQAMzWykpHxgDXGVmabFykKRrgR5AYzM7IdXxQEgEQA8zS7tBW5IeA941syFRT8f6ZrY0xWF9L/re+IowMHdudR47Z0oEZjbFzKo6Ijku30+/YWbrgZLpN1LKzEYDi1MdRzIz+7pkMkIzWwFMAVI+TZ8FK6O7+dElLX5ZSWoFHA+UMh+oSyapMXAY8DCAma1PpyQQOQqYWd1JAHIoEaSZXYH5CfeLSIMvtkwgqR2wL/BRikMBvq9++QwoBt40s7SIC7gb+BWhFJxODHhD0vho6ph0sRuwCPhXVJ02RFKDVAeV5EzgqTgOnFWJQNIISZNKuaT813aSSk2t4bYmqSHwHHC1mS1PdTwAZrbJzPYhjIo/QFLKq9QknQAUm9n4VMdSit5mth9h5uHLo+rIdFAb2A+438z2BVYBadF2BxBVVZ0I/C+O42fV3LlmdnSqY6gkn1qjiqI6+OeAf5vZ0FTHk8zMlkoaBfQDUt3Y3hs4UVJ/oB7QWNKTZnZOiuPCzBZE18WSnidUk44u/1k1oggoSijRPUsaJQJC4vzEzL6J4+BZVSLIIJWZfsNFokbZh4EpZva3VMdTQlKhpCbR7QLgaNJgwTgzu97MWplZO8Jn6610SAKSGkSN/UTVLn1JfdIEwMwWAvMldYkeOoqtp8xPtYHEVC0EOZQIJJ0iqQg4CHhF0uupisXMNgIl029MAf5rZpNTFU8JSU8BHwBdJBVJuijVMUV6A+cCfRK60fVPdVBAS+BtSRMIyf1NM0ubrpppaCdgjKTPgY+BV8zstRTHlOhK4N/R33Mf4I+pDSeQVJ/QwzC2knDOdB91zjlXupwpETjnnCudJwLnnMtxngiccy7HeSJwzrkc54nAOedyXFYNKHOuKiTdTJhkrzEw2sxGlLLPo8DLZvZszUbnXM3xROBynpndWNrj0WyPzmU9rxpyOUXS76J1IEYAXaLHHpV0WnR7jqQbJY0BTk967hxJt0j6JJpTv2v0eENJ/4oemyDp1OjxgdFjkyTdmXCclZLujCZeGyHpAEmjJM2SdGK0T56kP0saGx3zkpp5h1wu8kTgcoak/QlTLuwL/AjoWcaua83sEDN7upRt30aTpt0PXBc9dgOwzMz2MrO9gbck7QLcCfQhjFLtKenkaP8GwCgz2x9YAdxGGDl6CvCHaJ+LomP2jOL8qaT22/bKnSufJwKXSw4Fnjez1dHspWXN7/RMOccoGeY/HmgX3T4auK9kBzNbQvjyHmVmi6IpRf5NmO8eYD1QMrXCROAdM9sQ3S45Zl/gvGiK64+A5kCnil+ic1XnbQQu11RmTpVV5WxbF11vYsv/j0o5bmlTjZfYYFvmdtlcckwz2ywp8ZhXmlnK5sRyucNLBC6XjAZOkVQQzYI5oJqO+wZhEkEAJDUl/Io/XFKLqNF5IPBOFY75OvCzaPptJHVOw4VSXJbwROByRrTc5TPAZ4S1Dd6tpkPfBjSNGoU/B440s6+B64G3gc8Jc8m/WIVjDiFMg/yJpEmEtba9BO9i4bOPOudcjvMSgXPO5ThPBM45l+M8ETjnXI7zROCccznOE4FzzuU4TwTOOZfjPBE451yO+3/RkgPpgYEfjQAAAABJRU5ErkJggg==\n",
      "text/plain": [
       "<Figure size 432x288 with 1 Axes>"
      ]
     },
     "metadata": {
      "needs_background": "light"
     },
     "output_type": "display_data"
    }
   ],
   "source": [
    "# Visualize on the same plot the distribution of incomes using the histogram\n",
    "import seaborn as sns\n",
    "sns.histplot(male_grp)\n",
    "sns.histplot(female_grp, color=\"yellow\").set_title('Histogram of Director Incomes for Each Gender')\n",
    "plt.legend(labels=[\"Male\",\"Female\"])\n",
    "\n",
    "# OR\n",
    "fig = plt.figure()\n",
    "maleIncomeHist   = sns.distplot(male_grp, bins = 20, color = 'b')\n",
    "femaleIncomeHist = sns.distplot(female_grp, bins = 20, color = 'r')\n",
    "plt.title('Histogram for director income by gender')\n",
    "plt.show()"
   ]
  },
  {
   "cell_type": "code",
   "execution_count": 36,
   "id": "f706ab15",
   "metadata": {},
   "outputs": [
    {
     "data": {
      "text/plain": [
       "Text(0.5, 1.0, 'Boxplot of Director Incomes for Each Gender')"
      ]
     },
     "execution_count": 36,
     "metadata": {},
     "output_type": "execute_result"
    },
    {
     "data": {
      "image/png": "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\n",
      "text/plain": [
       "<Figure size 432x288 with 1 Axes>"
      ]
     },
     "metadata": {
      "needs_background": "light"
     },
     "output_type": "display_data"
    }
   ],
   "source": [
    "# Plot the same data, using a boxplot, splitting by directorGender\n",
    "#fig, ax = plt.subplots(figsize=(10,8))\n",
    "#df.boxplot(column=['dirIncome'], by='dirGender', ax=ax)\n",
    "sns.boxplot(data=df, x=\"dirGender\", y=\"dirIncome\").set_title('Boxplot of Director Incomes for Each Gender')"
   ]
  },
  {
   "cell_type": "code",
   "execution_count": 37,
   "id": "cdc09f59",
   "metadata": {},
   "outputs": [
    {
     "data": {
      "text/plain": [
       "Text(0.5, 1.0, 'Violinplot of Director Incomes for Each Gender')"
      ]
     },
     "execution_count": 37,
     "metadata": {},
     "output_type": "execute_result"
    },
    {
     "data": {
      "image/png": "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\n",
      "text/plain": [
       "<Figure size 432x288 with 1 Axes>"
      ]
     },
     "metadata": {
      "needs_background": "light"
     },
     "output_type": "display_data"
    }
   ],
   "source": [
    "# Plot the same data using a violin plot, splitting by director gender\n",
    "sns.violinplot(data=df, x=\"dirGender\", y=\"dirIncome\", split=True).set_title('Violinplot of Director Incomes for Each Gender')"
   ]
  },
  {
   "cell_type": "code",
   "execution_count": 39,
   "id": "8245ff36",
   "metadata": {},
   "outputs": [
    {
     "data": {
      "text/plain": [
       "Text(0.5, 1.0, 'Boxplot of Director Incomes Split by Movie Genre')"
      ]
     },
     "execution_count": 39,
     "metadata": {},
     "output_type": "execute_result"
    },
    {
     "data": {
      "image/png": "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\n",
      "text/plain": [
       "<Figure size 432x288 with 1 Axes>"
      ]
     },
     "metadata": {
      "needs_background": "light"
     },
     "output_type": "display_data"
    }
   ],
   "source": [
    "# Make a boxplot of director income split by movie genre\n",
    "#fig, ax = plt.subplots(figsize=(10,8))\n",
    "#df.boxplot(column=['dirIncome'], by='genre', ax=ax)\n",
    "sns.boxplot(data=df, x=\"genre\", y=\"dirIncome\").set_title('Boxplot of Director Incomes Split by Movie Genre')"
   ]
  },
  {
   "cell_type": "code",
   "execution_count": 40,
   "id": "c44f0a71",
   "metadata": {},
   "outputs": [
    {
     "data": {
      "text/plain": [
       "Text(0.5, 1.0, 'Violinplot of Director Incomes Split by Movie Genre')"
      ]
     },
     "execution_count": 40,
     "metadata": {},
     "output_type": "execute_result"
    },
    {
     "data": {
      "image/png": "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\n",
      "text/plain": [
       "<Figure size 432x288 with 1 Axes>"
      ]
     },
     "metadata": {
      "needs_background": "light"
     },
     "output_type": "display_data"
    }
   ],
   "source": [
    "# Make a violinplotof director income split by movie genre\n",
    "sns.violinplot(data=df, x=\"genre\", y=\"dirIncome\", split=True).set_title('Violinplot of Director Incomes Split by Movie Genre')"
   ]
  }
 ],
 "metadata": {
  "kernelspec": {
   "display_name": "Python 3 (ipykernel)",
   "language": "python",
   "name": "python3"
  },
  "language_info": {
   "codemirror_mode": {
    "name": "ipython",
    "version": 3
   },
   "file_extension": ".py",
   "mimetype": "text/x-python",
   "name": "python",
   "nbconvert_exporter": "python",
   "pygments_lexer": "ipython3",
   "version": "3.9.7"
  }
 },
 "nbformat": 4,
 "nbformat_minor": 5
}
