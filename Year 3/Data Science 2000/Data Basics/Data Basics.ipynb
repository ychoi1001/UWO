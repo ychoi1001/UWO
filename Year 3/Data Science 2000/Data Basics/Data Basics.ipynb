{
 "cells": [
  {
   "cell_type": "markdown",
   "id": "e3b42d84",
   "metadata": {},
   "source": [
    "### Learning Outcomes \n",
    "By completing this project, you will gain and demonstrate skills relating to\n",
    "- Working within the python and Jupyter notebook environment \n",
    "- Learning the basics of pandas’ dataframes \n",
    "- Extracting descriptive statistics from the data\n",
    "- Plot basic histograms and judge the shape of different distributions\n",
    "\n",
    "### Problem Description\n",
    "As a data scientist for a Hollywood investment company you have been charged with creating a summary of the last 250 movies so that your boss can have a deeper understanding of the movie industry. The dataset that you will be working with includes 8 different variables\n",
    "- North American box office revenue (boxoff)\n",
    "- Production cost of the movie (prodcost)\n",
    "- Income of the director (dirIncome)\n",
    "- Gender of the director (dirGender) \n",
    "- Year of release (year)\n",
    "- Month of release (month) \n",
    "- Movie genre (genre)\n",
    "- Number of theatres (numTheatres)"
   ]
  },
  {
   "cell_type": "markdown",
   "id": "1dc364cc",
   "metadata": {},
   "source": [
    "## Task1: Load the Data into Dataframe"
   ]
  },
  {
   "cell_type": "code",
   "execution_count": 1,
   "id": "76237310",
   "metadata": {},
   "outputs": [],
   "source": [
    "# Import pandas as pd\n",
    "import pandas as pd"
   ]
  },
  {
   "cell_type": "code",
   "execution_count": 2,
   "id": "0fd427cf",
   "metadata": {},
   "outputs": [
    {
     "data": {
      "text/html": [
       "<div>\n",
       "<style scoped>\n",
       "    .dataframe tbody tr th:only-of-type {\n",
       "        vertical-align: middle;\n",
       "    }\n",
       "\n",
       "    .dataframe tbody tr th {\n",
       "        vertical-align: top;\n",
       "    }\n",
       "\n",
       "    .dataframe thead th {\n",
       "        text-align: right;\n",
       "    }\n",
       "</style>\n",
       "<table border=\"1\" class=\"dataframe\">\n",
       "  <thead>\n",
       "    <tr style=\"text-align: right;\">\n",
       "      <th></th>\n",
       "      <th>Unnamed: 0</th>\n",
       "      <th>boxoff</th>\n",
       "      <th>prodcost</th>\n",
       "      <th>dirIncome</th>\n",
       "      <th>dirGender</th>\n",
       "      <th>year</th>\n",
       "      <th>month</th>\n",
       "      <th>genre</th>\n",
       "      <th>numTheatres</th>\n",
       "    </tr>\n",
       "  </thead>\n",
       "  <tbody>\n",
       "    <tr>\n",
       "      <th>0</th>\n",
       "      <td>0</td>\n",
       "      <td>88.648583</td>\n",
       "      <td>44.742936</td>\n",
       "      <td>3.393535</td>\n",
       "      <td>male</td>\n",
       "      <td>2012</td>\n",
       "      <td>3</td>\n",
       "      <td>comedy</td>\n",
       "      <td>139.0</td>\n",
       "    </tr>\n",
       "    <tr>\n",
       "      <th>1</th>\n",
       "      <td>1</td>\n",
       "      <td>145.334924</td>\n",
       "      <td>38.835516</td>\n",
       "      <td>1.134711</td>\n",
       "      <td>female</td>\n",
       "      <td>2014</td>\n",
       "      <td>11</td>\n",
       "      <td>drama</td>\n",
       "      <td>213.0</td>\n",
       "    </tr>\n",
       "    <tr>\n",
       "      <th>2</th>\n",
       "      <td>2</td>\n",
       "      <td>238.265684</td>\n",
       "      <td>29.532283</td>\n",
       "      <td>2.418883</td>\n",
       "      <td>male</td>\n",
       "      <td>2015</td>\n",
       "      <td>6</td>\n",
       "      <td>other</td>\n",
       "      <td>100.0</td>\n",
       "    </tr>\n",
       "    <tr>\n",
       "      <th>3</th>\n",
       "      <td>3</td>\n",
       "      <td>212.714742</td>\n",
       "      <td>157.111899</td>\n",
       "      <td>2.034115</td>\n",
       "      <td>male</td>\n",
       "      <td>2014</td>\n",
       "      <td>10</td>\n",
       "      <td>adventure</td>\n",
       "      <td>436.0</td>\n",
       "    </tr>\n",
       "    <tr>\n",
       "      <th>4</th>\n",
       "      <td>4</td>\n",
       "      <td>120.175461</td>\n",
       "      <td>30.547155</td>\n",
       "      <td>0.963219</td>\n",
       "      <td>female</td>\n",
       "      <td>2012</td>\n",
       "      <td>1</td>\n",
       "      <td>comedy</td>\n",
       "      <td>115.0</td>\n",
       "    </tr>\n",
       "  </tbody>\n",
       "</table>\n",
       "</div>"
      ],
      "text/plain": [
       "   Unnamed: 0      boxoff    prodcost  dirIncome dirGender  year  month  \\\n",
       "0           0   88.648583   44.742936   3.393535      male  2012      3   \n",
       "1           1  145.334924   38.835516   1.134711    female  2014     11   \n",
       "2           2  238.265684   29.532283   2.418883      male  2015      6   \n",
       "3           3  212.714742  157.111899   2.034115      male  2014     10   \n",
       "4           4  120.175461   30.547155   0.963219    female  2012      1   \n",
       "\n",
       "       genre  numTheatres  \n",
       "0     comedy        139.0  \n",
       "1      drama        213.0  \n",
       "2      other        100.0  \n",
       "3  adventure        436.0  \n",
       "4     comedy        115.0  "
      ]
     },
     "metadata": {},
     "output_type": "display_data"
    }
   ],
   "source": [
    "# Load the data file as a dataframe object\n",
    "df = pd.read_csv('movieDataset.csv')\n",
    "\n",
    "# Show dataframe briefly\n",
    "display(df.head())"
   ]
  },
  {
   "cell_type": "markdown",
   "id": "3333735c",
   "metadata": {},
   "source": [
    "## Task2: Understanding Pandas Dataframe Structure"
   ]
  },
  {
   "cell_type": "code",
   "execution_count": 3,
   "id": "dc7bbf0b",
   "metadata": {},
   "outputs": [
    {
     "name": "stdout",
     "output_type": "stream",
     "text": [
      "Index(['Unnamed: 0', 'boxoff', 'prodcost', 'dirIncome', 'dirGender', 'year',\n",
      "       'month', 'genre', 'numTheatres'],\n",
      "      dtype='object')\n"
     ]
    }
   ],
   "source": [
    "# Learning how to access column names \n",
    "# Print the names of the columns in the data frame you loaded\n",
    "print(df.columns)"
   ]
  },
  {
   "cell_type": "code",
   "execution_count": 4,
   "id": "068d0cb8",
   "metadata": {},
   "outputs": [
    {
     "name": "stdout",
     "output_type": "stream",
     "text": [
      "0      3.393535\n",
      "1      1.134711\n",
      "2      2.418883\n",
      "3      2.034115\n",
      "4      0.963219\n",
      "         ...   \n",
      "245    3.105438\n",
      "246    1.917771\n",
      "247    2.414571\n",
      "248    2.176928\n",
      "249    2.315791\n",
      "Name: dirIncome, Length: 250, dtype: float64\n"
     ]
    }
   ],
   "source": [
    "# Retrieving a column\n",
    "# Print the data in the directorIncome column to the screen\n",
    "print(df['dirIncome'])"
   ]
  },
  {
   "cell_type": "code",
   "execution_count": 6,
   "id": "bbafb8c6",
   "metadata": {},
   "outputs": [
    {
     "name": "stdout",
     "output_type": "stream",
     "text": [
      "Unnamed: 0             15\n",
      "boxoff         164.259719\n",
      "prodcost        35.419632\n",
      "dirIncome        0.445088\n",
      "dirGender          female\n",
      "year                 2013\n",
      "month                   5\n",
      "genre              comedy\n",
      "numTheatres         445.0\n",
      "Name: 15, dtype: object\n"
     ]
    }
   ],
   "source": [
    "# Retrieving a data entry (i.e. a row)\n",
    "# Print the data in the 15 row\n",
    "# To get the 15th row, use iloc[14] since row numbers start from 0\n",
    "print(df.iloc[15])"
   ]
  },
  {
   "cell_type": "code",
   "execution_count": 7,
   "id": "00090e70",
   "metadata": {},
   "outputs": [
    {
     "name": "stdout",
     "output_type": "stream",
     "text": [
      "     Unnamed: 0      boxoff   prodcost  dirIncome dirGender  year  month  \\\n",
      "99           99  212.019583  39.953228   0.228733      male  2015      7   \n",
      "100         100  102.464505  22.785555   3.365736      male  2014      8   \n",
      "101         101  191.060229  50.967975   4.204352      male  2015      1   \n",
      "102         102  263.188313  83.574050   4.780653      male  2012      8   \n",
      "103         103  115.448968  78.839090   3.579342      male  2014      8   \n",
      "\n",
      "         genre  numTheatres  \n",
      "99   adventure        304.0  \n",
      "100     comedy        195.0  \n",
      "101     action        354.0  \n",
      "102     action        538.0  \n",
      "103     action        310.0  \n"
     ]
    }
   ],
   "source": [
    "# Retrieving multiple rows\n",
    "# Print the data in rows 99 to 104\n",
    "print(df.iloc[99:104])"
   ]
  },
  {
   "cell_type": "code",
   "execution_count": 8,
   "id": "8b293115",
   "metadata": {},
   "outputs": [
    {
     "data": {
      "text/html": [
       "<div>\n",
       "<style scoped>\n",
       "    .dataframe tbody tr th:only-of-type {\n",
       "        vertical-align: middle;\n",
       "    }\n",
       "\n",
       "    .dataframe tbody tr th {\n",
       "        vertical-align: top;\n",
       "    }\n",
       "\n",
       "    .dataframe thead th {\n",
       "        text-align: right;\n",
       "    }\n",
       "</style>\n",
       "<table border=\"1\" class=\"dataframe\">\n",
       "  <thead>\n",
       "    <tr style=\"text-align: right;\">\n",
       "      <th></th>\n",
       "      <th>Unnamed: 0</th>\n",
       "      <th>boxoff</th>\n",
       "      <th>prodcost</th>\n",
       "      <th>dirIncome</th>\n",
       "      <th>dirGender</th>\n",
       "      <th>year</th>\n",
       "      <th>month</th>\n",
       "      <th>genre</th>\n",
       "      <th>numTheatres</th>\n",
       "    </tr>\n",
       "  </thead>\n",
       "  <tbody>\n",
       "    <tr>\n",
       "      <th>104</th>\n",
       "      <td>104</td>\n",
       "      <td>118.622763</td>\n",
       "      <td>140.163830</td>\n",
       "      <td>5.745664</td>\n",
       "      <td>male</td>\n",
       "      <td>2015</td>\n",
       "      <td>12</td>\n",
       "      <td>adventure</td>\n",
       "      <td>210.0</td>\n",
       "    </tr>\n",
       "    <tr>\n",
       "      <th>110</th>\n",
       "      <td>110</td>\n",
       "      <td>160.135229</td>\n",
       "      <td>94.474355</td>\n",
       "      <td>5.219081</td>\n",
       "      <td>male</td>\n",
       "      <td>2015</td>\n",
       "      <td>4</td>\n",
       "      <td>adventure</td>\n",
       "      <td>168.0</td>\n",
       "    </tr>\n",
       "    <tr>\n",
       "      <th>117</th>\n",
       "      <td>117</td>\n",
       "      <td>204.895531</td>\n",
       "      <td>147.786519</td>\n",
       "      <td>5.029115</td>\n",
       "      <td>male</td>\n",
       "      <td>2012</td>\n",
       "      <td>12</td>\n",
       "      <td>action</td>\n",
       "      <td>262.0</td>\n",
       "    </tr>\n",
       "    <tr>\n",
       "      <th>153</th>\n",
       "      <td>153</td>\n",
       "      <td>113.908214</td>\n",
       "      <td>14.661172</td>\n",
       "      <td>5.058337</td>\n",
       "      <td>male</td>\n",
       "      <td>2015</td>\n",
       "      <td>10</td>\n",
       "      <td>other</td>\n",
       "      <td>212.0</td>\n",
       "    </tr>\n",
       "    <tr>\n",
       "      <th>159</th>\n",
       "      <td>159</td>\n",
       "      <td>142.697967</td>\n",
       "      <td>126.748095</td>\n",
       "      <td>5.499477</td>\n",
       "      <td>male</td>\n",
       "      <td>2012</td>\n",
       "      <td>11</td>\n",
       "      <td>action</td>\n",
       "      <td>383.0</td>\n",
       "    </tr>\n",
       "    <tr>\n",
       "      <th>189</th>\n",
       "      <td>189</td>\n",
       "      <td>211.971373</td>\n",
       "      <td>96.262110</td>\n",
       "      <td>5.277638</td>\n",
       "      <td>male</td>\n",
       "      <td>2015</td>\n",
       "      <td>12</td>\n",
       "      <td>adventure</td>\n",
       "      <td>568.0</td>\n",
       "    </tr>\n",
       "    <tr>\n",
       "      <th>227</th>\n",
       "      <td>227</td>\n",
       "      <td>244.326897</td>\n",
       "      <td>52.699310</td>\n",
       "      <td>5.804698</td>\n",
       "      <td>male</td>\n",
       "      <td>2013</td>\n",
       "      <td>12</td>\n",
       "      <td>comedy</td>\n",
       "      <td>610.0</td>\n",
       "    </tr>\n",
       "    <tr>\n",
       "      <th>239</th>\n",
       "      <td>239</td>\n",
       "      <td>391.434752</td>\n",
       "      <td>75.710045</td>\n",
       "      <td>5.875102</td>\n",
       "      <td>male</td>\n",
       "      <td>2015</td>\n",
       "      <td>8</td>\n",
       "      <td>action</td>\n",
       "      <td>802.0</td>\n",
       "    </tr>\n",
       "  </tbody>\n",
       "</table>\n",
       "</div>"
      ],
      "text/plain": [
       "     Unnamed: 0      boxoff    prodcost  dirIncome dirGender  year  month  \\\n",
       "104         104  118.622763  140.163830   5.745664      male  2015     12   \n",
       "110         110  160.135229   94.474355   5.219081      male  2015      4   \n",
       "117         117  204.895531  147.786519   5.029115      male  2012     12   \n",
       "153         153  113.908214   14.661172   5.058337      male  2015     10   \n",
       "159         159  142.697967  126.748095   5.499477      male  2012     11   \n",
       "189         189  211.971373   96.262110   5.277638      male  2015     12   \n",
       "227         227  244.326897   52.699310   5.804698      male  2013     12   \n",
       "239         239  391.434752   75.710045   5.875102      male  2015      8   \n",
       "\n",
       "         genre  numTheatres  \n",
       "104  adventure        210.0  \n",
       "110  adventure        168.0  \n",
       "117     action        262.0  \n",
       "153      other        212.0  \n",
       "159     action        383.0  \n",
       "189  adventure        568.0  \n",
       "227     comedy        610.0  \n",
       "239     action        802.0  "
      ]
     },
     "execution_count": 8,
     "metadata": {},
     "output_type": "execute_result"
    }
   ],
   "source": [
    "# Retrieve the rows that meet a specific condition\n",
    "# Print the data entries where the director’s income is greater than or equal to 5 million dollars\n",
    "df.loc[df['dirIncome'] >= 5]"
   ]
  },
  {
   "cell_type": "code",
   "execution_count": 10,
   "id": "e59fb79b",
   "metadata": {},
   "outputs": [
    {
     "data": {
      "text/html": [
       "<div>\n",
       "<style scoped>\n",
       "    .dataframe tbody tr th:only-of-type {\n",
       "        vertical-align: middle;\n",
       "    }\n",
       "\n",
       "    .dataframe tbody tr th {\n",
       "        vertical-align: top;\n",
       "    }\n",
       "\n",
       "    .dataframe thead th {\n",
       "        text-align: right;\n",
       "    }\n",
       "</style>\n",
       "<table border=\"1\" class=\"dataframe\">\n",
       "  <thead>\n",
       "    <tr style=\"text-align: right;\">\n",
       "      <th></th>\n",
       "      <th>Unnamed: 0</th>\n",
       "      <th>boxoff</th>\n",
       "      <th>prodcost</th>\n",
       "      <th>dirIncome</th>\n",
       "      <th>dirGender</th>\n",
       "      <th>year</th>\n",
       "      <th>month</th>\n",
       "      <th>genre</th>\n",
       "      <th>numTheatres</th>\n",
       "      <th>profit</th>\n",
       "    </tr>\n",
       "  </thead>\n",
       "  <tbody>\n",
       "    <tr>\n",
       "      <th>0</th>\n",
       "      <td>0</td>\n",
       "      <td>88.648583</td>\n",
       "      <td>44.742936</td>\n",
       "      <td>3.393535</td>\n",
       "      <td>male</td>\n",
       "      <td>2012</td>\n",
       "      <td>3</td>\n",
       "      <td>comedy</td>\n",
       "      <td>139.0</td>\n",
       "      <td>43.905646</td>\n",
       "    </tr>\n",
       "    <tr>\n",
       "      <th>1</th>\n",
       "      <td>1</td>\n",
       "      <td>145.334924</td>\n",
       "      <td>38.835516</td>\n",
       "      <td>1.134711</td>\n",
       "      <td>female</td>\n",
       "      <td>2014</td>\n",
       "      <td>11</td>\n",
       "      <td>drama</td>\n",
       "      <td>213.0</td>\n",
       "      <td>106.499408</td>\n",
       "    </tr>\n",
       "    <tr>\n",
       "      <th>2</th>\n",
       "      <td>2</td>\n",
       "      <td>238.265684</td>\n",
       "      <td>29.532283</td>\n",
       "      <td>2.418883</td>\n",
       "      <td>male</td>\n",
       "      <td>2015</td>\n",
       "      <td>6</td>\n",
       "      <td>other</td>\n",
       "      <td>100.0</td>\n",
       "      <td>208.733401</td>\n",
       "    </tr>\n",
       "    <tr>\n",
       "      <th>3</th>\n",
       "      <td>3</td>\n",
       "      <td>212.714742</td>\n",
       "      <td>157.111899</td>\n",
       "      <td>2.034115</td>\n",
       "      <td>male</td>\n",
       "      <td>2014</td>\n",
       "      <td>10</td>\n",
       "      <td>adventure</td>\n",
       "      <td>436.0</td>\n",
       "      <td>55.602844</td>\n",
       "    </tr>\n",
       "    <tr>\n",
       "      <th>4</th>\n",
       "      <td>4</td>\n",
       "      <td>120.175461</td>\n",
       "      <td>30.547155</td>\n",
       "      <td>0.963219</td>\n",
       "      <td>female</td>\n",
       "      <td>2012</td>\n",
       "      <td>1</td>\n",
       "      <td>comedy</td>\n",
       "      <td>115.0</td>\n",
       "      <td>89.628307</td>\n",
       "    </tr>\n",
       "  </tbody>\n",
       "</table>\n",
       "</div>"
      ],
      "text/plain": [
       "   Unnamed: 0      boxoff    prodcost  dirIncome dirGender  year  month  \\\n",
       "0           0   88.648583   44.742936   3.393535      male  2012      3   \n",
       "1           1  145.334924   38.835516   1.134711    female  2014     11   \n",
       "2           2  238.265684   29.532283   2.418883      male  2015      6   \n",
       "3           3  212.714742  157.111899   2.034115      male  2014     10   \n",
       "4           4  120.175461   30.547155   0.963219    female  2012      1   \n",
       "\n",
       "       genre  numTheatres      profit  \n",
       "0     comedy        139.0   43.905646  \n",
       "1      drama        213.0  106.499408  \n",
       "2      other        100.0  208.733401  \n",
       "3  adventure        436.0   55.602844  \n",
       "4     comedy        115.0   89.628307  "
      ]
     },
     "metadata": {},
     "output_type": "display_data"
    }
   ],
   "source": [
    "# Creating a new column\n",
    "# Add a new column to the dataframe (profit). This column should be the total box office income minus the production cost.\n",
    "df['profit'] = df['boxoff'] - df['prodcost']\n",
    "\n",
    "# Display it \n",
    "display(df.head())"
   ]
  },
  {
   "cell_type": "markdown",
   "id": "214971a8",
   "metadata": {},
   "source": [
    "## Task3: Descriptive Statistics"
   ]
  },
  {
   "cell_type": "code",
   "execution_count": 15,
   "id": "7e3e7580",
   "metadata": {},
   "outputs": [
    {
     "name": "stdout",
     "output_type": "stream",
     "text": [
      "The median for directorIncome column is 1.950844833985145\n",
      "After rounding to 3 decimal places, it is 1.951\n"
     ]
    }
   ],
   "source": [
    "# For the director Income column, print the median, mean, minimal value and maximal value\n",
    "# Get median for directorIncome column\n",
    "med = df['dirIncome'].median()\n",
    "\n",
    "# Print median\n",
    "print(f\"The median for directorIncome column is {med}\")\n",
    "\n",
    "# Round to three decimals and then print it\n",
    "print(\"After rounding to 3 decimal places, it is\", round(med,3))"
   ]
  },
  {
   "cell_type": "code",
   "execution_count": 17,
   "id": "f5081731",
   "metadata": {},
   "outputs": [
    {
     "name": "stdout",
     "output_type": "stream",
     "text": [
      "The mean for directorIncome column is 2.1282219455941407\n",
      "After rounding to 3 decimal places, it is 2.128\n"
     ]
    }
   ],
   "source": [
    "# Get mean for directorIncome column\n",
    "mean = df['dirIncome'].mean()\n",
    "\n",
    "# Print mean\n",
    "print(f\"The mean for directorIncome column is {mean}\")\n",
    "\n",
    "# Round to three decimals and then print it\n",
    "print(\"After rounding to 3 decimal places, it is\",round(mean,3))"
   ]
  },
  {
   "cell_type": "code",
   "execution_count": 18,
   "id": "500a0865",
   "metadata": {},
   "outputs": [
    {
     "name": "stdout",
     "output_type": "stream",
     "text": [
      "The minimum for directorIncome column is 0.2287332260825104\n",
      "After rounding to 3 decimal places, it is 0.229\n"
     ]
    }
   ],
   "source": [
    "# Get minimum for directorIncome column\n",
    "min = df['dirIncome'].min()\n",
    "\n",
    "# Print minimum\n",
    "print(f\"The minimum for directorIncome column is {min}\")\n",
    "\n",
    "# Round to three decimals and then print it\n",
    "print(\"After rounding to 3 decimal places, it is\",round(min,3))"
   ]
  },
  {
   "cell_type": "code",
   "execution_count": 19,
   "id": "342b9291",
   "metadata": {},
   "outputs": [
    {
     "name": "stdout",
     "output_type": "stream",
     "text": [
      "The maximum for directorIncome column is 5.875101572481936\n",
      "After rounding to 3 decimal places, it is 5.875\n"
     ]
    }
   ],
   "source": [
    "# Get minimum for directorIncome column\n",
    "max = df['dirIncome'].max()\n",
    "\n",
    "# Print maximum\n",
    "print(f\"The maximum for directorIncome column is {max}\")\n",
    "\n",
    "# Round to three decimals and then print it\n",
    "print(\"After rounding to 3 decimal places, it is\",round(max,3))"
   ]
  },
  {
   "cell_type": "markdown",
   "id": "d62ecc15",
   "metadata": {},
   "source": [
    "Median for directorIncome column is around 1.951 and mean for directorIncome column is around 2.128.\n",
    "When mean > median, we can tell the distribution is right-skewed."
   ]
  },
  {
   "cell_type": "code",
   "execution_count": 20,
   "id": "b5c3b118",
   "metadata": {},
   "outputs": [
    {
     "data": {
      "text/html": [
       "<div>\n",
       "<style scoped>\n",
       "    .dataframe tbody tr th:only-of-type {\n",
       "        vertical-align: middle;\n",
       "    }\n",
       "\n",
       "    .dataframe tbody tr th {\n",
       "        vertical-align: top;\n",
       "    }\n",
       "\n",
       "    .dataframe thead th {\n",
       "        text-align: right;\n",
       "    }\n",
       "</style>\n",
       "<table border=\"1\" class=\"dataframe\">\n",
       "  <thead>\n",
       "    <tr style=\"text-align: right;\">\n",
       "      <th></th>\n",
       "      <th>Unnamed: 0</th>\n",
       "      <th>boxoff</th>\n",
       "      <th>prodcost</th>\n",
       "      <th>dirIncome</th>\n",
       "      <th>dirGender</th>\n",
       "      <th>year</th>\n",
       "      <th>month</th>\n",
       "      <th>genre</th>\n",
       "      <th>numTheatres</th>\n",
       "      <th>profit</th>\n",
       "    </tr>\n",
       "  </thead>\n",
       "  <tbody>\n",
       "    <tr>\n",
       "      <th>172</th>\n",
       "      <td>172</td>\n",
       "      <td>465.247739</td>\n",
       "      <td>109.604718</td>\n",
       "      <td>2.303829</td>\n",
       "      <td>male</td>\n",
       "      <td>2014</td>\n",
       "      <td>12</td>\n",
       "      <td>action</td>\n",
       "      <td>523.0</td>\n",
       "      <td>355.643022</td>\n",
       "    </tr>\n",
       "  </tbody>\n",
       "</table>\n",
       "</div>"
      ],
      "text/plain": [
       "     Unnamed: 0      boxoff    prodcost  dirIncome dirGender  year  month  \\\n",
       "172         172  465.247739  109.604718   2.303829      male  2014     12   \n",
       "\n",
       "      genre  numTheatres      profit  \n",
       "172  action        523.0  355.643022  "
      ]
     },
     "metadata": {},
     "output_type": "display_data"
    }
   ],
   "source": [
    "# Print out the data for the movie that has the highest box-office income\n",
    "# Get the highest box-office income first\n",
    "max = df['boxoff'].max()\n",
    "\n",
    "# Display the answer\n",
    "display(df.loc[df['boxoff'] == max])"
   ]
  },
  {
   "cell_type": "code",
   "execution_count": 21,
   "id": "1a322247",
   "metadata": {},
   "outputs": [],
   "source": [
    "# Plotting histograms and boxplots\n",
    "# Preliminaries\n",
    "import matplotlib\n",
    "matplotlib.use('TkAgg')\n",
    "import matplotlib.pyplot as plt\n",
    "%matplotlib inline"
   ]
  },
  {
   "cell_type": "code",
   "execution_count": 22,
   "id": "a4f0c675",
   "metadata": {},
   "outputs": [
    {
     "data": {
      "text/plain": [
       "Text(0, 0.5, 'Number')"
      ]
     },
     "execution_count": 22,
     "metadata": {},
     "output_type": "execute_result"
    },
    {
     "data": {
      "image/png": "[encoded data removed]",
      "text/plain": [
       "<Figure size 432x288 with 1 Axes>"
      ]
     },
     "metadata": {
      "needs_background": "light"
     },
     "output_type": "display_data"
    }
   ],
   "source": [
    "# Create a histogram of director Income\n",
    "df['dirIncome'].hist(bins = 15)\n",
    "plt.title('Histogram of Director Income')\n",
    "plt.xlabel('Director Income')\n",
    "plt.ylabel('Number')"
   ]
  },
  {
   "cell_type": "markdown",
   "id": "a63f284e",
   "metadata": {},
   "source": [
    "The number of bins should be set to a value so that the resulting distribution does not reveal too much details and at the same time shows the general trend of the data."
   ]
  },
  {
   "cell_type": "code",
   "execution_count": 23,
   "id": "37cbcb2c",
   "metadata": {},
   "outputs": [
    {
     "data": {
      "text/plain": [
       "Text(0, 0.5, 'Number')"
      ]
     },
     "execution_count": 23,
     "metadata": {},
     "output_type": "execute_result"
    },
    {
     "data": {
      "image/png": "[encoded data removed]",
      "text/plain": [
       "<Figure size 432x288 with 1 Axes>"
      ]
     },
     "metadata": {
      "needs_background": "light"
     },
     "output_type": "display_data"
    }
   ],
   "source": [
    "# Create a boxplot of director Income\n",
    "plt.boxplot(df['dirIncome'])\n",
    "plt.title('Boxplot of Director Income')\n",
    "plt.ylabel('Number')"
   ]
  },
  {
   "cell_type": "code",
   "execution_count": 24,
   "id": "27476a61",
   "metadata": {},
   "outputs": [
    {
     "data": {
      "text/plain": [
       "Text(0, 0.5, 'Number')"
      ]
     },
     "execution_count": 24,
     "metadata": {},
     "output_type": "execute_result"
    },
    {
     "data": {
      "image/png": "[encoded data removed]",
      "text/plain": [
       "<Figure size 432x288 with 1 Axes>"
      ]
     },
     "metadata": {
      "needs_background": "light"
     },
     "output_type": "display_data"
    }
   ],
   "source": [
    "# Create a violinplot of director income\n",
    "plt.violinplot(df['dirIncome'])\n",
    "plt.title('Violinplot of Director Income')\n",
    "plt.xlabel('Director Income')\n",
    "plt.ylabel('Number')"
   ]
  },
  {
   "cell_type": "markdown",
   "id": "c1d4cfc9",
   "metadata": {},
   "source": [
    "* The violinplot of director income shows the range which is from around 0.2 to around 5.9. From the histogram of director income, we can see this distribution is right-skewed. We can find suspected outliers over the upper whisker from the boxplot of director income.\n",
    "* Histograms are convenient for describing the shape of the data distribution. We can check the modality and skewness.\n",
    "* Boxplots show suspected outliers, whiskers, and outliers.\n",
    "* Violin plots show the range very well."
   ]
  }
 ],
 "metadata": {
  "kernelspec": {
   "display_name": "Python 3 (ipykernel)",
   "language": "python",
   "name": "python3"
  },
  "language_info": {
   "codemirror_mode": {
    "name": "ipython",
    "version": 3
   },
   "file_extension": ".py",
   "mimetype": "text/x-python",
   "name": "python",
   "nbconvert_exporter": "python",
   "pygments_lexer": "ipython3",
   "version": "3.9.7"
  }
 },
 "nbformat": 4,
 "nbformat_minor": 5
}
